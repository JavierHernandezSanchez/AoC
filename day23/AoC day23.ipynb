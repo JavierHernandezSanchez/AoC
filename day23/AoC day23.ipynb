{
 "cells": [
  {
   "cell_type": "markdown",
   "id": "2368a312",
   "metadata": {},
   "source": [
    "## Parte 1\n",
    "\n",
    "tenemos un mapa de senderismo donce . es un camino, # es bosque y hay cuestas ^, >, v, <. En las cuestas hay que seguir la dirección descendente y buscamos nunca usar un sendero dos veces, cuál es la ruta más larga que se puede hacer?"
   ]
  },
  {
   "cell_type": "code",
   "execution_count": 3,
   "id": "2d9cc83e",
   "metadata": {},
   "outputs": [],
   "source": [
    "import networkx as nx"
   ]
  },
  {
   "cell_type": "code",
   "execution_count": 4,
   "id": "b1f511b6",
   "metadata": {},
   "outputs": [],
   "source": [
    "def get_input(filename):\n",
    "    grid = []\n",
    "    with open(filename) as file:\n",
    "        for line in file:\n",
    "            grid.append([c for c in line.strip()])\n",
    "    return grid"
   ]
  },
  {
   "cell_type": "code",
   "execution_count": 5,
   "id": "91db038a",
   "metadata": {},
   "outputs": [],
   "source": [
    "def get_io(hiking_map):\n",
    "    icell = (-1, -1)\n",
    "    ocell = (-1, -1)\n",
    "    \n",
    "    for i, c in enumerate(hiking_map[0]):\n",
    "        if c == '.':\n",
    "            icell = (0, i)\n",
    "            break\n",
    "            \n",
    "    for i, c in enumerate(hiking_map[-1]):\n",
    "        if c == '.':\n",
    "            ocell = (len(hiking_map) - 1, i)\n",
    "            break\n",
    "    \n",
    "    return icell, ocell"
   ]
  },
  {
   "cell_type": "code",
   "execution_count": 8,
   "id": "5eb477c5",
   "metadata": {},
   "outputs": [],
   "source": [
    "def get_graph(hiking_map):\n",
    "    h = len(hiking_map)\n",
    "    w = len(hiking_map[0])\n",
    "    graph = {}\n",
    "    \n",
    "    dic_opciones = {'.': [(0, 1), (0, -1), (1, 0), (-1, 0)],\n",
    "                    '>': [(0, 1)],\n",
    "                    '<': [(0, -1)],\n",
    "                    'v': [(1, 0)],\n",
    "                    '^': [(-1, 0)]}\n",
    "    \n",
    "    for i in range(h):\n",
    "        for j in range(w):\n",
    "            if hiking_map[i][j] == '#':\n",
    "                continue\n",
    "            conexiones = []\n",
    "            \n",
    "            cur_opciones = dic_opciones[hiking_map[i][j]]\n",
    "            for di, dj in cur_opciones:\n",
    "                if 0 <= i + di and i + di < h and 0 <= j + dj and j + dj < w:\n",
    "                    if hiking_map[i+di][j+dj] != '#':\n",
    "                        graph[(i, j)] = graph.get((i, j), []) + [(i + di, j + dj)]\n",
    "    return graph"
   ]
  },
  {
   "cell_type": "code",
   "execution_count": 11,
   "id": "3b8045cd",
   "metadata": {},
   "outputs": [],
   "source": [
    "def get_max_path(graph, start, end):\n",
    "    G = nx.from_dict_of_lists(graph, create_using=nx.DiGraph)\n",
    "\n",
    "    max_path = 0\n",
    "    for path in nx.all_simple_paths(G, source=start, target=end):\n",
    "        if len(path) - 1 > max_path:\n",
    "            max_path = len(path) - 1\n",
    "    return max_path "
   ]
  },
  {
   "cell_type": "code",
   "execution_count": 12,
   "id": "406ee1d1",
   "metadata": {},
   "outputs": [
    {
     "data": {
      "text/plain": [
       "94"
      ]
     },
     "execution_count": 12,
     "metadata": {},
     "output_type": "execute_result"
    }
   ],
   "source": [
    "hiking_map = get_input('test.txt')\n",
    "start, end = get_io(hiking_map)\n",
    "graph = get_graph(hiking_map)\n",
    "max_path = get_max_path(graph, start, end)\n",
    "max_path"
   ]
  },
  {
   "cell_type": "code",
   "execution_count": 13,
   "id": "1073b999",
   "metadata": {},
   "outputs": [
    {
     "data": {
      "text/plain": [
       "2370"
      ]
     },
     "execution_count": 13,
     "metadata": {},
     "output_type": "execute_result"
    }
   ],
   "source": [
    "hiking_map = get_input('input.txt')\n",
    "start, end = get_io(hiking_map)\n",
    "graph = get_graph(hiking_map)\n",
    "max_path = get_max_path(graph, start, end)\n",
    "max_path"
   ]
  },
  {
   "cell_type": "markdown",
   "id": "307c6596",
   "metadata": {},
   "source": [
    "## Parte 2\n",
    "\n",
    "las cuestas no son tan empinadas así que se pueden seguir en cualquier dirección, obtener el camino más largo sin repetir ruta."
   ]
  },
  {
   "cell_type": "code",
   "execution_count": 25,
   "id": "5c152c53",
   "metadata": {},
   "outputs": [],
   "source": [
    "def get_long_graph(hiking_map):\n",
    "    h = len(hiking_map)\n",
    "    w = len(hiking_map[0])\n",
    "    opciones = [(0, 1), (0, -1), (1, 0), (-1, 0)]\n",
    "    graph = {}\n",
    "    \n",
    "    for i in range(h):\n",
    "        for j in range(w):\n",
    "            if hiking_map[i][j] == '#':\n",
    "                continue\n",
    "            conexiones = []\n",
    "            \n",
    "            \n",
    "            for di, dj in opciones:\n",
    "                if 0 <= i + di and i + di < h and 0 <= j + dj and j + dj < w:\n",
    "                    if hiking_map[i+di][j+dj] != '#':\n",
    "                        graph[(i, j)] = graph.get((i, j), []) + [(i + di, j + dj, 1)]\n",
    "    return graph"
   ]
  },
  {
   "cell_type": "code",
   "execution_count": 26,
   "id": "0787b6bc",
   "metadata": {},
   "outputs": [],
   "source": [
    "def simplificar(graph):\n",
    "    simp = True\n",
    "    while simp:\n",
    "        simp = False\n",
    "        for k, v in graph.items():\n",
    "            if len(v) == 2:\n",
    "                p1 = v[0]\n",
    "                p2 = v[1]\n",
    "                \n",
    "                graph[p1[0:2]].remove(k + (p1[2],))\n",
    "                graph[p2[0:2]].remove(k + (p2[2],))\n",
    "                \n",
    "                graph[p1[0:2]].append((p2[0], p2[1], p2[2] + p1[2]))\n",
    "                graph[p2[0:2]].append((p1[0], p1[1], p1[2] + p2[2]))\n",
    "                del graph[k]\n",
    "                simp = True\n",
    "                break\n",
    "                \n",
    "    return graph"
   ]
  },
  {
   "cell_type": "code",
   "execution_count": 45,
   "id": "e43d5e62",
   "metadata": {},
   "outputs": [],
   "source": [
    "def get_max_path_w(graph, start, end):\n",
    "    G = nx.DiGraph()\n",
    "    for k in graph.keys():\n",
    "        for v in graph[k]:\n",
    "            G.add_weighted_edges_from([(k, (v[0], v[1]), v[2])])\n",
    "            \n",
    "    max_path = 0\n",
    "    for i, path in enumerate(nx.all_simple_paths(G, start, end)):\n",
    "        coste = nx.path_weight(G, path, \"weight\")\n",
    "        if max_path < coste:\n",
    "            max_path = coste\n",
    "            \n",
    "    return max_path"
   ]
  },
  {
   "cell_type": "code",
   "execution_count": 39,
   "id": "4a34dc4d",
   "metadata": {},
   "outputs": [
    {
     "data": {
      "text/plain": [
       "154"
      ]
     },
     "execution_count": 39,
     "metadata": {},
     "output_type": "execute_result"
    }
   ],
   "source": [
    "hiking_map = get_input('test.txt')\n",
    "start, end = get_io(hiking_map)\n",
    "graph = get_long_graph(hiking_map)\n",
    "simple_graph = simplificar(graph)\n",
    "max_path = get_max_path_w(simple_graph, start, end)\n",
    "max_path"
   ]
  },
  {
   "cell_type": "code",
   "execution_count": 46,
   "id": "febce4d7",
   "metadata": {},
   "outputs": [
    {
     "name": "stdout",
     "output_type": "stream",
     "text": [
      "CPU times: user 2min 2s, sys: 43.9 ms, total: 2min 2s\n",
      "Wall time: 2min 3s\n"
     ]
    },
    {
     "data": {
      "text/plain": [
       "6546"
      ]
     },
     "execution_count": 46,
     "metadata": {},
     "output_type": "execute_result"
    }
   ],
   "source": [
    "%%time\n",
    "hiking_map = get_input('input.txt')\n",
    "start, end = get_io(hiking_map)\n",
    "graph = get_long_graph(hiking_map)\n",
    "simple_graph = simplificar(graph)\n",
    "max_path = get_max_path_w(simple_graph, start, end)\n",
    "max_path"
   ]
  },
  {
   "cell_type": "code",
   "execution_count": null,
   "id": "b10c4bf4",
   "metadata": {},
   "outputs": [],
   "source": []
  }
 ],
 "metadata": {
  "kernelspec": {
   "display_name": "Python 3 (ipykernel)",
   "language": "python",
   "name": "python3"
  },
  "language_info": {
   "codemirror_mode": {
    "name": "ipython",
    "version": 3
   },
   "file_extension": ".py",
   "mimetype": "text/x-python",
   "name": "python",
   "nbconvert_exporter": "python",
   "pygments_lexer": "ipython3",
   "version": "3.8.10"
  }
 },
 "nbformat": 4,
 "nbformat_minor": 5
}
