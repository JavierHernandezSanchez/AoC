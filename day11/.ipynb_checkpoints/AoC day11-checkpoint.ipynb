{
 "cells": [
  {
   "cell_type": "markdown",
   "id": "855a89f4",
   "metadata": {},
   "source": [
    "## Parte 1\n",
    "\n",
    "hay que calcular la distancia mínima entre cada par de galaxias, representadas por # en la entrada. las filas o columnas que no tienen galaxias se duplican.\n",
    "\n",
    "La respuesta es la suma de las distancias mínimas entre cada par de galaxias"
   ]
  },
  {
   "cell_type": "code",
   "execution_count": 4,
   "id": "9701f7ee",
   "metadata": {},
   "outputs": [],
   "source": [
    "def read_input(filename):\n",
    "    universe = []\n",
    "    with open(filename) as file:\n",
    "        for line in file:\n",
    "            universe.append([*line.strip()])\n",
    "    return universe"
   ]
  },
  {
   "cell_type": "code",
   "execution_count": 6,
   "id": "386169b3",
   "metadata": {},
   "outputs": [],
   "source": [
    "def expand_universe(universe):\n",
    "    #expand rows\n",
    "    expanded_universe_rows = []\n",
    "    for row in universe:\n",
    "        expanded_universe_rows.append(row)\n",
    "        if not '#' in row:\n",
    "            expanded_universe_rows.append(row)\n",
    "            \n",
    "    #expand columns\n",
    "    expanded_universe_cols = []\n",
    "    for i in range(len(expanded_universe_rows[0])):\n",
    "        is_empty = True\n",
    "        new_col = []\n",
    "        \n",
    "        for j in range(len(expanded_universe_rows)):\n",
    "            new_col.append(expanded_universe_rows[j][i])\n",
    "            \n",
    "        expanded_universe_cols.append(new_col)\n",
    "        if not '#' in new_col:\n",
    "            expanded_universe_cols.append(new_col)\n",
    "            \n",
    "    #transpose\n",
    "    expanded_universe = []\n",
    "    for i in range(len(expanded_universe_cols[0])):\n",
    "        new_row = []\n",
    "        for j in range(len(expanded_universe_cols)):\n",
    "            new_row.append(expanded_universe_cols[j][i])\n",
    "        expanded_universe.append(new_row)\n",
    "    return expanded_universe"
   ]
  },
  {
   "cell_type": "code",
   "execution_count": 7,
   "id": "1050e2f6",
   "metadata": {},
   "outputs": [],
   "source": [
    "def mark_galaxies(expanded_universe):\n",
    "    count = 1\n",
    "    marked_universe = []\n",
    "    \n",
    "    for i in range(len(expanded_universe)):\n",
    "        new_row = []\n",
    "        for j in range(len(expanded_universe[0])):\n",
    "            if expanded_universe[i][j] != '#':\n",
    "                new_row.append(expanded_universe[i][j])\n",
    "            else:\n",
    "                new_row.append(str(count))\n",
    "                count += 1\n",
    "        marked_universe.append(new_row)\n",
    "    return marked_universe"
   ]
  },
  {
   "cell_type": "code",
   "execution_count": 9,
   "id": "f4b73445",
   "metadata": {},
   "outputs": [],
   "source": [
    "def get_galaxies(marked_universe):\n",
    "    galaxy_pos = {}\n",
    "    for i in range(len(marked_universe)):\n",
    "        for j in range(len(marked_universe[0])):\n",
    "            if marked_universe[i][j] != '.':\n",
    "                galaxy_pos[marked_universe[i][j]] = (i, j)\n",
    "    return galaxy_pos"
   ]
  },
  {
   "cell_type": "code",
   "execution_count": 13,
   "id": "747ee6a7",
   "metadata": {},
   "outputs": [],
   "source": [
    "def get_distance(galaxy_positions):\n",
    "    keys = list(galaxy_positions.keys())\n",
    "    total_distance = 0\n",
    "    \n",
    "    for i in range(len(keys)):\n",
    "        for j in range(i + 1, len(keys)):\n",
    "            fgalaxy = galaxy_positions[keys[i]]\n",
    "            tgalaxy = galaxy_positions[keys[j]]\n",
    "            \n",
    "            dx = abs(tgalaxy[0] - fgalaxy[0])\n",
    "            dy = abs(tgalaxy[1] - fgalaxy[1])\n",
    "            \n",
    "            distance = dx + dy\n",
    "            total_distance += distance\n",
    "    return total_distance"
   ]
  },
  {
   "cell_type": "code",
   "execution_count": 14,
   "id": "ab2a7bf5",
   "metadata": {},
   "outputs": [
    {
     "data": {
      "text/plain": [
       "374"
      ]
     },
     "execution_count": 14,
     "metadata": {},
     "output_type": "execute_result"
    }
   ],
   "source": [
    "universe = read_input('test.txt')\n",
    "expanded_universe = expand_universe(universe)\n",
    "marked_universe = mark_galaxies(expanded_universe)\n",
    "galaxy_positions = get_galaxies(marked_universe)\n",
    "total_distance = get_distance(galaxy_positions)\n",
    "total_distance"
   ]
  },
  {
   "cell_type": "code",
   "execution_count": 15,
   "id": "08de4ae4",
   "metadata": {},
   "outputs": [
    {
     "data": {
      "text/plain": [
       "9693756"
      ]
     },
     "execution_count": 15,
     "metadata": {},
     "output_type": "execute_result"
    }
   ],
   "source": [
    "universe = read_input('input.txt')\n",
    "expanded_universe = expand_universe(universe)\n",
    "marked_universe = mark_galaxies(expanded_universe)\n",
    "galaxy_positions = get_galaxies(marked_universe)\n",
    "total_distance = get_distance(galaxy_positions)\n",
    "total_distance"
   ]
  },
  {
   "cell_type": "markdown",
   "id": "fd8178b9",
   "metadata": {},
   "source": [
    "## Parte 2\n",
    "\n",
    "las filas y columnas vacías se duplican 1000000 veces en lugar de solo 2"
   ]
  },
  {
   "cell_type": "code",
   "execution_count": 16,
   "id": "ddaa39d0",
   "metadata": {},
   "outputs": [],
   "source": [
    "def get_empty_rows(universe):\n",
    "    empty_idx = []\n",
    "    \n",
    "    for i, row in enumerate(universe):\n",
    "        if not '#' in row:\n",
    "            empty_idx.append(i)\n",
    "    return empty_idx"
   ]
  },
  {
   "cell_type": "code",
   "execution_count": 18,
   "id": "0c4c29f4",
   "metadata": {},
   "outputs": [],
   "source": [
    "def get_empty_cols(universe):\n",
    "    empty_idx = []\n",
    "    \n",
    "    for i in range(len(universe[0])):\n",
    "        is_empty = True\n",
    "        new_col = []\n",
    "        \n",
    "        for j in range(len(universe)):\n",
    "            new_col.append(universe[j][i])\n",
    "        \n",
    "        if not '#' in new_col:\n",
    "            empty_idx.append(i)\n",
    "    return empty_idx"
   ]
  },
  {
   "cell_type": "code",
   "execution_count": 25,
   "id": "f6bdc29e",
   "metadata": {},
   "outputs": [],
   "source": [
    "def get_distance_x(galaxy_positions, empty_rows, empty_cols, cte_x):\n",
    "    keys = list(galaxy_positions.keys())\n",
    "    total_distance = 0\n",
    "    \n",
    "    for i in range(len(keys)):\n",
    "        for j in range(i + 1, len(keys)):\n",
    "            fgalaxy = galaxy_positions[keys[i]]\n",
    "            tgalaxy = galaxy_positions[keys[j]]\n",
    "            \n",
    "            dx = abs(tgalaxy[0] - fgalaxy[0])\n",
    "            mingr = min(tgalaxy[0], fgalaxy[0])\n",
    "            maxgr = max(tgalaxy[0], fgalaxy[0])\n",
    "            \n",
    "            for r in empty_rows:\n",
    "                if mingr < r and r < maxgr:\n",
    "                    dx += (cte_x - 1)\n",
    "                    \n",
    "            dy = abs(tgalaxy[1] - fgalaxy[1])\n",
    "            mingc = min(tgalaxy[1], fgalaxy[1])\n",
    "            maxgc = max(tgalaxy[1], fgalaxy[1])\n",
    "            \n",
    "            for c in empty_cols:\n",
    "                if mingc < c and c < maxgc:\n",
    "                    dy += (cte_x - 1)\n",
    "            distance = dx + dy\n",
    "            total_distance += distance\n",
    "    return total_distance"
   ]
  },
  {
   "cell_type": "code",
   "execution_count": 29,
   "id": "aaaf7633",
   "metadata": {},
   "outputs": [
    {
     "data": {
      "text/plain": [
       "1030"
      ]
     },
     "execution_count": 29,
     "metadata": {},
     "output_type": "execute_result"
    }
   ],
   "source": [
    "MUL = 10\n",
    "universe = read_input('test.txt')\n",
    "marked_universe = mark_galaxies(universe)\n",
    "galaxy_positions = get_galaxies(marked_universe)\n",
    "empty_rows = get_empty_rows(universe)\n",
    "empty_cols = get_empty_cols(universe)\n",
    "total_distance = get_distance_x(galaxy_positions, empty_rows, empty_cols, MUL)\n",
    "total_distance"
   ]
  },
  {
   "cell_type": "code",
   "execution_count": 30,
   "id": "707bcc33",
   "metadata": {},
   "outputs": [
    {
     "data": {
      "text/plain": [
       "8410"
      ]
     },
     "execution_count": 30,
     "metadata": {},
     "output_type": "execute_result"
    }
   ],
   "source": [
    "MUL = 100\n",
    "universe = read_input('test.txt')\n",
    "marked_universe = mark_galaxies(universe)\n",
    "galaxy_positions = get_galaxies(marked_universe)\n",
    "empty_rows = get_empty_rows(universe)\n",
    "empty_cols = get_empty_cols(universe)\n",
    "total_distance = get_distance_x(galaxy_positions, empty_rows, empty_cols, MUL)\n",
    "total_distance"
   ]
  },
  {
   "cell_type": "code",
   "execution_count": 31,
   "id": "786e82a4",
   "metadata": {},
   "outputs": [
    {
     "data": {
      "text/plain": [
       "717878258016"
      ]
     },
     "execution_count": 31,
     "metadata": {},
     "output_type": "execute_result"
    }
   ],
   "source": [
    "MUL = 1000000\n",
    "universe = read_input('input.txt')\n",
    "marked_universe = mark_galaxies(universe)\n",
    "galaxy_positions = get_galaxies(marked_universe)\n",
    "empty_rows = get_empty_rows(universe)\n",
    "empty_cols = get_empty_cols(universe)\n",
    "total_distance = get_distance_x(galaxy_positions, empty_rows, empty_cols, MUL)\n",
    "total_distance"
   ]
  },
  {
   "cell_type": "code",
   "execution_count": null,
   "id": "6d55de0a",
   "metadata": {},
   "outputs": [],
   "source": []
  }
 ],
 "metadata": {
  "kernelspec": {
   "display_name": "Python 3 (ipykernel)",
   "language": "python",
   "name": "python3"
  },
  "language_info": {
   "codemirror_mode": {
    "name": "ipython",
    "version": 3
   },
   "file_extension": ".py",
   "mimetype": "text/x-python",
   "name": "python",
   "nbconvert_exporter": "python",
   "pygments_lexer": "ipython3",
   "version": "3.8.10"
  }
 },
 "nbformat": 4,
 "nbformat_minor": 5
}
