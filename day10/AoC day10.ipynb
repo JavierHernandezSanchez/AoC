{
 "cells": [
  {
   "cell_type": "markdown",
   "id": "31235a8b",
   "metadata": {},
   "source": [
    "## Parte 1\n",
    "\n",
    "Cuantos pasos hay desde el inicio del bucle hasta el punto más alejado?\n",
    "\n",
    "los símbolos que hay en el bucle son\n",
    "- | camino vertical\n",
    "- \\- camino horizontal\n",
    "- F esquina superior izquierda\n",
    "- J esquina inferior derecha\n",
    "- 7 esquina superior derecha\n",
    "- L esquina inferior izquierda\n",
    "\n",
    "hay de estos símbolos inconexos y . que son terreno vacío"
   ]
  },
  {
   "cell_type": "code",
   "execution_count": 46,
   "id": "22df1d29",
   "metadata": {},
   "outputs": [],
   "source": [
    "import numpy as np"
   ]
  },
  {
   "cell_type": "code",
   "execution_count": 47,
   "id": "30413316",
   "metadata": {},
   "outputs": [],
   "source": [
    "def get_input(filename):\n",
    "    diagram = []\n",
    "    with open(filename) as file:\n",
    "        for line in file:\n",
    "            diagram.append([*line.strip()])\n",
    "    return diagram"
   ]
  },
  {
   "cell_type": "code",
   "execution_count": 48,
   "id": "d446079c",
   "metadata": {},
   "outputs": [],
   "source": [
    "def findS(diagram):\n",
    "    for i, line in enumerate(diagram):\n",
    "        if 'S' in line:\n",
    "            position = line.index('S')\n",
    "        else:\n",
    "            position = -1\n",
    "            \n",
    "        if position != -1:\n",
    "            return i, position\n",
    "    return -1, -1"
   ]
  },
  {
   "cell_type": "code",
   "execution_count": 49,
   "id": "72a90682",
   "metadata": {},
   "outputs": [],
   "source": [
    "def dirs_from_s(diagram, xs, ys):\n",
    "    #direcciones que se pueden seguir desde S\n",
    "    found_dirs = []\n",
    "    if diagram[xs][ys + 1] in ('-', '7', 'J'):\n",
    "        found_dirs.append((0, 1))\n",
    "    if diagram[xs][ys - 1] in ('-', 'L', 'F'):\n",
    "        found_dirs.append((0, -1))\n",
    "    if diagram[xs + 1][ys] in ('|', 'J', 'L'):\n",
    "        found_dirs.append((1, 0))\n",
    "    if diagram[xs - 1][ys] in ('|', '7', 'F'):\n",
    "        found_dirs.append((-1, 0))\n",
    "    return found_dirs"
   ]
  },
  {
   "cell_type": "code",
   "execution_count": 50,
   "id": "49ede7c7",
   "metadata": {},
   "outputs": [],
   "source": [
    "def traverse_pipe(data, xs, ys, found_dirs):    \n",
    "    curr_dir = found_dirs[0]\n",
    "    curr_pos = [xs + curr_dir[0], ys + curr_dir[1]]\n",
    "    len_path = 1\n",
    "    \n",
    "    while curr_pos[0] != xs or curr_pos[1] != ys:\n",
    "        len_path += 1\n",
    "        \n",
    "        #va hacia la derecha\n",
    "        if curr_dir == (0, 1) and data[curr_pos[0]][curr_pos[1]] == '-':            \n",
    "            curr_dir = (0, 1)\n",
    "        elif curr_dir == (0, 1) and data[curr_pos[0]][curr_pos[1]] == '7':\n",
    "            curr_dir = (1, 0)\n",
    "        elif curr_dir == (0, 1) and data[curr_pos[0]][curr_pos[1]] == 'J':\n",
    "            curr_dir = (-1, 0)\n",
    "        #va hacia la izquierda\n",
    "        if curr_dir == (0, -1) and data[curr_pos[0]][curr_pos[1]] == '-':            \n",
    "            curr_dir = (0, -1)\n",
    "        elif curr_dir == (0, -1) and data[curr_pos[0]][curr_pos[1]] == 'L':\n",
    "            curr_dir = (-1, 0)\n",
    "        elif curr_dir == (0, -1) and data[curr_pos[0]][curr_pos[1]] == 'F':\n",
    "            curr_dir = (1, 0)\n",
    "        #va hacia abajo\n",
    "        if curr_dir == (1, 0) and data[curr_pos[0]][curr_pos[1]] == '|':            \n",
    "            curr_dir = (1, 0)\n",
    "        elif curr_dir == (1, 0) and data[curr_pos[0]][curr_pos[1]] == 'L':\n",
    "            curr_dir = (0, 1)\n",
    "        elif curr_dir == (1, 0) and data[curr_pos[0]][curr_pos[1]] == 'J':\n",
    "            curr_dir = (0, -1)\n",
    "        #va hacia arriba\n",
    "        if curr_dir == (-1, 0) and data[curr_pos[0]][curr_pos[1]] == '|':            \n",
    "            curr_dir = (-1, 0)\n",
    "        elif curr_dir == (-1, 0) and data[curr_pos[0]][curr_pos[1]] == '7':\n",
    "            curr_dir = (0, -1)\n",
    "        elif curr_dir == (-1, 0) and data[curr_pos[0]][curr_pos[1]] == 'F':\n",
    "            curr_dir = (0, 1)\n",
    "        curr_pos[0] += curr_dir[0]\n",
    "        curr_pos[1] += curr_dir[1]\n",
    "        \n",
    "    return len_path"
   ]
  },
  {
   "cell_type": "code",
   "execution_count": 51,
   "id": "59382604",
   "metadata": {},
   "outputs": [
    {
     "data": {
      "text/plain": [
       "4"
      ]
     },
     "execution_count": 51,
     "metadata": {},
     "output_type": "execute_result"
    }
   ],
   "source": [
    "data = get_input('test1.txt')\n",
    "xs, ys = findS(data)\n",
    "found_dirs = dirs_from_s(data, xs, ys)\n",
    "len_pipe = traverse_pipe(data, xs, ys, found_dirs)\n",
    "len_pipe//2"
   ]
  },
  {
   "cell_type": "code",
   "execution_count": 52,
   "id": "4124dc16",
   "metadata": {},
   "outputs": [
    {
     "data": {
      "text/plain": [
       "4"
      ]
     },
     "execution_count": 52,
     "metadata": {},
     "output_type": "execute_result"
    }
   ],
   "source": [
    "data = get_input('test2.txt')\n",
    "xs, ys = findS(data)\n",
    "found_dirs = dirs_from_s(data, xs, ys)\n",
    "len_pipe = traverse_pipe(data, xs, ys, found_dirs)\n",
    "len_pipe//2"
   ]
  },
  {
   "cell_type": "code",
   "execution_count": 53,
   "id": "de118e85",
   "metadata": {},
   "outputs": [
    {
     "data": {
      "text/plain": [
       "8"
      ]
     },
     "execution_count": 53,
     "metadata": {},
     "output_type": "execute_result"
    }
   ],
   "source": [
    "data = get_input('test3.txt')\n",
    "xs, ys = findS(data)\n",
    "found_dirs = dirs_from_s(data, xs, ys)\n",
    "len_pipe = traverse_pipe(data, xs, ys, found_dirs)\n",
    "len_pipe//2"
   ]
  },
  {
   "cell_type": "code",
   "execution_count": 54,
   "id": "6cafbec4",
   "metadata": {},
   "outputs": [
    {
     "data": {
      "text/plain": [
       "8"
      ]
     },
     "execution_count": 54,
     "metadata": {},
     "output_type": "execute_result"
    }
   ],
   "source": [
    "data = get_input('test4.txt')\n",
    "xs, ys = findS(data)\n",
    "found_dirs = dirs_from_s(data, xs, ys)\n",
    "len_pipe = traverse_pipe(data, xs, ys, found_dirs)\n",
    "len_pipe//2"
   ]
  },
  {
   "cell_type": "code",
   "execution_count": 55,
   "id": "e460988b",
   "metadata": {},
   "outputs": [
    {
     "data": {
      "text/plain": [
       "23"
      ]
     },
     "execution_count": 55,
     "metadata": {},
     "output_type": "execute_result"
    }
   ],
   "source": [
    "data = get_input('test5.txt')\n",
    "xs, ys = findS(data)\n",
    "found_dirs = dirs_from_s(data, xs, ys)\n",
    "len_pipe = traverse_pipe(data, xs, ys, found_dirs)\n",
    "len_pipe//2"
   ]
  },
  {
   "cell_type": "code",
   "execution_count": 56,
   "id": "f1f5cf28",
   "metadata": {},
   "outputs": [
    {
     "data": {
      "text/plain": [
       "70"
      ]
     },
     "execution_count": 56,
     "metadata": {},
     "output_type": "execute_result"
    }
   ],
   "source": [
    "data = get_input('test6.txt')\n",
    "xs, ys = findS(data)\n",
    "found_dirs = dirs_from_s(data, xs, ys)\n",
    "len_pipe = traverse_pipe(data, xs, ys, found_dirs)\n",
    "len_pipe//2"
   ]
  },
  {
   "cell_type": "code",
   "execution_count": 57,
   "id": "ed38127b",
   "metadata": {},
   "outputs": [
    {
     "data": {
      "text/plain": [
       "80"
      ]
     },
     "execution_count": 57,
     "metadata": {},
     "output_type": "execute_result"
    }
   ],
   "source": [
    "data = get_input('test7.txt')\n",
    "xs, ys = findS(data)\n",
    "found_dirs = dirs_from_s(data, xs, ys)\n",
    "len_pipe = traverse_pipe(data, xs, ys, found_dirs)\n",
    "len_pipe//2"
   ]
  },
  {
   "cell_type": "code",
   "execution_count": 58,
   "id": "15c9ba9e",
   "metadata": {},
   "outputs": [
    {
     "data": {
      "text/plain": [
       "7145"
      ]
     },
     "execution_count": 58,
     "metadata": {},
     "output_type": "execute_result"
    }
   ],
   "source": [
    "data = get_input('input.txt')\n",
    "xs, ys = findS(data)\n",
    "found_dirs = dirs_from_s(data, xs, ys)\n",
    "len_pipe = traverse_pipe(data, xs, ys, found_dirs)\n",
    "len_pipe//2"
   ]
  },
  {
   "cell_type": "markdown",
   "id": "91c4a6fe",
   "metadata": {},
   "source": [
    "## Parte 2\n",
    "\n",
    "encontrar las celdas encerradas dentro del bucle"
   ]
  },
  {
   "cell_type": "code",
   "execution_count": 59,
   "id": "e0a8c2ef",
   "metadata": {},
   "outputs": [],
   "source": [
    "def traverse_pipe2(data, xs, ys, found_dirs):\n",
    "    curr_dir = found_dirs[0]\n",
    "    curr_pos = [xs + curr_dir[0], ys + curr_dir[1]]\n",
    "    \n",
    "    len_path = 1\n",
    "    #mapa de donde hay bucle\n",
    "    pipes = []\n",
    "    for i in range(len(data)):\n",
    "        line = []\n",
    "        for j in range(len(data[0])):\n",
    "            line.append(0)\n",
    "        pipes.append(line)\n",
    "        \n",
    "    \n",
    "    pipes[xs][ys] = 1\n",
    "    \n",
    "    while curr_pos[0] != xs or curr_pos[1] != ys:\n",
    "        len_path += 1\n",
    "        pipes[curr_pos[0]][curr_pos[1]] = 1\n",
    "        #va hacia la derecha\n",
    "        if curr_dir == (0, 1) and data[curr_pos[0]][curr_pos[1]] == '-':            \n",
    "            curr_dir = (0, 1)\n",
    "        elif curr_dir == (0, 1) and data[curr_pos[0]][curr_pos[1]] == '7':\n",
    "            curr_dir = (1, 0)\n",
    "        elif curr_dir == (0, 1) and data[curr_pos[0]][curr_pos[1]] == 'J':\n",
    "            curr_dir = (-1, 0)\n",
    "        #va hacia la izquierda\n",
    "        if curr_dir == (0, -1) and data[curr_pos[0]][curr_pos[1]] == '-':            \n",
    "            curr_dir = (0, -1)\n",
    "        elif curr_dir == (0, -1) and data[curr_pos[0]][curr_pos[1]] == 'L':\n",
    "            curr_dir = (-1, 0)\n",
    "        elif curr_dir == (0, -1) and data[curr_pos[0]][curr_pos[1]] == 'F':\n",
    "            curr_dir = (1, 0)\n",
    "        #va hacia abajo\n",
    "        if curr_dir == (1, 0) and data[curr_pos[0]][curr_pos[1]] == '|':            \n",
    "            curr_dir = (1, 0)\n",
    "        elif curr_dir == (1, 0) and data[curr_pos[0]][curr_pos[1]] == 'L':\n",
    "            curr_dir = (0, 1)\n",
    "        elif curr_dir == (1, 0) and data[curr_pos[0]][curr_pos[1]] == 'J':\n",
    "            curr_dir = (0, -1)\n",
    "        #va hacia arriba\n",
    "        if curr_dir == (-1, 0) and data[curr_pos[0]][curr_pos[1]] == '|':            \n",
    "            curr_dir = (-1, 0)\n",
    "        elif curr_dir == (-1, 0) and data[curr_pos[0]][curr_pos[1]] == '7':\n",
    "            curr_dir = (0, -1)\n",
    "        elif curr_dir == (-1, 0) and data[curr_pos[0]][curr_pos[1]] == 'F':\n",
    "            curr_dir = (0, 1)\n",
    "        curr_pos[0] += curr_dir[0]\n",
    "        curr_pos[1] += curr_dir[1]\n",
    "        \n",
    "    return len_path, pipes"
   ]
  },
  {
   "cell_type": "code",
   "execution_count": 60,
   "id": "26d26c1f",
   "metadata": {},
   "outputs": [],
   "source": [
    "def replaceS(data, xs, ys, found_dirs):\n",
    "    if (found_dirs[0] == (-1, 0) and found_dirs[1] == (1, 0)) or (found_dirs[0] == (1, 0) and found_dirs[1] == (-1, 0)):\n",
    "        data[xs][ys] = '|'\n",
    "    elif (found_dirs[0] == (-1, 0) and found_dirs[1] == (0, -1)) or (found_dirs[0] == (0, -1) and found_dirs[1] == (-1, 0)):\n",
    "        data[xs][ys] = 'J'\n",
    "    elif (found_dirs[0] == (-1, 0) and found_dirs[1] == (0, 1)) or\\\n",
    "         (found_dirs[0] == (0, 1) and found_dirs[1] == (-1, 0)):\n",
    "        data[xs][ys] = 'L'\n",
    "        \n",
    "    return data"
   ]
  },
  {
   "cell_type": "code",
   "execution_count": 78,
   "id": "63500ecc",
   "metadata": {},
   "outputs": [],
   "source": [
    "def count_inside(data, pipes):\n",
    "    height = len(data)\n",
    "    width = len(data[0])\n",
    "    \n",
    "    contador = 0\n",
    "    for i in range(height):\n",
    "        is_in = False\n",
    "        for j in range(width):\n",
    "            if pipes[i][j]:\n",
    "                if data[i][j] in ['|', 'J', 'L']:\n",
    "                    is_in = not is_in\n",
    "            elif is_in:\n",
    "                    contador += 1\n",
    "    return contador"
   ]
  },
  {
   "cell_type": "code",
   "execution_count": 79,
   "id": "1a0a1ca3",
   "metadata": {},
   "outputs": [
    {
     "data": {
      "text/plain": [
       "1"
      ]
     },
     "execution_count": 79,
     "metadata": {},
     "output_type": "execute_result"
    }
   ],
   "source": [
    "data = get_input('test1.txt')\n",
    "xs, ys = findS(data)\n",
    "found_dirs = dirs_from_s(data, xs, ys)\n",
    "len_pipe, pipes = traverse_pipe2(data, xs, ys, found_dirs)\n",
    "data = replaceS(data, xs, ys, found_dirs)\n",
    "inside = count_inside(data, pipes)\n",
    "inside"
   ]
  },
  {
   "cell_type": "code",
   "execution_count": 81,
   "id": "45a024f9",
   "metadata": {},
   "outputs": [
    {
     "data": {
      "text/plain": [
       "1"
      ]
     },
     "execution_count": 81,
     "metadata": {},
     "output_type": "execute_result"
    }
   ],
   "source": [
    "data = get_input('test2.txt')\n",
    "xs, ys = findS(data)\n",
    "found_dirs = dirs_from_s(data, xs, ys)\n",
    "len_pipe, pipes = traverse_pipe2(data, xs, ys, found_dirs)\n",
    "data = replaceS(data, xs, ys, found_dirs)\n",
    "inside = count_inside(data, pipes)\n",
    "inside"
   ]
  },
  {
   "cell_type": "code",
   "execution_count": 82,
   "id": "1323caf9",
   "metadata": {},
   "outputs": [
    {
     "data": {
      "text/plain": [
       "1"
      ]
     },
     "execution_count": 82,
     "metadata": {},
     "output_type": "execute_result"
    }
   ],
   "source": [
    "data = get_input('test3.txt')\n",
    "xs, ys = findS(data)\n",
    "found_dirs = dirs_from_s(data, xs, ys)\n",
    "len_pipe, pipes = traverse_pipe2(data, xs, ys, found_dirs)\n",
    "data = replaceS(data, xs, ys, found_dirs)\n",
    "inside = count_inside(data, pipes)\n",
    "inside"
   ]
  },
  {
   "cell_type": "code",
   "execution_count": 83,
   "id": "4361f50c",
   "metadata": {},
   "outputs": [
    {
     "data": {
      "text/plain": [
       "1"
      ]
     },
     "execution_count": 83,
     "metadata": {},
     "output_type": "execute_result"
    }
   ],
   "source": [
    "data = get_input('test4.txt')\n",
    "xs, ys = findS(data)\n",
    "found_dirs = dirs_from_s(data, xs, ys)\n",
    "len_pipe, pipes = traverse_pipe2(data, xs, ys, found_dirs)\n",
    "data = replaceS(data, xs, ys, found_dirs)\n",
    "inside = count_inside(data, pipes)\n",
    "inside"
   ]
  },
  {
   "cell_type": "code",
   "execution_count": 84,
   "id": "725bcdaf",
   "metadata": {},
   "outputs": [
    {
     "data": {
      "text/plain": [
       "4"
      ]
     },
     "execution_count": 84,
     "metadata": {},
     "output_type": "execute_result"
    }
   ],
   "source": [
    "data = get_input('test5.txt')\n",
    "xs, ys = findS(data)\n",
    "found_dirs = dirs_from_s(data, xs, ys)\n",
    "len_pipe, pipes = traverse_pipe2(data, xs, ys, found_dirs)\n",
    "data = replaceS(data, xs, ys, found_dirs)\n",
    "inside = count_inside(data, pipes)\n",
    "inside"
   ]
  },
  {
   "cell_type": "code",
   "execution_count": 85,
   "id": "a281fbf9",
   "metadata": {},
   "outputs": [
    {
     "data": {
      "text/plain": [
       "8"
      ]
     },
     "execution_count": 85,
     "metadata": {},
     "output_type": "execute_result"
    }
   ],
   "source": [
    "data = get_input('test6.txt')\n",
    "xs, ys = findS(data)\n",
    "found_dirs = dirs_from_s(data, xs, ys)\n",
    "len_pipe, pipes = traverse_pipe2(data, xs, ys, found_dirs)\n",
    "data = replaceS(data, xs, ys, found_dirs)\n",
    "inside = count_inside(data, pipes)\n",
    "inside"
   ]
  },
  {
   "cell_type": "code",
   "execution_count": 86,
   "id": "eb9a9a5c",
   "metadata": {},
   "outputs": [
    {
     "data": {
      "text/plain": [
       "10"
      ]
     },
     "execution_count": 86,
     "metadata": {},
     "output_type": "execute_result"
    }
   ],
   "source": [
    "data = get_input('test7.txt')\n",
    "xs, ys = findS(data)\n",
    "found_dirs = dirs_from_s(data, xs, ys)\n",
    "len_pipe, pipes = traverse_pipe2(data, xs, ys, found_dirs)\n",
    "data = replaceS(data, xs, ys, found_dirs)\n",
    "inside = count_inside(data, pipes)\n",
    "inside"
   ]
  },
  {
   "cell_type": "code",
   "execution_count": 87,
   "id": "71d38776",
   "metadata": {},
   "outputs": [
    {
     "data": {
      "text/plain": [
       "445"
      ]
     },
     "execution_count": 87,
     "metadata": {},
     "output_type": "execute_result"
    }
   ],
   "source": [
    "data = get_input('input.txt')\n",
    "xs, ys = findS(data)\n",
    "found_dirs = dirs_from_s(data, xs, ys)\n",
    "len_pipe, pipes = traverse_pipe2(data, xs, ys, found_dirs)\n",
    "data = replaceS(data, xs, ys, found_dirs)\n",
    "inside = count_inside(data, pipes)\n",
    "inside"
   ]
  },
  {
   "cell_type": "code",
   "execution_count": null,
   "id": "d39efc1e",
   "metadata": {},
   "outputs": [],
   "source": []
  }
 ],
 "metadata": {
  "kernelspec": {
   "display_name": "Python 3 (ipykernel)",
   "language": "python",
   "name": "python3"
  },
  "language_info": {
   "codemirror_mode": {
    "name": "ipython",
    "version": 3
   },
   "file_extension": ".py",
   "mimetype": "text/x-python",
   "name": "python",
   "nbconvert_exporter": "python",
   "pygments_lexer": "ipython3",
   "version": "3.8.10"
  }
 },
 "nbformat": 4,
 "nbformat_minor": 5
}
