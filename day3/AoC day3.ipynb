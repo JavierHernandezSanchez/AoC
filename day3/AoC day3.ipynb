{
 "cells": [
  {
   "cell_type": "markdown",
   "id": "dd3e33a8",
   "metadata": {},
   "source": [
    "## Parte 1\n",
    "\n",
    "encontrar la suma de todos los números que son adyacentes a un símbolo (distinto de '.') incluso si es en diagonal"
   ]
  },
  {
   "cell_type": "code",
   "execution_count": 1,
   "id": "75791a8c",
   "metadata": {},
   "outputs": [],
   "source": [
    "import re"
   ]
  },
  {
   "cell_type": "code",
   "execution_count": 6,
   "id": "9ae4ee27",
   "metadata": {},
   "outputs": [],
   "source": [
    "def test_pos(line, p, s):\n",
    "    #comprobamos la línea desde p-1 hasta p+s+1\n",
    "    found = False\n",
    "    init = p-1 if p-1>=0 else p\n",
    "    end = p+s+1 if p+s+1 < len(line) else p+s\n",
    "    \n",
    "    for i in range(init, end):\n",
    "        if line[i] != '.':\n",
    "            found = True\n",
    "            break\n",
    "    return found\n",
    "\n",
    "def test_num(lines, l, p, s):\n",
    "    #línea anterior\n",
    "    found_ant = False\n",
    "    if l - 1 >= 0:\n",
    "        found_ant = test_pos(lines[l - 1], p, s)\n",
    "        \n",
    "    #línea actual\n",
    "    ant_symbol = False\n",
    "    if p - 1 >= 0:\n",
    "        ant_symbol = lines[l][p - 1] != '.'\n",
    "    \n",
    "    sig_symbol = False\n",
    "    if p+s < len(lines[l]):\n",
    "        sig_symbol = lines[l][p+s] != '.'\n",
    "        \n",
    "    found_in = ant_symbol or sig_symbol\n",
    "    \n",
    "    #línea siguiente\n",
    "    found_sig = False\n",
    "    if l + 1 < len(lines):\n",
    "        found_sig = test_pos(lines[l + 1], p, s)\n",
    "        \n",
    "    return found_ant or found_in or found_sig\n",
    "\n",
    "def process(lines, numbers):\n",
    "    acum = 0\n",
    "    for k, v in numbers.items():\n",
    "        l = k[0]\n",
    "        p = k[1]\n",
    "        s = len(v)\n",
    "        \n",
    "        is_part = test_num(lines, l, p, s)\n",
    "        if is_part:\n",
    "            acum += int(v)\n",
    "    return acum"
   ]
  },
  {
   "cell_type": "code",
   "execution_count": 7,
   "id": "aed29c7a",
   "metadata": {},
   "outputs": [],
   "source": [
    "def get_input(filename):\n",
    "    numbers = {}\n",
    "    lines = []\n",
    "    asts = []\n",
    "    \n",
    "    with open(filename) as file:\n",
    "        for i, line in enumerate(file):\n",
    "            lines.append(line.strip())\n",
    "            \n",
    "            m = re.finditer('\\d+', line)            \n",
    "            for match in m:\n",
    "                s = match.start()\n",
    "                num = match.group()\n",
    "                numbers[(i, s)] = num\n",
    "                \n",
    "            n = re.finditer('\\*', line)\n",
    "            for match in n:\n",
    "                s = match.start()\n",
    "                asts.append((i, s))\n",
    "                \n",
    "    return numbers, lines, asts"
   ]
  },
  {
   "cell_type": "code",
   "execution_count": 8,
   "id": "099fde81",
   "metadata": {},
   "outputs": [
    {
     "data": {
      "text/plain": [
       "4361"
      ]
     },
     "execution_count": 8,
     "metadata": {},
     "output_type": "execute_result"
    }
   ],
   "source": [
    "numbers, lines, asts = get_input('test.txt')\n",
    "acum = process(lines, numbers)\n",
    "acum"
   ]
  },
  {
   "cell_type": "code",
   "execution_count": 9,
   "id": "86f44d41",
   "metadata": {},
   "outputs": [
    {
     "data": {
      "text/plain": [
       "537832"
      ]
     },
     "execution_count": 9,
     "metadata": {},
     "output_type": "execute_result"
    }
   ],
   "source": [
    "numbers, lines, asts = get_input('input.txt')\n",
    "acum = process(lines, numbers)\n",
    "acum"
   ]
  },
  {
   "cell_type": "markdown",
   "id": "56906355",
   "metadata": {},
   "source": [
    "## Parte 2\n",
    "\n",
    "un engranaje es un asterisco adyacente exactamente a dos números, hay que multiplicarlos para encontrar el valor del engranaje y sumarlos todos "
   ]
  },
  {
   "cell_type": "code",
   "execution_count": 11,
   "id": "5c4bbc15",
   "metadata": {},
   "outputs": [],
   "source": [
    "def check_ast(ast_line, ast_pos, numbers):\n",
    "    engine_nums = []\n",
    "    for k, v in numbers.items():\n",
    "        num_line = k[0]\n",
    "        num_pos = k[1]\n",
    "        num_size = len(v)\n",
    "        \n",
    "        # misma línea 128* o *128\n",
    "        if num_line == ast_line:\n",
    "            if num_pos + num_size == ast_pos:\n",
    "                engine_nums.append(v)\n",
    "            elif ast_pos + 1 == num_pos:\n",
    "                engine_nums.append(v)\n",
    "                \n",
    "        # linea anterior\n",
    "        # ...128...\n",
    "        # ..*......\n",
    "        if num_line == ast_line - 1:\n",
    "            if num_pos - 1 <= ast_pos and ast_pos <= num_pos + num_size:\n",
    "                engine_nums.append(v)\n",
    "                \n",
    "        # línea siguiente\n",
    "        # ..*......\n",
    "        # ...128...\n",
    "        if num_line == ast_line + 1:\n",
    "            if num_pos - 1 <= ast_pos and ast_pos <= num_pos + num_size:\n",
    "                engine_nums.append(v)\n",
    "    return engine_nums"
   ]
  },
  {
   "cell_type": "code",
   "execution_count": 15,
   "id": "a1096016",
   "metadata": {},
   "outputs": [],
   "source": [
    "def get_gear_ratio(asts, numbers):\n",
    "    gear_ratio_acum = 0\n",
    "    for i, j in asts:\n",
    "        nums = check_ast(i, j, numbers)\n",
    "        if len(nums) == 2:\n",
    "            gear_ratio = int(nums[0]) * int(nums[1])\n",
    "            gear_ratio_acum += gear_ratio\n",
    "    return gear_ratio_acum"
   ]
  },
  {
   "cell_type": "code",
   "execution_count": 16,
   "id": "511f8022",
   "metadata": {},
   "outputs": [
    {
     "data": {
      "text/plain": [
       "467835"
      ]
     },
     "execution_count": 16,
     "metadata": {},
     "output_type": "execute_result"
    }
   ],
   "source": [
    "numbers, lines, asts = get_input('test.txt')\n",
    "gear_ratio_acum = get_gear_ratio(asts, numbers)\n",
    "gear_ratio_acum"
   ]
  },
  {
   "cell_type": "code",
   "execution_count": 17,
   "id": "a75a6761",
   "metadata": {},
   "outputs": [
    {
     "data": {
      "text/plain": [
       "81939900"
      ]
     },
     "execution_count": 17,
     "metadata": {},
     "output_type": "execute_result"
    }
   ],
   "source": [
    "numbers, lines, asts = get_input('input.txt')\n",
    "gear_ratio_acum = get_gear_ratio(asts, numbers)\n",
    "gear_ratio_acum"
   ]
  },
  {
   "cell_type": "code",
   "execution_count": null,
   "id": "d6ba24dc",
   "metadata": {},
   "outputs": [],
   "source": []
  }
 ],
 "metadata": {
  "kernelspec": {
   "display_name": "Python 3 (ipykernel)",
   "language": "python",
   "name": "python3"
  },
  "language_info": {
   "codemirror_mode": {
    "name": "ipython",
    "version": 3
   },
   "file_extension": ".py",
   "mimetype": "text/x-python",
   "name": "python",
   "nbconvert_exporter": "python",
   "pygments_lexer": "ipython3",
   "version": "3.8.10"
  }
 },
 "nbformat": 4,
 "nbformat_minor": 5
}
