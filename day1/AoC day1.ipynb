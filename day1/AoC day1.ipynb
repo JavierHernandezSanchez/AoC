{
 "cells": [
  {
   "cell_type": "markdown",
   "id": "3a628621",
   "metadata": {},
   "source": [
    "## Parte 1\n",
    "recuperar los \"valores de calibración\" compuestos por el primer y el último dígito contenido en la cadena y concatenado para formar un único número de dos dígitos"
   ]
  },
  {
   "cell_type": "code",
   "execution_count": 1,
   "id": "a7267258",
   "metadata": {},
   "outputs": [],
   "source": [
    "import re"
   ]
  },
  {
   "cell_type": "code",
   "execution_count": 12,
   "id": "6a88721b",
   "metadata": {},
   "outputs": [],
   "source": [
    "def get_input(filename):    \n",
    "    data = []\n",
    "    with open(filename) as file:\n",
    "        for line in file:\n",
    "            data.append(line.strip())\n",
    "    return data        "
   ]
  },
  {
   "cell_type": "code",
   "execution_count": 24,
   "id": "fd39f863",
   "metadata": {},
   "outputs": [],
   "source": [
    "def sum_nums(data):\n",
    "    acum = 0\n",
    "    for line in data:\n",
    "        nums = re.findall('\\d', line)\n",
    "        curr = int(nums[0] + nums[-1])\n",
    "        acum += curr\n",
    "    return acum"
   ]
  },
  {
   "cell_type": "code",
   "execution_count": 25,
   "id": "c41a0957",
   "metadata": {},
   "outputs": [
    {
     "data": {
      "text/plain": [
       "142"
      ]
     },
     "execution_count": 25,
     "metadata": {},
     "output_type": "execute_result"
    }
   ],
   "source": [
    "data = get_input('test.txt')\n",
    "acum = sum_nums(data)\n",
    "acum"
   ]
  },
  {
   "cell_type": "code",
   "execution_count": 26,
   "id": "8d6b6ffa",
   "metadata": {},
   "outputs": [
    {
     "data": {
      "text/plain": [
       "54597"
      ]
     },
     "execution_count": 26,
     "metadata": {},
     "output_type": "execute_result"
    }
   ],
   "source": [
    "data = get_input('input.txt')\n",
    "acum = sum_nums(data)\n",
    "acum"
   ]
  },
  {
   "cell_type": "markdown",
   "id": "55575379",
   "metadata": {},
   "source": [
    "## Parte 2\n",
    "\n",
    "en la cadena también pueden haber números escritos con letras: one, two, three, four, five, six, seven, eight y nine. Hay que contarlos como números válidos y recalcular"
   ]
  },
  {
   "cell_type": "code",
   "execution_count": 31,
   "id": "a9b2e94f",
   "metadata": {},
   "outputs": [],
   "source": [
    "def sum_nums_text(data):\n",
    "    dic_numbers = {'one': '1', 'two': '2', 'three': '3', \n",
    "                   'four': '4', 'five': '5', 'six': '6', \n",
    "                   'seven': '7', 'eight': '8', 'nine': '9'}\n",
    "    acum = 0\n",
    "    for line in data:\n",
    "        #el ?= sirve para indicar que la expresión no es voraz\n",
    "        nums = re.findall('(?=(\\d|one|two|three|four|five|six|seven|eight|nine))', line, re.I)\n",
    "        nums = [n for n in nums if n != '']\n",
    "        \n",
    "        curr = int(dic_numbers.get(nums[0], nums[0]) + dic_numbers.get(nums[-1], nums[-1]))\n",
    "        acum += curr\n",
    "    return acum"
   ]
  },
  {
   "cell_type": "code",
   "execution_count": 32,
   "id": "1ed6f6d8",
   "metadata": {},
   "outputs": [
    {
     "data": {
      "text/plain": [
       "142"
      ]
     },
     "execution_count": 32,
     "metadata": {},
     "output_type": "execute_result"
    }
   ],
   "source": [
    "data = get_input('test.txt')\n",
    "acum = sum_nums_text(data)\n",
    "acum"
   ]
  },
  {
   "cell_type": "code",
   "execution_count": 33,
   "id": "87ffe844",
   "metadata": {},
   "outputs": [
    {
     "data": {
      "text/plain": [
       "54504"
      ]
     },
     "execution_count": 33,
     "metadata": {},
     "output_type": "execute_result"
    }
   ],
   "source": [
    "data = get_input('input.txt')\n",
    "acum = sum_nums_text(data)\n",
    "acum"
   ]
  },
  {
   "cell_type": "code",
   "execution_count": null,
   "id": "eed67b69",
   "metadata": {},
   "outputs": [],
   "source": []
  }
 ],
 "metadata": {
  "kernelspec": {
   "display_name": "Python 3 (ipykernel)",
   "language": "python",
   "name": "python3"
  },
  "language_info": {
   "codemirror_mode": {
    "name": "ipython",
    "version": 3
   },
   "file_extension": ".py",
   "mimetype": "text/x-python",
   "name": "python",
   "nbconvert_exporter": "python",
   "pygments_lexer": "ipython3",
   "version": "3.8.10"
  }
 },
 "nbformat": 4,
 "nbformat_minor": 5
}
