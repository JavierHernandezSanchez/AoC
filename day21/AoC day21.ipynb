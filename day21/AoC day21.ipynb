{
 "cells": [
  {
   "cell_type": "markdown",
   "id": "3a0b51de",
   "metadata": {},
   "source": [
    "## Parte 1\n",
    "\n",
    "dado un tablero que contiene jardines (.) y rocas (#), tras n pasos desde la posición inicial S, a cuantos jardínes se podrá llegar?\n",
    "\n",
    "La respuesta es para n = 64"
   ]
  },
  {
   "cell_type": "code",
   "execution_count": 5,
   "id": "2bbf99a1",
   "metadata": {},
   "outputs": [],
   "source": [
    "def get_input(filename):\n",
    "    garden_map = []\n",
    "    with open(filename) as file:\n",
    "        for line in file:\n",
    "            garden_map.append([p for p in line.strip()])\n",
    "    \n",
    "    spos = (-1, -1)\n",
    "    for i in range(len(garden_map)):\n",
    "        for j in range(len(garden_map[0])):\n",
    "            if garden_map[i][j] == 'S':\n",
    "                spos = (i, j)\n",
    "                break\n",
    "                \n",
    "    return garden_map, spos"
   ]
  },
  {
   "cell_type": "code",
   "execution_count": 26,
   "id": "a8007a66",
   "metadata": {},
   "outputs": [],
   "source": [
    "def walk(garden_map, spos, nsteps):\n",
    "    h = len(garden_map)\n",
    "    w = len(garden_map[0])\n",
    "    curr = set([spos])\n",
    "    dirs = [(1, 0), (-1, 0), (0, 1), (0, -1)]    \n",
    "    \n",
    "    for i in range(nsteps):\n",
    "        new_curr = set()\n",
    "        \n",
    "        for x, y in curr:\n",
    "            for dx, dy in dirs:\n",
    "                nx = x + dx\n",
    "                ny = y + dy\n",
    "                \n",
    "                if 0 <= nx and nx < w and 0 <= ny and ny < h and garden_map[ny][nx] != '#':\n",
    "                    new_curr.add((nx, ny))\n",
    "        curr = new_curr\n",
    "    return len(curr)"
   ]
  },
  {
   "cell_type": "code",
   "execution_count": 28,
   "id": "ff22a4cc",
   "metadata": {},
   "outputs": [
    {
     "data": {
      "text/plain": [
       "16"
      ]
     },
     "execution_count": 28,
     "metadata": {},
     "output_type": "execute_result"
    }
   ],
   "source": [
    "garden_map, spos = get_input('test.txt')\n",
    "walk(garden_map, spos, 6)"
   ]
  },
  {
   "cell_type": "code",
   "execution_count": 29,
   "id": "bd0738d6",
   "metadata": {},
   "outputs": [
    {
     "data": {
      "text/plain": [
       "3682"
      ]
     },
     "execution_count": 29,
     "metadata": {},
     "output_type": "execute_result"
    }
   ],
   "source": [
    "garden_map, spos = get_input('input.txt')\n",
    "walk(garden_map, spos, 64)"
   ]
  },
  {
   "cell_type": "markdown",
   "id": "277e2d72",
   "metadata": {},
   "source": [
    "## Parte 2\n",
    "\n",
    "en lugar de 64 pasos hay que recorrer 26501365, el tablero se repite indefinidamente en todas direcciones."
   ]
  },
  {
   "cell_type": "code",
   "execution_count": 30,
   "id": "61b1e319",
   "metadata": {},
   "outputs": [],
   "source": [
    "garden_map, spos = get_input('input.txt')\n",
    "h = len(garden_map)\n",
    "w = len(garden_map[0])"
   ]
  },
  {
   "cell_type": "code",
   "execution_count": 33,
   "id": "11410782",
   "metadata": {},
   "outputs": [
    {
     "data": {
      "text/plain": [
       "((65, 65), 131, 131)"
      ]
     },
     "execution_count": 33,
     "metadata": {},
     "output_type": "execute_result"
    }
   ],
   "source": [
    "spos, h, w"
   ]
  },
  {
   "cell_type": "markdown",
   "id": "4e8eaaf3",
   "metadata": {},
   "source": [
    "### Nota 1:\n",
    "\n",
    "- S está justo en el medio del tablero\n",
    "- Si se mira el fichero en texto hay un rombo \n",
    "- la fila y la columna del centro no tienen rocas, tras 65 pasos sin obstáculos se llega al límite del tablero por los 4 lados. En concreto en (65, 0), (65, 130), (0, 65) y (130, 65)"
   ]
  },
  {
   "cell_type": "code",
   "execution_count": 36,
   "id": "806f0600",
   "metadata": {},
   "outputs": [
    {
     "data": {
      "text/plain": [
       "202300.0"
      ]
     },
     "execution_count": 36,
     "metadata": {},
     "output_type": "execute_result"
    }
   ],
   "source": [
    "# descontando el garden_map inicial los pasos son múltiplos del tamaño del tablero\n",
    "steps = 26501365\n",
    "(steps - 65) / 131"
   ]
  },
  {
   "cell_type": "markdown",
   "id": "f084b1e4",
   "metadata": {},
   "source": [
    "## Estado final\n",
    "al final habrá: \n",
    "- mapas completos (pares e impares)\n",
    "- esquinas \n",
    "- diferentes tipos de bordes"
   ]
  },
  {
   "cell_type": "markdown",
   "id": "9315319b",
   "metadata": {},
   "source": [
    "### Completos"
   ]
  },
  {
   "cell_type": "code",
   "execution_count": 119,
   "id": "3fbca33f",
   "metadata": {},
   "outputs": [
    {
     "data": {
      "text/plain": [
       "7407"
      ]
     },
     "execution_count": 119,
     "metadata": {},
     "output_type": "execute_result"
    }
   ],
   "source": [
    "#mapa completo impar\n",
    "garden_map, spos = get_input('input.txt')\n",
    "ocupadas_impar = walk(garden_map, spos, 65+131+1)\n",
    "ocupadas_impar"
   ]
  },
  {
   "cell_type": "code",
   "execution_count": 118,
   "id": "5427b19e",
   "metadata": {},
   "outputs": [
    {
     "data": {
      "text/plain": [
       "7474"
      ]
     },
     "execution_count": 118,
     "metadata": {},
     "output_type": "execute_result"
    }
   ],
   "source": [
    "#mapa completo par\n",
    "garden_map, spos = get_input('input.txt')\n",
    "ocupadas_par = walk(garden_map, spos, 65+131)\n",
    "ocupadas_par"
   ]
  },
  {
   "cell_type": "markdown",
   "id": "acb526e0",
   "metadata": {},
   "source": [
    "### Esquinas"
   ]
  },
  {
   "cell_type": "code",
   "execution_count": 120,
   "id": "5baf3868",
   "metadata": {},
   "outputs": [
    {
     "data": {
      "text/plain": [
       "5577"
      ]
     },
     "execution_count": 120,
     "metadata": {},
     "output_type": "execute_result"
    }
   ],
   "source": [
    "#esquina superior\n",
    "garden_map, spos = get_input('input.txt')\n",
    "ocupadas_esq1 = walk(garden_map, (65, 0), 130)\n",
    "ocupadas_esq1"
   ]
  },
  {
   "cell_type": "code",
   "execution_count": 121,
   "id": "3f791f5f",
   "metadata": {},
   "outputs": [
    {
     "data": {
      "text/plain": [
       "5577"
      ]
     },
     "execution_count": 121,
     "metadata": {},
     "output_type": "execute_result"
    }
   ],
   "source": [
    "#esquina inferior\n",
    "garden_map, spos = get_input('input.txt')\n",
    "ocupadas_esq2 = walk(garden_map, (0, 65), 130)\n",
    "ocupadas_esq2"
   ]
  },
  {
   "cell_type": "code",
   "execution_count": 122,
   "id": "39711281",
   "metadata": {},
   "outputs": [
    {
     "data": {
      "text/plain": [
       "5572"
      ]
     },
     "execution_count": 122,
     "metadata": {},
     "output_type": "execute_result"
    }
   ],
   "source": [
    "#esquina izquierda\n",
    "garden_map, spos = get_input('input.txt')\n",
    "ocupadas_esq3 = walk(garden_map, (130, 65), 130)\n",
    "ocupadas_esq3"
   ]
  },
  {
   "cell_type": "code",
   "execution_count": 123,
   "id": "62bb2556",
   "metadata": {},
   "outputs": [
    {
     "data": {
      "text/plain": [
       "5572"
      ]
     },
     "execution_count": 123,
     "metadata": {},
     "output_type": "execute_result"
    }
   ],
   "source": [
    "#esquina derecha\n",
    "garden_map, spos = get_input('input.txt')\n",
    "ocupadas_esq4 = walk(garden_map, (65, 130), 130)\n",
    "ocupadas_esq4"
   ]
  },
  {
   "cell_type": "markdown",
   "id": "97d24420",
   "metadata": {},
   "source": [
    "### Bordes pequeños"
   ]
  },
  {
   "cell_type": "code",
   "execution_count": 124,
   "id": "8dab22aa",
   "metadata": {},
   "outputs": [
    {
     "data": {
      "text/plain": [
       "958"
      ]
     },
     "execution_count": 124,
     "metadata": {},
     "output_type": "execute_result"
    }
   ],
   "source": [
    "#borde \"pequeño\" empieza arriba derecha, llega desde una esquina porque el borde del tablero está vacío\n",
    "garden_map, spos = get_input('input.txt')\n",
    "ocupadas_bp1 = walk(garden_map, (130, 0), 64)\n",
    "ocupadas_bp1"
   ]
  },
  {
   "cell_type": "code",
   "execution_count": 125,
   "id": "de559974",
   "metadata": {},
   "outputs": [
    {
     "data": {
      "text/plain": [
       "953"
      ]
     },
     "execution_count": 125,
     "metadata": {},
     "output_type": "execute_result"
    }
   ],
   "source": [
    "#borde \"pequeño\" empieza arriba izquierda, llega desde una esquina porque el borde del tablero está vacío\n",
    "garden_map, spos = get_input('input.txt')\n",
    "ocupadas_bp2 = walk(garden_map, (0, 0), 64)\n",
    "ocupadas_bp2"
   ]
  },
  {
   "cell_type": "code",
   "execution_count": 126,
   "id": "bc0c0bf3",
   "metadata": {},
   "outputs": [
    {
     "data": {
      "text/plain": [
       "942"
      ]
     },
     "execution_count": 126,
     "metadata": {},
     "output_type": "execute_result"
    }
   ],
   "source": [
    "#borde \"pequeño\" empieza abajo derecha, llega desde una esquina porque el borde del tablero está vacío\n",
    "garden_map, spos = get_input('input.txt')\n",
    "ocupadas_bp3 = walk(garden_map, (130, 130), 64)\n",
    "ocupadas_bp3"
   ]
  },
  {
   "cell_type": "code",
   "execution_count": 127,
   "id": "b115fead",
   "metadata": {},
   "outputs": [
    {
     "data": {
      "text/plain": [
       "939"
      ]
     },
     "execution_count": 127,
     "metadata": {},
     "output_type": "execute_result"
    }
   ],
   "source": [
    "#borde \"pequeño\" empieza abajo izquierda, llega desde una esquina porque el borde del tablero está vacío\n",
    "garden_map, spos = get_input('input.txt')\n",
    "ocupadas_bp4 = walk(garden_map, (0, 130), 64)\n",
    "ocupadas_bp4"
   ]
  },
  {
   "cell_type": "markdown",
   "id": "b8c419f3",
   "metadata": {},
   "source": [
    "### Bordes Grandes"
   ]
  },
  {
   "cell_type": "code",
   "execution_count": 128,
   "id": "0151ab77",
   "metadata": {},
   "outputs": [
    {
     "data": {
      "text/plain": [
       "6500"
      ]
     },
     "execution_count": 128,
     "metadata": {},
     "output_type": "execute_result"
    }
   ],
   "source": [
    "#borde \"grande\" empieza abajo izquierda\n",
    "garden_map, spos = get_input('input.txt')\n",
    "ocupadas_bg1 = walk(garden_map, (130, 0), 131 + 64)\n",
    "ocupadas_bg1"
   ]
  },
  {
   "cell_type": "code",
   "execution_count": 129,
   "id": "4c1bfcb4",
   "metadata": {},
   "outputs": [
    {
     "data": {
      "text/plain": [
       "6484"
      ]
     },
     "execution_count": 129,
     "metadata": {},
     "output_type": "execute_result"
    }
   ],
   "source": [
    "#borde \"grande\" empieza arriba izquierda\n",
    "garden_map, spos = get_input('input.txt')\n",
    "ocupadas_bg2 = walk(garden_map, (0, 0), 131 + 64)\n",
    "ocupadas_bg2"
   ]
  },
  {
   "cell_type": "code",
   "execution_count": 130,
   "id": "4299b907",
   "metadata": {},
   "outputs": [
    {
     "data": {
      "text/plain": [
       "6500"
      ]
     },
     "execution_count": 130,
     "metadata": {},
     "output_type": "execute_result"
    }
   ],
   "source": [
    "#borde \"grande\" empieza arriba derecha\n",
    "garden_map, spos = get_input('input.txt')\n",
    "ocupadas_bg3 = walk(garden_map, (0, 130), 131 + 64)\n",
    "ocupadas_bg3"
   ]
  },
  {
   "cell_type": "code",
   "execution_count": 131,
   "id": "95aebaa3",
   "metadata": {},
   "outputs": [
    {
     "data": {
      "text/plain": [
       "6479"
      ]
     },
     "execution_count": 131,
     "metadata": {},
     "output_type": "execute_result"
    }
   ],
   "source": [
    "#borde \"grande\" empieza abajo derecha\n",
    "garden_map, spos = get_input('input.txt')\n",
    "ocupadas_bg4 = walk(garden_map, (130, 130), 131 + 64)\n",
    "ocupadas_bg4"
   ]
  },
  {
   "cell_type": "markdown",
   "id": "443fd17f",
   "metadata": {},
   "source": [
    "### Total"
   ]
  },
  {
   "cell_type": "code",
   "execution_count": 132,
   "id": "9dad311e",
   "metadata": {},
   "outputs": [],
   "source": [
    "radio_rombo = (steps - 65) // 131"
   ]
  },
  {
   "cell_type": "code",
   "execution_count": 133,
   "id": "da40c677",
   "metadata": {},
   "outputs": [
    {
     "data": {
      "text/plain": [
       "40925290000"
      ]
     },
     "execution_count": 133,
     "metadata": {},
     "output_type": "execute_result"
    }
   ],
   "source": [
    "npares = ((radio_rombo // 2) * 2) ** 2\n",
    "npares"
   ]
  },
  {
   "cell_type": "code",
   "execution_count": 134,
   "id": "ea9568f9",
   "metadata": {},
   "outputs": [
    {
     "data": {
      "text/plain": [
       "40924885401"
      ]
     },
     "execution_count": 134,
     "metadata": {},
     "output_type": "execute_result"
    }
   ],
   "source": [
    "nimpares = ((radio_rombo // 2) * 2 - 1) ** 2\n",
    "nimpares"
   ]
  },
  {
   "cell_type": "code",
   "execution_count": 135,
   "id": "865ebbc9",
   "metadata": {},
   "outputs": [],
   "source": [
    "peso_esquinas = ocupadas_esq1 + ocupadas_esq2 + ocupadas_esq3 + ocupadas_esq4\n",
    "peso_borde_peq = ocupadas_bp1 + ocupadas_bp2 + ocupadas_bp3 + ocupadas_bp4\n",
    "peso_borde_gra = ocupadas_bg1 + ocupadas_bg2 + ocupadas_bg3 + ocupadas_bg4"
   ]
  },
  {
   "cell_type": "code",
   "execution_count": 136,
   "id": "e6452c1f",
   "metadata": {},
   "outputs": [],
   "source": [
    "peso = npares * ocupadas_par +\\\n",
    "       nimpares * ocupadas_impar +\\\n",
    "       radio_rombo * peso_borde_peq +\\\n",
    "       (radio_rombo - 1) * peso_borde_gra +\\\n",
    "       peso_esquinas"
   ]
  },
  {
   "cell_type": "code",
   "execution_count": 137,
   "id": "422c8ed4",
   "metadata": {},
   "outputs": [
    {
     "data": {
      "text/plain": [
       "609012263058042"
      ]
     },
     "execution_count": 137,
     "metadata": {},
     "output_type": "execute_result"
    }
   ],
   "source": [
    "peso"
   ]
  },
  {
   "cell_type": "code",
   "execution_count": null,
   "id": "73488ea7",
   "metadata": {},
   "outputs": [],
   "source": []
  }
 ],
 "metadata": {
  "kernelspec": {
   "display_name": "Python 3 (ipykernel)",
   "language": "python",
   "name": "python3"
  },
  "language_info": {
   "codemirror_mode": {
    "name": "ipython",
    "version": 3
   },
   "file_extension": ".py",
   "mimetype": "text/x-python",
   "name": "python",
   "nbconvert_exporter": "python",
   "pygments_lexer": "ipython3",
   "version": "3.8.10"
  }
 },
 "nbformat": 4,
 "nbformat_minor": 5
}
