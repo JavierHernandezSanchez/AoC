{
 "cells": [
  {
   "cell_type": "markdown",
   "id": "1db90aec",
   "metadata": {},
   "source": [
    "## Parte 1\n",
    "\n",
    "tenemos una serie de registros donde resorte que funciona y # significa que hay un resorte roto, ? significa que se desconoce.\n",
    "\n",
    "En cada registro hay una comprobación en forma de números separados por comas donde se indica el número de grupos de resortes rotos.\n",
    "\n",
    "se pide encontrar en número de distintas combinaciones de ? para que los números sean correctos"
   ]
  },
  {
   "cell_type": "code",
   "execution_count": 22,
   "id": "65255089",
   "metadata": {},
   "outputs": [],
   "source": [
    "import itertools\n",
    "import regex as re\n",
    "from functools import lru_cache"
   ]
  },
  {
   "cell_type": "code",
   "execution_count": 15,
   "id": "55cee2d8",
   "metadata": {},
   "outputs": [],
   "source": [
    "def get_input(filename):\n",
    "    cond_records = []\n",
    "    \n",
    "    with open(filename) as file:\n",
    "        for line in file:\n",
    "            cond_records.append(line.strip())\n",
    "    \n",
    "    draws = []\n",
    "    counts = []\n",
    "    qmarks = []\n",
    "    spring_marks = []\n",
    "    springs_lacking = []\n",
    "    \n",
    "    for record in cond_records:\n",
    "        parts = record.split(' ')\n",
    "        draw = parts[0]\n",
    "        qmarks.append(draw.count('?'))\n",
    "        spring_marks.append(draw.count('#'))\n",
    "        draws.append(draw)\n",
    "        \n",
    "        count = [int(p) for p in parts[1].split(',')]\n",
    "        counts.append(count)\n",
    "        springs_lacking.append(sum(count) - draw.count('#'))\n",
    "    return draws, counts, qmarks, spring_marks, springs_lacking"
   ]
  },
  {
   "cell_type": "code",
   "execution_count": 16,
   "id": "fb97754b",
   "metadata": {},
   "outputs": [],
   "source": [
    "def check_line(line, count):\n",
    "    groups = re.findall('#+', line)\n",
    "    group_counts = [len(g) for g in groups]\n",
    "    \n",
    "    return group_counts == count"
   ]
  },
  {
   "cell_type": "code",
   "execution_count": 17,
   "id": "5451e145",
   "metadata": {},
   "outputs": [],
   "source": [
    "def fix_records(springs_lacking, qmarks, draws, counts):\n",
    "    nlines = len(springs_lacking)\n",
    "    \n",
    "    count_ok = 0\n",
    "    \n",
    "    for i in range(nlines):\n",
    "        for p in list(itertools.product(['#', '.'], repeat=qmarks[i])):\n",
    "            if p.count('#') != springs_lacking[i]:\n",
    "                continue\n",
    "            curr_draw = draws[i]\n",
    "            \n",
    "            for symbol in p:\n",
    "                curr_draw = curr_draw.replace('?', symbol, 1)\n",
    "            \n",
    "            if check_line(curr_draw, counts[i]):\n",
    "                count_ok += 1\n",
    "                \n",
    "    return count_ok"
   ]
  },
  {
   "cell_type": "code",
   "execution_count": 19,
   "id": "20a18234",
   "metadata": {},
   "outputs": [
    {
     "data": {
      "text/plain": [
       "21"
      ]
     },
     "execution_count": 19,
     "metadata": {},
     "output_type": "execute_result"
    }
   ],
   "source": [
    "draws, counts, qmarks, spring_marks, springs_lacking = get_input('test.txt')\n",
    "fix_records(springs_lacking, qmarks, draws, counts)"
   ]
  },
  {
   "cell_type": "code",
   "execution_count": 20,
   "id": "70ec49dd",
   "metadata": {},
   "outputs": [
    {
     "data": {
      "text/plain": [
       "7460"
      ]
     },
     "execution_count": 20,
     "metadata": {},
     "output_type": "execute_result"
    }
   ],
   "source": [
    "draws, counts, qmarks, spring_marks, springs_lacking = get_input('input.txt')\n",
    "fix_records(springs_lacking, qmarks, draws, counts)"
   ]
  },
  {
   "cell_type": "markdown",
   "id": "4ce02ebc",
   "metadata": {},
   "source": [
    "## Parte 2\n",
    "\n",
    "los registros estaban doblados, hay que usar 5 copias de cada registro separadas por una interrogación \"?\", también hay que reemplazar las listas de resortes dañados por cinco copias separadas por una coma "
   ]
  },
  {
   "cell_type": "code",
   "execution_count": 21,
   "id": "6751db5f",
   "metadata": {},
   "outputs": [],
   "source": [
    "def get_input2(filename):\n",
    "    draws = []\n",
    "    counts = []\n",
    "    \n",
    "    with open(filename) as file:\n",
    "        for line in file:\n",
    "            parts = line.split(' ')\n",
    "            draw = parts[0]\n",
    "            #hay que usar tuplas para poder usar caches\n",
    "            count = tuple(int(p) for p in parts[1].split(','))\n",
    "            draws.append(draw)\n",
    "            counts.append(count)\n",
    "    return draws, counts"
   ]
  },
  {
   "cell_type": "code",
   "execution_count": 23,
   "id": "759f436b",
   "metadata": {},
   "outputs": [],
   "source": [
    "@lru_cache(maxsize=None)\n",
    "def count_posibles(line, counts, cont_grupo):\n",
    "    if len(line) == 0:\n",
    "        #es una solución?\n",
    "        if len(counts) == 0 and cont_grupo == 0:\n",
    "            return 1\n",
    "        else:\n",
    "            return 0\n",
    "        \n",
    "    posibles = 0\n",
    "    \n",
    "    if line[0] == '?':\n",
    "        probar = ['#', '.']\n",
    "    else:\n",
    "        probar = line[0]\n",
    "        \n",
    "    for p in probar:\n",
    "        if p == '#':\n",
    "            posibles += count_posibles(line[1:], counts, cont_grupo + 1)\n",
    "        else:\n",
    "            if cont_grupo > 0:                \n",
    "                #si el grupo está completo pasa al siguiente\n",
    "                if len(counts) > 0 and counts[0] == cont_grupo:                    \n",
    "                    posibles += count_posibles(line[1:], counts[1:], 0)\n",
    "            else:\n",
    "                #si el grupo no está completo mueve hacia adelante\n",
    "                posibles += count_posibles(line[1:], counts, 0)\n",
    "    return posibles                    "
   ]
  },
  {
   "cell_type": "code",
   "execution_count": 24,
   "id": "ac5e5966",
   "metadata": {},
   "outputs": [],
   "source": [
    "def process_all(draws, counts):\n",
    "    posibles = 0\n",
    "    for d, c in zip(draws, counts):\n",
    "        extended_d = '?'.join([d]*5)\n",
    "        extended_c = c*5\n",
    "        posibles += count_posibles(extended_d + '.', extended_c, 0)\n",
    "    return posibles"
   ]
  },
  {
   "cell_type": "code",
   "execution_count": 25,
   "id": "5ed21837",
   "metadata": {},
   "outputs": [
    {
     "data": {
      "text/plain": [
       "525152"
      ]
     },
     "execution_count": 25,
     "metadata": {},
     "output_type": "execute_result"
    }
   ],
   "source": [
    "draws, counts = get_input2('test.txt')\n",
    "posibles = process_all(draws, counts)\n",
    "posibles"
   ]
  },
  {
   "cell_type": "code",
   "execution_count": 26,
   "id": "1acb66ed",
   "metadata": {},
   "outputs": [
    {
     "data": {
      "text/plain": [
       "6720660274964"
      ]
     },
     "execution_count": 26,
     "metadata": {},
     "output_type": "execute_result"
    }
   ],
   "source": [
    "draws, counts = get_input2('input.txt')\n",
    "posibles = process_all(draws, counts)\n",
    "posibles"
   ]
  },
  {
   "cell_type": "code",
   "execution_count": null,
   "id": "0dc3e8a2",
   "metadata": {},
   "outputs": [],
   "source": []
  }
 ],
 "metadata": {
  "kernelspec": {
   "display_name": "Python 3 (ipykernel)",
   "language": "python",
   "name": "python3"
  },
  "language_info": {
   "codemirror_mode": {
    "name": "ipython",
    "version": 3
   },
   "file_extension": ".py",
   "mimetype": "text/x-python",
   "name": "python",
   "nbconvert_exporter": "python",
   "pygments_lexer": "ipython3",
   "version": "3.8.10"
  }
 },
 "nbformat": 4,
 "nbformat_minor": 5
}
