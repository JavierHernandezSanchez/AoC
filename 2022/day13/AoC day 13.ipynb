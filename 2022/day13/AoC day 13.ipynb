{
 "cells": [
  {
   "cell_type": "markdown",
   "id": "f973a4ba",
   "metadata": {},
   "source": [
    "# --- Day 13: Distress Signal ---\n",
    "\n",
    "You climb the hill and again try contacting the Elves. However, you instead receive a signal you weren't expecting: a distress signal.\n",
    "\n",
    "Your handheld device must still not be working properly; the packets from the distress signal got decoded out of order. You'll need to re-order the list of received packets (your puzzle input) to decode the message.\n",
    "\n",
    "Your list consists of pairs of packets; pairs are separated by a blank line. You need to identify how many pairs of packets are in the right order.\n",
    "\n",
    "For example:\n",
    "\n",
    "[1,1,3,1,1] <br>\n",
    "[1,1,5,1,1]\n",
    "\n",
    "[[1],[2,3,4]] <br>\n",
    "[[1],4]\n",
    "\n",
    "[9] <br>\n",
    "[[8,7,6]]\n",
    "\n",
    "[[4,4],4,4] <br>\n",
    "[[4,4],4,4,4]\n",
    "\n",
    "[7,7,7,7] <br>\n",
    "[7,7,7]\n",
    "\n",
    "[] <br>\n",
    "[3]\n",
    "\n",
    "[[[]]] <br>\n",
    "[[]]\n",
    "\n",
    "[1,[2,[3,[4,[5,6,7]]]],8,9] <br>\n",
    "[1,[2,[3,[4,[5,6,0]]]],8,9]\n",
    "\n",
    "Packet data consists of lists and integers. Each list starts with [, ends with ], and contains zero or more comma-separated values (either integers or other lists). Each packet is always a list and appears on its own line.\n",
    "\n",
    "When comparing two values, the first value is called left and the second value is called right. Then:\n",
    "\n",
    "\n",
    "- If both values are integers, the lower integer should come first. If the left integer is lower than the right integer, the inputs are in the right order. If the left integer is higher than the right integer, the inputs are not in the right order. Otherwise, the inputs are the same integer; continue checking the next part of the input.\n",
    "- If both values are lists, compare the first value of each list, then the second value, and so on. If the left list runs out of items first, the inputs are in the right order. If the right list runs out of items first, the inputs are not in the right order. If the lists are the same length and no comparison makes a decision about the order, continue checking the next part of the input.\n",
    "- If exactly one value is an integer, convert the integer to a list which contains that integer as its only value, then retry the comparison. For example, if comparing [0,0,0] and 2, convert the right value to [2] (a list containing 2); the result is then found by instead comparing [0,0,0] and [2].\n",
    "\n",
    "Using these rules, you can determine which of the pairs in the example are in the right order:\n",
    "\n",
    "== Pair 1 ==\n",
    "- Compare [1,1,3,1,1] vs [1,1,5,1,1]\n",
    "  - Compare 1 vs 1\n",
    "  - Compare 1 vs 1\n",
    "  - Compare 3 vs 5\n",
    "    - Left side is smaller, so inputs are in the right order\n",
    "\n",
    "== Pair 2 ==\n",
    "- Compare [[1],[2,3,4]] vs [[1],4]\n",
    "  - Compare [1] vs [1]\n",
    "    - Compare 1 vs 1\n",
    "  - Compare [2,3,4] vs 4\n",
    "    - Mixed types; convert right to [4] and retry comparison\n",
    "    - Compare [2,3,4] vs [4]\n",
    "      - Compare 2 vs 4\n",
    "        - Left side is smaller, so inputs are in the right order\n",
    "\n",
    "== Pair 3 ==\n",
    "- Compare [9] vs [[8,7,6]]\n",
    "  - Compare 9 vs [8,7,6]\n",
    "    - Mixed types; convert left to [9] and retry comparison\n",
    "    - Compare [9] vs [8,7,6]\n",
    "      - Compare 9 vs 8\n",
    "        - Right side is smaller, so inputs are not in the right order\n",
    "\n",
    "== Pair 4 ==\n",
    "- Compare [[4,4],4,4] vs [[4,4],4,4,4]\n",
    "  - Compare [4,4] vs [4,4]\n",
    "    - Compare 4 vs 4\n",
    "    - Compare 4 vs 4\n",
    "  - Compare 4 vs 4\n",
    "  - Compare 4 vs 4\n",
    "  - Left side ran out of items, so inputs are in the right order\n",
    "\n",
    "== Pair 5 ==\n",
    "- Compare [7,7,7,7] vs [7,7,7]\n",
    "  - Compare 7 vs 7\n",
    "  - Compare 7 vs 7\n",
    "  - Compare 7 vs 7\n",
    "  - Right side ran out of items, so inputs are not in the right order\n",
    "\n",
    "== Pair 6 ==\n",
    "- Compare [] vs [3]\n",
    "  - Left side ran out of items, so inputs are in the right order\n",
    "\n",
    "== Pair 7 ==\n",
    "- Compare [[[]]] vs [[]]\n",
    "  - Compare [[]] vs []\n",
    "    - Right side ran out of items, so inputs are not in the right order\n",
    "\n",
    "== Pair 8 ==\n",
    "- Compare [1,[2,[3,[4,[5,6,7]]]],8,9] vs [1,[2,[3,[4,[5,6,0]]]],8,9]\n",
    "  - Compare 1 vs 1\n",
    "  - Compare [2,[3,[4,[5,6,7]]]] vs [2,[3,[4,[5,6,0]]]]\n",
    "    - Compare 2 vs 2\n",
    "    - Compare [3,[4,[5,6,7]]] vs [3,[4,[5,6,0]]]\n",
    "      - Compare 3 vs 3\n",
    "      - Compare [4,[5,6,7]] vs [4,[5,6,0]]\n",
    "        - Compare 4 vs 4\n",
    "        - Compare [5,6,7] vs [5,6,0]\n",
    "          - Compare 5 vs 5\n",
    "          - Compare 6 vs 6\n",
    "          - Compare 7 vs 0\n",
    "            - Right side is smaller, so inputs are not in the right order\n",
    "            \n",
    "What are the indices of the pairs that are already in the right order? (The first pair has index 1, the second pair has index 2, and so on.) In the above example, the pairs in the right order are 1, 2, 4, and 6; the sum of these indices is 13.\n",
    "\n",
    "Determine which pairs of packets are already in the right order. What is the sum of the indices of those pairs?            "
   ]
  },
  {
   "cell_type": "code",
   "execution_count": 1,
   "id": "1976b68c",
   "metadata": {},
   "outputs": [],
   "source": [
    "def read_input(filename):\n",
    "    packet_list = []\n",
    "    packet_pair = []\n",
    "    second = False\n",
    "    with open(filename) as file:\n",
    "        for line in file:\n",
    "            if line.strip() == '':\n",
    "                packet_list.append(packet_pair)\n",
    "                packet_pair = []\n",
    "            else:\n",
    "                packet = eval(line)\n",
    "                packet_pair.append(packet)\n",
    "    return packet_list\n",
    "            \n",
    "        "
   ]
  },
  {
   "cell_type": "code",
   "execution_count": 2,
   "id": "e2fe08cf",
   "metadata": {},
   "outputs": [],
   "source": [
    "def compare_lists(left, right):\n",
    "    if isinstance(left, int) and isinstance(right, int):\n",
    "        #print(f'{left} y {right} son enteros')\n",
    "        if left < right:\n",
    "            return True\n",
    "        elif left > right:\n",
    "            return False\n",
    "        else:\n",
    "            return None\n",
    "    elif isinstance(left, list) and isinstance(right, list):\n",
    "        if not left and not right:\n",
    "            return None\n",
    "        elif not left and right:\n",
    "            return True\n",
    "        elif left and not right:\n",
    "            return False\n",
    "        else:\n",
    "            l = left.pop(0)\n",
    "            r = right.pop(0)\n",
    "            resultado = compare_lists(l, r)\n",
    "            if resultado is None:\n",
    "                return compare_lists(left, right)\n",
    "            else:\n",
    "                return resultado        \n",
    "    elif isinstance(left, list) and isinstance(right, int):\n",
    "        return compare_lists(left, [right])        \n",
    "    elif isinstance(left, int) and isinstance(right, list):\n",
    "        return compare_lists([left], right)  \n",
    "    else:\n",
    "        print(f'else: {left}, {right}')"
   ]
  },
  {
   "cell_type": "code",
   "execution_count": 3,
   "id": "aa1b80b5",
   "metadata": {},
   "outputs": [],
   "source": [
    "def solve(filename):\n",
    "    packet_list = read_input(filename)\n",
    "    index_sum = 0\n",
    "    for i, packets in enumerate(packet_list):\n",
    "        left, right = packets\n",
    "        result = compare_lists(left, right)\n",
    "        if result:\n",
    "            index_sum += i + 1\n",
    "    return index_sum"
   ]
  },
  {
   "cell_type": "code",
   "execution_count": 4,
   "id": "7ca6d4c7",
   "metadata": {},
   "outputs": [
    {
     "data": {
      "text/plain": [
       "13"
      ]
     },
     "execution_count": 4,
     "metadata": {},
     "output_type": "execute_result"
    }
   ],
   "source": [
    "solve('test.txt')"
   ]
  },
  {
   "cell_type": "code",
   "execution_count": 5,
   "id": "6080f35a",
   "metadata": {},
   "outputs": [
    {
     "data": {
      "text/plain": [
       "6428"
      ]
     },
     "execution_count": 5,
     "metadata": {},
     "output_type": "execute_result"
    }
   ],
   "source": [
    "solve('input.txt')"
   ]
  },
  {
   "cell_type": "markdown",
   "id": "899dbaf2",
   "metadata": {},
   "source": [
    "# --- Part Two ---\n",
    "\n",
    "Now, you just need to put all of the packets in the right order. Disregard the blank lines in your list of received packets.\n",
    "\n",
    "The distress signal protocol also requires that you include two additional divider packets:\n",
    "\n",
    "[[2]] <br>\n",
    "[[6]]\n",
    "\n",
    "Using the same rules as before, organize all packets - the ones in your list of received packets as well as the two divider packets - into the correct order.\n",
    "\n",
    "For the example above, the result of putting the packets in the correct order is:\n",
    "\n",
    "[] <br>\n",
    "[[]] <br>\n",
    "[[[]]] <br>\n",
    "[1,1,3,1,1] <br>\n",
    "[1,1,5,1,1] <br>\n",
    "[[1],[2,3,4]] <br>\n",
    "[1,[2,[3,[4,[5,6,0]]]],8,9] <br>\n",
    "[1,[2,[3,[4,[5,6,7]]]],8,9] <br>\n",
    "[[1],4] <br>\n",
    "[[2]] <br>\n",
    "[3] <br>\n",
    "[[4,4],4,4] <br>\n",
    "[[4,4],4,4,4] <br>\n",
    "[[6]] <br>\n",
    "[7,7,7] <br>\n",
    "[7,7,7,7] <br>\n",
    "[[8,7,6]] <br>\n",
    "[9] <br>\n",
    "\n",
    "Afterward, locate the divider packets. To find the decoder key for this distress signal, you need to determine the indices of the two divider packets and multiply them together. (The first packet is at index 1, the second packet is at index 2, and so on.) In this example, the divider packets are 10th and 14th, and so the decoder key is 140.\n",
    "\n",
    "Organize all of the packets into the correct order. What is the decoder key for the distress signal?"
   ]
  },
  {
   "cell_type": "code",
   "execution_count": 23,
   "id": "4060bec5",
   "metadata": {},
   "outputs": [],
   "source": [
    "from functools import cmp_to_key\n",
    "import copy\n",
    "def sort_comparer(left, right):\n",
    "    l = copy.deepcopy(left)\n",
    "    r = copy.deepcopy(right)\n",
    "    result = compare_lists(l, r)\n",
    "    if result == False:\n",
    "        return -1\n",
    "    elif result == True:\n",
    "        return 1\n",
    "    else:\n",
    "        return 0\n",
    "def read_input(filename):\n",
    "    packet_list = []    \n",
    "    with open(filename) as file:\n",
    "        for line in file:\n",
    "            if line.strip() != '':\n",
    "                packet = eval(line)                \n",
    "                packet_list.append(packet)\n",
    "                \n",
    "    return packet_list\n",
    "\n",
    "def solve(filename):\n",
    "    packet_list = read_input(filename)\n",
    "    packet_list.append([[2]])\n",
    "    packet_list.append([[6]])\n",
    "    packet_list.sort(key=cmp_to_key(sort_comparer), reverse=True)\n",
    "    first = packet_list.index([[2]])\n",
    "    second = packet_list.index([[6]])\n",
    "    return (first + 1) * (second + 1)"
   ]
  },
  {
   "cell_type": "code",
   "execution_count": 24,
   "id": "cc2973b8",
   "metadata": {},
   "outputs": [
    {
     "data": {
      "text/plain": [
       "140"
      ]
     },
     "execution_count": 24,
     "metadata": {},
     "output_type": "execute_result"
    }
   ],
   "source": [
    "solve('test.txt')"
   ]
  },
  {
   "cell_type": "code",
   "execution_count": 25,
   "id": "994b8cf5",
   "metadata": {},
   "outputs": [
    {
     "data": {
      "text/plain": [
       "22464"
      ]
     },
     "execution_count": 25,
     "metadata": {},
     "output_type": "execute_result"
    }
   ],
   "source": [
    "solve('input.txt')"
   ]
  },
  {
   "cell_type": "code",
   "execution_count": null,
   "id": "dd7e1afd",
   "metadata": {},
   "outputs": [],
   "source": []
  }
 ],
 "metadata": {
  "kernelspec": {
   "display_name": "Python 3 (ipykernel)",
   "language": "python",
   "name": "python3"
  },
  "language_info": {
   "codemirror_mode": {
    "name": "ipython",
    "version": 3
   },
   "file_extension": ".py",
   "mimetype": "text/x-python",
   "name": "python",
   "nbconvert_exporter": "python",
   "pygments_lexer": "ipython3",
   "version": "3.8.10"
  }
 },
 "nbformat": 4,
 "nbformat_minor": 5
}
