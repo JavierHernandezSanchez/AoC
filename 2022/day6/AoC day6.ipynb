{
 "cells": [
  {
   "cell_type": "markdown",
   "id": "19451de0",
   "metadata": {},
   "source": [
    "## Parte 1\n",
    "\n",
    "un dispositivo de comunicación recibe una cadena de letras, hay que encontrar el marcador de inicio de paquete, esto ocurre cuando llegan 4 carácteres seguidos distintos, hay que devolver la posición de final de dichos 4 caracteres."
   ]
  },
  {
   "cell_type": "code",
   "execution_count": 3,
   "id": "fcfeec77",
   "metadata": {},
   "outputs": [],
   "source": [
    "def get_input(filename):    \n",
    "    with open(filename) as file:\n",
    "        data = file.read().strip()\n",
    "    return data"
   ]
  },
  {
   "cell_type": "code",
   "execution_count": 8,
   "id": "41668e54",
   "metadata": {},
   "outputs": [],
   "source": [
    "def find_sop(data):\n",
    "    for i in range(len(data) - 3):\n",
    "        curr = data[i:i+4]\n",
    "        \n",
    "        if len(set([c for c in curr])) == 4:\n",
    "            return i + 4\n",
    "    return -1"
   ]
  },
  {
   "cell_type": "code",
   "execution_count": 14,
   "id": "076719e5",
   "metadata": {},
   "outputs": [
    {
     "data": {
      "text/plain": [
       "True"
      ]
     },
     "execution_count": 14,
     "metadata": {},
     "output_type": "execute_result"
    }
   ],
   "source": [
    "expected_results = [7, 5, 6, 10, 11]\n",
    "\n",
    "results = []\n",
    "for i in range(5):\n",
    "    data = get_input('test' + str(i) + '.txt')\n",
    "    sop = find_sop(data)\n",
    "    results.append(sop)\n",
    "\n",
    "results == expected_results"
   ]
  },
  {
   "cell_type": "code",
   "execution_count": 15,
   "id": "eca15c07",
   "metadata": {},
   "outputs": [
    {
     "data": {
      "text/plain": [
       "1582"
      ]
     },
     "execution_count": 15,
     "metadata": {},
     "output_type": "execute_result"
    }
   ],
   "source": [
    "data = get_input('input.txt')\n",
    "sop = find_sop(data)\n",
    "sop"
   ]
  },
  {
   "cell_type": "markdown",
   "id": "b1b4f314",
   "metadata": {},
   "source": [
    "## Parte 2\n",
    "\n",
    "también hay que encontrar la secuencia de inicio de mensaje, para eso es necesario encontrar una secuencia de 14 caracteres distintos:"
   ]
  },
  {
   "cell_type": "code",
   "execution_count": 16,
   "id": "722fa6f5",
   "metadata": {},
   "outputs": [],
   "source": [
    "def find_sos(data, nitems):\n",
    "    for i in range(len(data) - (nitems - 1)):\n",
    "        curr = data[i: i + nitems]\n",
    "        \n",
    "        if len(set([c for c in curr])) == nitems:\n",
    "            return i + nitems\n",
    "    return -1"
   ]
  },
  {
   "cell_type": "code",
   "execution_count": 17,
   "id": "4c2a1e3e",
   "metadata": {},
   "outputs": [
    {
     "data": {
      "text/plain": [
       "True"
      ]
     },
     "execution_count": 17,
     "metadata": {},
     "output_type": "execute_result"
    }
   ],
   "source": [
    "expected_results = [7, 5, 6, 10, 11]\n",
    "\n",
    "results = []\n",
    "for i in range(5):\n",
    "    data = get_input('test' + str(i) + '.txt')\n",
    "    sop = find_sos(data, 4)\n",
    "    results.append(sop)\n",
    "\n",
    "results == expected_results"
   ]
  },
  {
   "cell_type": "code",
   "execution_count": 18,
   "id": "b9a1f8c2",
   "metadata": {},
   "outputs": [
    {
     "data": {
      "text/plain": [
       "True"
      ]
     },
     "execution_count": 18,
     "metadata": {},
     "output_type": "execute_result"
    }
   ],
   "source": [
    "expected_results = [19, 23, 23, 29, 26]\n",
    "\n",
    "results = []\n",
    "for i in range(5):\n",
    "    data = get_input('test' + str(i) + '.txt')\n",
    "    sop = find_sos(data, 14)\n",
    "    results.append(sop)\n",
    "\n",
    "results == expected_results"
   ]
  },
  {
   "cell_type": "code",
   "execution_count": 19,
   "id": "1772e3f9",
   "metadata": {},
   "outputs": [
    {
     "data": {
      "text/plain": [
       "3588"
      ]
     },
     "execution_count": 19,
     "metadata": {},
     "output_type": "execute_result"
    }
   ],
   "source": [
    "data = get_input('input.txt')\n",
    "sop = find_sos(data, 14)\n",
    "sop"
   ]
  },
  {
   "cell_type": "code",
   "execution_count": null,
   "id": "347a6cb4",
   "metadata": {},
   "outputs": [],
   "source": []
  }
 ],
 "metadata": {
  "kernelspec": {
   "display_name": "Python 3 (ipykernel)",
   "language": "python",
   "name": "python3"
  },
  "language_info": {
   "codemirror_mode": {
    "name": "ipython",
    "version": 3
   },
   "file_extension": ".py",
   "mimetype": "text/x-python",
   "name": "python",
   "nbconvert_exporter": "python",
   "pygments_lexer": "ipython3",
   "version": "3.8.10"
  }
 },
 "nbformat": 4,
 "nbformat_minor": 5
}
