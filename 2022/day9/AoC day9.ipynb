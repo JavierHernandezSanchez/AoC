{
 "cells": [
  {
   "cell_type": "markdown",
   "id": "df6646a6",
   "metadata": {},
   "source": [
    "## Parte 1\n",
    "tenemos una cuerda de longitud 1 donde la cabeza y la cola están marcadas con nudos. La entrada del problema es una lista de movimientos de la cabeza y la respuesta es el número de celdas por las que ha pasado la cola. La cabeza se mueve en las cuatro direcciones de la cuadrícula mientras que la cola puede avanzar en diagonal."
   ]
  },
  {
   "cell_type": "code",
   "execution_count": 45,
   "id": "e6d14514",
   "metadata": {},
   "outputs": [],
   "source": [
    "def get_input(filename):\n",
    "    instructions = []\n",
    "    with open(filename) as file:\n",
    "        for line in file:\n",
    "            d, n = line.strip().split(' ')\n",
    "            instructions.append((d, int(n)))\n",
    "    return instructions"
   ]
  },
  {
   "cell_type": "code",
   "execution_count": 46,
   "id": "b4f59be5",
   "metadata": {},
   "outputs": [],
   "source": [
    "def move_tail(hx, hy, tx, ty):\n",
    "    if abs(hx - tx) < 2 and abs(hy - ty) < 2:\n",
    "        return tx, ty\n",
    "    \n",
    "    if hy == ty:\n",
    "        if tx < hx:\n",
    "            return tx + 1, ty\n",
    "        elif tx > hx:\n",
    "            return tx - 1, ty\n",
    "    \n",
    "    if hx == tx:\n",
    "        if ty < hy:\n",
    "            return tx, ty + 1\n",
    "        elif ty > hy:\n",
    "            return tx, ty - 1\n",
    "        \n",
    "    if tx < hx: \n",
    "        if ty < hy:\n",
    "            return tx + 1, ty + 1\n",
    "        elif ty > hy:\n",
    "            return tx + 1, ty - 1\n",
    "    \n",
    "    if tx > hx: \n",
    "        if ty < hy:\n",
    "            return tx - 1, ty + 1\n",
    "        elif ty > hy:\n",
    "            return tx - 1, ty - 1"
   ]
  },
  {
   "cell_type": "code",
   "execution_count": 47,
   "id": "2b3ff72a",
   "metadata": {},
   "outputs": [],
   "source": [
    "def move_string(instructions):\n",
    "    hx = 0\n",
    "    hy = 0\n",
    "    tx = 0\n",
    "    ty = 0\n",
    "    tail_hist = set()    \n",
    "    for d, s in instructions:\n",
    "        if d == 'R':\n",
    "            for i in range(s):\n",
    "                hx += 1\n",
    "                tx, ty = move_tail(hx, hy, tx, ty)\n",
    "                tail_hist.add((tx, ty))\n",
    "        elif d == 'L':\n",
    "            for i in range(s):\n",
    "                hx -= 1\n",
    "                tx, ty = move_tail(hx, hy, tx, ty)\n",
    "                tail_hist.add((tx, ty))\n",
    "        elif d == 'U':\n",
    "            for i in range(s):\n",
    "                hy -= 1\n",
    "                tx, ty = move_tail(hx, hy, tx, ty)\n",
    "                tail_hist.add((tx, ty))\n",
    "        elif d == 'D':\n",
    "            for i in range(s):\n",
    "                hy += 1\n",
    "                tx, ty = move_tail(hx, hy, tx, ty)\n",
    "                tail_hist.add((tx, ty))\n",
    "    return len(tail_hist)"
   ]
  },
  {
   "cell_type": "code",
   "execution_count": 48,
   "id": "1c8c64b6",
   "metadata": {},
   "outputs": [
    {
     "data": {
      "text/plain": [
       "13"
      ]
     },
     "execution_count": 48,
     "metadata": {},
     "output_type": "execute_result"
    }
   ],
   "source": [
    "instructions = get_input('test1.txt')\n",
    "tail_visited = move_string(instructions)\n",
    "tail_visited"
   ]
  },
  {
   "cell_type": "code",
   "execution_count": 49,
   "id": "c89f7f52",
   "metadata": {},
   "outputs": [
    {
     "data": {
      "text/plain": [
       "6269"
      ]
     },
     "execution_count": 49,
     "metadata": {},
     "output_type": "execute_result"
    }
   ],
   "source": [
    "instructions = get_input('input.txt')\n",
    "tail_visited = move_string(instructions)\n",
    "tail_visited"
   ]
  },
  {
   "cell_type": "markdown",
   "id": "4bf8ad4b",
   "metadata": {},
   "source": [
    "## Parte 2\n",
    "\n",
    "la cuerda ahora tiene 10 nudos, cabeza (H) y otros 9. Hay que mantener cuenta de las casillas que visita el nudo 9."
   ]
  },
  {
   "cell_type": "code",
   "execution_count": 50,
   "id": "e7e4f005",
   "metadata": {},
   "outputs": [],
   "source": [
    "def move_long_string(instructions):    \n",
    "    sx = [0] * 10\n",
    "    sy = [0] * 10\n",
    "    tail_hist = set()    \n",
    "    for d, s in instructions:\n",
    "        if d == 'R':\n",
    "            for i in range(s):\n",
    "                sx[0] += 1\n",
    "                for j in range(0, 9):\n",
    "                    sx[j+1], sy[j+1] = move_tail(sx[j], sy[j], sx[j+1], sy[j+1])\n",
    "                tail_hist.add((sx[9], sy[9]))\n",
    "        elif d == 'L':\n",
    "            for i in range(s):\n",
    "                sx[0] -= 1\n",
    "                for j in range(0, 9):\n",
    "                    sx[j+1], sy[j+1] = move_tail(sx[j], sy[j], sx[j+1], sy[j+1])\n",
    "                tail_hist.add((sx[9], sy[9]))\n",
    "        elif d == 'U':\n",
    "            for i in range(s):\n",
    "                sy[0] -= 1\n",
    "                for j in range(0, 9):\n",
    "                    sx[j+1], sy[j+1] = move_tail(sx[j], sy[j], sx[j+1], sy[j+1])\n",
    "                tail_hist.add((sx[9], sy[9]))\n",
    "        elif d == 'D':\n",
    "            for i in range(s):\n",
    "                sy[0] += 1\n",
    "                for j in range(0, 9):\n",
    "                    sx[j+1], sy[j+1] = move_tail(sx[j], sy[j], sx[j+1], sy[j+1])\n",
    "                tail_hist.add((sx[9], sy[9]))\n",
    "    return len(tail_hist)"
   ]
  },
  {
   "cell_type": "code",
   "execution_count": 51,
   "id": "f31ae25f",
   "metadata": {},
   "outputs": [
    {
     "data": {
      "text/plain": [
       "36"
      ]
     },
     "execution_count": 51,
     "metadata": {},
     "output_type": "execute_result"
    }
   ],
   "source": [
    "instructions = get_input('test2.txt')\n",
    "tail_visited = move_long_string(instructions)\n",
    "tail_visited"
   ]
  },
  {
   "cell_type": "code",
   "execution_count": 52,
   "id": "6963e467",
   "metadata": {},
   "outputs": [
    {
     "data": {
      "text/plain": [
       "2557"
      ]
     },
     "execution_count": 52,
     "metadata": {},
     "output_type": "execute_result"
    }
   ],
   "source": [
    "instructions = get_input('input.txt')\n",
    "tail_visited = move_long_string(instructions)\n",
    "tail_visited"
   ]
  },
  {
   "cell_type": "code",
   "execution_count": null,
   "id": "1fb3e6ec",
   "metadata": {},
   "outputs": [],
   "source": []
  }
 ],
 "metadata": {
  "kernelspec": {
   "display_name": "Python 3 (ipykernel)",
   "language": "python",
   "name": "python3"
  },
  "language_info": {
   "codemirror_mode": {
    "name": "ipython",
    "version": 3
   },
   "file_extension": ".py",
   "mimetype": "text/x-python",
   "name": "python",
   "nbconvert_exporter": "python",
   "pygments_lexer": "ipython3",
   "version": "3.8.10"
  }
 },
 "nbformat": 4,
 "nbformat_minor": 5
}
