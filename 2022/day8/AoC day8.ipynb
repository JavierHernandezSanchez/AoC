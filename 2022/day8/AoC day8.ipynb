{
 "cells": [
  {
   "cell_type": "markdown",
   "id": "84ea5ed1",
   "metadata": {},
   "source": [
    "## Parte 1\n",
    "\n",
    "la entrada es una matriz de números de nxm que representan la altura de árboles de 0 a 9. Para cada árbol hay que saber si es visible desde el exterior, es decir si desde alguna direccion N, S, E y O todos los árboles que hay hasta el borde son más bajos que él.\n",
    "\n",
    "Cuántos árboles hay visibles en la matriz?"
   ]
  },
  {
   "cell_type": "code",
   "execution_count": 17,
   "id": "bcff7634",
   "metadata": {},
   "outputs": [],
   "source": [
    "import numpy as np"
   ]
  },
  {
   "cell_type": "code",
   "execution_count": 18,
   "id": "6e0999f4",
   "metadata": {},
   "outputs": [],
   "source": [
    "def get_input(filename):\n",
    "    bosque = []\n",
    "    with open(filename) as file:\n",
    "        for line in file:\n",
    "            bosque.append([int(c) for c in line.strip()])\n",
    "            \n",
    "        \n",
    "    return np.array(bosque)"
   ]
  },
  {
   "cell_type": "code",
   "execution_count": 59,
   "id": "16b501b8",
   "metadata": {},
   "outputs": [],
   "source": [
    "def is_visible(bosque, i, j):\n",
    "    h = bosque.shape[0]\n",
    "    w = bosque.shape[1]\n",
    "    \n",
    "    if i == 0 or j == 0 or i == h - 1 or j == w - 1:\n",
    "        return True\n",
    "    \n",
    "    if max(bosque[i,0:j]) < bosque[i][j]:\n",
    "        return True\n",
    "    \n",
    "    if max(bosque[i,j+1:]) < bosque[i][j]:\n",
    "        return True\n",
    "           \n",
    "    if max(bosque[:, j][0:i]) < bosque[i][j]:\n",
    "        return True\n",
    "           \n",
    "    if max(bosque[:,j][i+1:]) < bosque[i][j]:\n",
    "        return True\n",
    "           \n",
    "    return False"
   ]
  },
  {
   "cell_type": "code",
   "execution_count": 60,
   "id": "b1d8453d",
   "metadata": {},
   "outputs": [],
   "source": [
    "def count_visibles(bosque):\n",
    "    h = len(bosque)\n",
    "    w = len(bosque[0])\n",
    "    counter = 0\n",
    "    \n",
    "    for i in range(h):\n",
    "        for j in range(w):\n",
    "            if is_visible(bosque, i, j):\n",
    "                counter += 1\n",
    "    return counter"
   ]
  },
  {
   "cell_type": "code",
   "execution_count": 61,
   "id": "9cbf01ff",
   "metadata": {},
   "outputs": [
    {
     "data": {
      "text/plain": [
       "21"
      ]
     },
     "execution_count": 61,
     "metadata": {},
     "output_type": "execute_result"
    }
   ],
   "source": [
    "bosque = get_input('test.txt')\n",
    "visibles = count_visibles(bosque)\n",
    "visibles"
   ]
  },
  {
   "cell_type": "code",
   "execution_count": 62,
   "id": "92066f61",
   "metadata": {},
   "outputs": [
    {
     "data": {
      "text/plain": [
       "1695"
      ]
     },
     "execution_count": 62,
     "metadata": {},
     "output_type": "execute_result"
    }
   ],
   "source": [
    "bosque = get_input('input.txt')\n",
    "visibles = count_visibles(bosque)\n",
    "visibles"
   ]
  },
  {
   "cell_type": "markdown",
   "id": "8738acfa",
   "metadata": {},
   "source": [
    "## Parte 2\n",
    "\n",
    "la puntuación escenica de un árbol se calcula como la multiplicación del número de árboles que se pueden ver desde el mismo (izquierda * derecha * arriba * abajo). Calcular la puntuación escenica máxima. Los árboles de los bordes tienen 0 al tener 0 en uno de sus lados."
   ]
  },
  {
   "cell_type": "code",
   "execution_count": 131,
   "id": "091556cb",
   "metadata": {},
   "outputs": [],
   "source": [
    "def scenic_score(bosque, i, j):\n",
    "    h = bosque.shape[0]\n",
    "    w = bosque.shape[1]\n",
    "    \n",
    "    if i == 0 or j == 0 or i == h - 1 or j == w - 1:\n",
    "        return 0\n",
    "    \n",
    "    count_izq = 0\n",
    "    for arbol in bosque[i,0:j][::-1]:\n",
    "        count_izq += 1\n",
    "        if arbol >= bosque[i][j]:\n",
    "            break            \n",
    "    \n",
    "    count_der = 0\n",
    "    for arbol in bosque[i,j+1:]:\n",
    "        count_der += 1\n",
    "        if arbol >= bosque[i][j]:\n",
    "            break\n",
    "    \n",
    "    count_arr = 0    \n",
    "    for arbol in bosque[:, j][0:i][::-1]:\n",
    "        count_arr += 1\n",
    "        if arbol >= bosque[i][j]:\n",
    "            break\n",
    "    \n",
    "    count_aba = 0\n",
    "    for arbol in bosque[:,j][i+1:]:\n",
    "        count_aba += 1\n",
    "        if arbol >= bosque[i][j]:\n",
    "            break\n",
    "    \n",
    "    return count_izq * count_der * count_arr * count_aba"
   ]
  },
  {
   "cell_type": "code",
   "execution_count": 135,
   "id": "c1dd502c",
   "metadata": {},
   "outputs": [],
   "source": [
    "def best_scenic_score(bosque):\n",
    "    h = len(bosque)\n",
    "    w = len(bosque[0])\n",
    "    bss = 0\n",
    "    \n",
    "    for i in range(h):\n",
    "        for j in range(w):\n",
    "            curr_score = scenic_score(bosque, i, j)\n",
    "            if curr_score > bss:\n",
    "                bss = curr_score\n",
    "    return bss"
   ]
  },
  {
   "cell_type": "code",
   "execution_count": 137,
   "id": "34b5c57f",
   "metadata": {},
   "outputs": [
    {
     "data": {
      "text/plain": [
       "8"
      ]
     },
     "execution_count": 137,
     "metadata": {},
     "output_type": "execute_result"
    }
   ],
   "source": [
    "bosque = get_input('test.txt')\n",
    "best_score = best_scenic_score(bosque)\n",
    "best_score"
   ]
  },
  {
   "cell_type": "code",
   "execution_count": 138,
   "id": "07bfaded",
   "metadata": {},
   "outputs": [
    {
     "data": {
      "text/plain": [
       "287040"
      ]
     },
     "execution_count": 138,
     "metadata": {},
     "output_type": "execute_result"
    }
   ],
   "source": [
    "bosque = get_input('input.txt')\n",
    "best_score = best_scenic_score(bosque)\n",
    "best_score"
   ]
  },
  {
   "cell_type": "code",
   "execution_count": null,
   "id": "806eab64",
   "metadata": {},
   "outputs": [],
   "source": []
  }
 ],
 "metadata": {
  "kernelspec": {
   "display_name": "Python 3 (ipykernel)",
   "language": "python",
   "name": "python3"
  },
  "language_info": {
   "codemirror_mode": {
    "name": "ipython",
    "version": 3
   },
   "file_extension": ".py",
   "mimetype": "text/x-python",
   "name": "python",
   "nbconvert_exporter": "python",
   "pygments_lexer": "ipython3",
   "version": "3.8.10"
  }
 },
 "nbformat": 4,
 "nbformat_minor": 5
}
