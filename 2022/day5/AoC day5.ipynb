{
 "cells": [
  {
   "cell_type": "markdown",
   "id": "4b18a550",
   "metadata": {},
   "source": [
    "## Parte 1\n",
    "\n",
    "tenemos n pilas de cajas y m movimientos de cajas hechos por una grúa, hay que devolver que cajas quedan en la parte de arriba de cada pila al final."
   ]
  },
  {
   "cell_type": "code",
   "execution_count": 27,
   "id": "d83bb600",
   "metadata": {},
   "outputs": [],
   "source": [
    "import regex as re\n",
    "import numpy as np"
   ]
  },
  {
   "cell_type": "code",
   "execution_count": 31,
   "id": "30a2fb62",
   "metadata": {},
   "outputs": [],
   "source": [
    "def get_input(filename):\n",
    "    stacks = []\n",
    "    moves = []\n",
    "    division = False\n",
    "    with open(filename) as file:        \n",
    "        for line in file:\n",
    "            if line.strip() == '':\n",
    "                division = True\n",
    "                continue\n",
    "            \n",
    "            if division:\n",
    "                nums = re.findall('\\d+', line)\n",
    "                moves.append(tuple(int(n) for n in nums))\n",
    "            else:                \n",
    "                stacks.append([line[i:i + 4].strip() for i in range(0, len(line), 4)])\n",
    "    return stacks, moves"
   ]
  },
  {
   "cell_type": "code",
   "execution_count": 60,
   "id": "ee90e913",
   "metadata": {},
   "outputs": [],
   "source": [
    "def fix_stacks(stacks):\n",
    "    translate_table = str.maketrans('', '', '[]')\n",
    "    \n",
    "    new_stacks = []    \n",
    "    for stack in stacks:\n",
    "        new_stacks.append([s.translate(translate_table) for s in stack])\n",
    "    \n",
    "    new_stacks = np.array(new_stacks).T.tolist()\n",
    "    \n",
    "    dic_stacks = {}\n",
    "    for stack in new_stacks:\n",
    "        dic_stacks[int(stack[-1])] = [s for s in stack[:-1] if s != '']\n",
    "    return dic_stacks "
   ]
  },
  {
   "cell_type": "code",
   "execution_count": 66,
   "id": "885faae9",
   "metadata": {},
   "outputs": [],
   "source": [
    "def rearrange(stacks, moves):\n",
    "    for n, fr, to in moves:\n",
    "        for i in range(n):\n",
    "            item = stacks[fr].pop(0)\n",
    "            stacks[to].insert(0, item)\n",
    "    return stacks"
   ]
  },
  {
   "cell_type": "code",
   "execution_count": 80,
   "id": "ede6e99d",
   "metadata": {},
   "outputs": [],
   "source": [
    "def get_result(stacks):\n",
    "    result = []\n",
    "    for k, v in stacks.items():\n",
    "        result.append(v[0])\n",
    "    \n",
    "    return ''.join(result)"
   ]
  },
  {
   "cell_type": "code",
   "execution_count": 81,
   "id": "fd96e1cc",
   "metadata": {},
   "outputs": [
    {
     "data": {
      "text/plain": [
       "'CMZ'"
      ]
     },
     "execution_count": 81,
     "metadata": {},
     "output_type": "execute_result"
    }
   ],
   "source": [
    "stacks, moves = get_input('test.txt')\n",
    "stacks = fix_stacks(stacks)\n",
    "stacks = rearrange(stacks, moves)\n",
    "result = get_result(stacks)\n",
    "result"
   ]
  },
  {
   "cell_type": "code",
   "execution_count": 82,
   "id": "5a9e527d",
   "metadata": {},
   "outputs": [
    {
     "data": {
      "text/plain": [
       "'JDTMRWCQJ'"
      ]
     },
     "execution_count": 82,
     "metadata": {},
     "output_type": "execute_result"
    }
   ],
   "source": [
    "stacks, moves = get_input('input.txt')\n",
    "stacks = fix_stacks(stacks)\n",
    "stacks = rearrange(stacks, moves)\n",
    "result = get_result(stacks)\n",
    "result"
   ]
  },
  {
   "cell_type": "markdown",
   "id": "23ad89f6",
   "metadata": {},
   "source": [
    "## Parte 2\n",
    "\n",
    "La grua es capaz de mover varias cajas a la vez, predecir que cajas quedan encima con esta nueva condición."
   ]
  },
  {
   "cell_type": "code",
   "execution_count": 85,
   "id": "dee0031f",
   "metadata": {},
   "outputs": [],
   "source": [
    "def rearrange_n(stacks, moves):\n",
    "    for n, fr, to in moves:\n",
    "            items = stacks[fr][0:n]\n",
    "            stacks[fr] = stacks[fr][n:]\n",
    "            stacks[to] = items + stacks[to]\n",
    "    return stacks"
   ]
  },
  {
   "cell_type": "code",
   "execution_count": 86,
   "id": "30f33549",
   "metadata": {},
   "outputs": [
    {
     "data": {
      "text/plain": [
       "'MCD'"
      ]
     },
     "execution_count": 86,
     "metadata": {},
     "output_type": "execute_result"
    }
   ],
   "source": [
    "stacks, moves = get_input('test.txt')\n",
    "stacks = fix_stacks(stacks)\n",
    "stacks = rearrange_n(stacks, moves)\n",
    "result = get_result(stacks)\n",
    "result"
   ]
  },
  {
   "cell_type": "code",
   "execution_count": 87,
   "id": "56793958",
   "metadata": {},
   "outputs": [
    {
     "data": {
      "text/plain": [
       "'VHJDDCWRD'"
      ]
     },
     "execution_count": 87,
     "metadata": {},
     "output_type": "execute_result"
    }
   ],
   "source": [
    "stacks, moves = get_input('input.txt')\n",
    "stacks = fix_stacks(stacks)\n",
    "stacks = rearrange_n(stacks, moves)\n",
    "result = get_result(stacks)\n",
    "result"
   ]
  },
  {
   "cell_type": "code",
   "execution_count": null,
   "id": "b286ee32",
   "metadata": {},
   "outputs": [],
   "source": []
  }
 ],
 "metadata": {
  "kernelspec": {
   "display_name": "Python 3 (ipykernel)",
   "language": "python",
   "name": "python3"
  },
  "language_info": {
   "codemirror_mode": {
    "name": "ipython",
    "version": 3
   },
   "file_extension": ".py",
   "mimetype": "text/x-python",
   "name": "python",
   "nbconvert_exporter": "python",
   "pygments_lexer": "ipython3",
   "version": "3.8.10"
  }
 },
 "nbformat": 4,
 "nbformat_minor": 5
}
