{
 "cells": [
  {
   "cell_type": "markdown",
   "id": "a8eb37f2",
   "metadata": {},
   "source": [
    "## Parte 1\n",
    "\n",
    "en cada línea aparecen las calorías de un alimento, los alimentos consecutivos los lleva el mismo elfo. La separación entre un elfo y otro es la línea en blanco. Cuantas calorías lleva el que más?"
   ]
  },
  {
   "cell_type": "code",
   "execution_count": 1,
   "id": "df6fa7da",
   "metadata": {},
   "outputs": [],
   "source": [
    "def get_input(filename):\n",
    "    calories = []\n",
    "    curr = []\n",
    "    with open(filename) as file:        \n",
    "        for line in file:\n",
    "            if line.strip() == '':\n",
    "                calories.append(curr)\n",
    "                curr = []\n",
    "            else:\n",
    "                curr.append(int(line))\n",
    "        calories.append(curr)\n",
    "    return calories"
   ]
  },
  {
   "cell_type": "code",
   "execution_count": 8,
   "id": "48bfdc80",
   "metadata": {},
   "outputs": [],
   "source": [
    "def get_max(calories):\n",
    "    max_calories = max([sum(c) for c in calories])\n",
    "    return max_calories"
   ]
  },
  {
   "cell_type": "code",
   "execution_count": 9,
   "id": "8f1b93c8",
   "metadata": {},
   "outputs": [
    {
     "data": {
      "text/plain": [
       "24000"
      ]
     },
     "execution_count": 9,
     "metadata": {},
     "output_type": "execute_result"
    }
   ],
   "source": [
    "calories = get_input('test.txt')\n",
    "max_calories = get_max(calories)\n",
    "max_calories"
   ]
  },
  {
   "cell_type": "code",
   "execution_count": 10,
   "id": "48db1a13",
   "metadata": {},
   "outputs": [
    {
     "data": {
      "text/plain": [
       "67622"
      ]
     },
     "execution_count": 10,
     "metadata": {},
     "output_type": "execute_result"
    }
   ],
   "source": [
    "calories = get_input('input.txt')\n",
    "max_calories = max_calories = get_max(calories)\n",
    "max_calories"
   ]
  },
  {
   "cell_type": "markdown",
   "id": "3a34e0de",
   "metadata": {},
   "source": [
    "## Parte 2\n",
    "\n",
    "sacar cuantas calorías suman los tres elfos que más calorías tienen"
   ]
  },
  {
   "cell_type": "code",
   "execution_count": 16,
   "id": "f3185473",
   "metadata": {},
   "outputs": [],
   "source": [
    "def get_top(calories, n):\n",
    "    sum_calories = [sum(c) for c in calories]\n",
    "    sorted_calories = sorted(sum_calories, reverse=True)\n",
    "    return sum(sorted_calories[:n])"
   ]
  },
  {
   "cell_type": "code",
   "execution_count": 17,
   "id": "d262e44a",
   "metadata": {},
   "outputs": [
    {
     "data": {
      "text/plain": [
       "45000"
      ]
     },
     "execution_count": 17,
     "metadata": {},
     "output_type": "execute_result"
    }
   ],
   "source": [
    "calories = get_input('test.txt')\n",
    "top3_calories = get_top(calories, 3)\n",
    "top3_calories"
   ]
  },
  {
   "cell_type": "code",
   "execution_count": 18,
   "id": "4a9d2ad0",
   "metadata": {},
   "outputs": [
    {
     "data": {
      "text/plain": [
       "201491"
      ]
     },
     "execution_count": 18,
     "metadata": {},
     "output_type": "execute_result"
    }
   ],
   "source": [
    "calories = get_input('input.txt')\n",
    "top3_calories = get_top(calories, 3)\n",
    "top3_calories"
   ]
  },
  {
   "cell_type": "code",
   "execution_count": null,
   "id": "51a96986",
   "metadata": {},
   "outputs": [],
   "source": []
  }
 ],
 "metadata": {
  "kernelspec": {
   "display_name": "Python 3 (ipykernel)",
   "language": "python",
   "name": "python3"
  },
  "language_info": {
   "codemirror_mode": {
    "name": "ipython",
    "version": 3
   },
   "file_extension": ".py",
   "mimetype": "text/x-python",
   "name": "python",
   "nbconvert_exporter": "python",
   "pygments_lexer": "ipython3",
   "version": "3.8.10"
  }
 },
 "nbformat": 4,
 "nbformat_minor": 5
}
