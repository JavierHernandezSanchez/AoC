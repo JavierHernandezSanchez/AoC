{
 "cells": [
  {
   "cell_type": "markdown",
   "id": "42f03991",
   "metadata": {},
   "source": [
    "## Parte 1\n",
    "\n",
    "se trata de un juego de piedra, papel y tijeras. Se presenta una estrategia \"cifrada\" en dos columnas:\n",
    "\n",
    "- jugada_oponente respuesta\n",
    "\n",
    "donde jugada se codifica como A: Piedra (Rock), B: Papel (Paper) y C: Tijeras (Scissors)\n",
    "\n",
    "cada respuesta se codifica como X: Piedra, Y: Papel y Z: Tijeras\n",
    "\n",
    "cada jugada se puntúa según lo que se seleccione:\n",
    "- Piedra: 1\n",
    "- Papel: 2\n",
    "- Tijeras: 3\n",
    "\n",
    "y según el resultado:\n",
    "- Perder: 0\n",
    "- Empatar: 3\n",
    "- Ganar: 6\n",
    "\n",
    "Cuál sería el resultado total de la estrategia?"
   ]
  },
  {
   "cell_type": "code",
   "execution_count": 1,
   "id": "ad88d454",
   "metadata": {},
   "outputs": [],
   "source": [
    "def get_input(filename):\n",
    "    estrategia = []\n",
    "    with open(filename) as file:\n",
    "        for line in file:\n",
    "            o, r = line.strip().split(' ')\n",
    "            estrategia.append((o, r))\n",
    "    return estrategia"
   ]
  },
  {
   "cell_type": "code",
   "execution_count": 5,
   "id": "f6fae868",
   "metadata": {},
   "outputs": [],
   "source": [
    "def translate(estrategia):\n",
    "    dic_trans = {'A': 'R', 'B': 'P', 'C': 'S', 'X': 'R', 'Y': 'P', 'Z': 'S'}\n",
    "    translated = []\n",
    "    for o, r in estrategia:\n",
    "        to = dic_trans[o]\n",
    "        tr = dic_trans[r]\n",
    "        translated.append((to, tr))\n",
    "    return translated"
   ]
  },
  {
   "cell_type": "code",
   "execution_count": 6,
   "id": "5cbcca20",
   "metadata": {},
   "outputs": [],
   "source": [
    "def get_points(o, r):\n",
    "    \"\"\"devuelve los puntos para la respuesta\"\"\"\n",
    "    dic_points = {'R': 1, 'P': 2, 'S': 3}\n",
    "    \n",
    "    points = 0\n",
    "    if r == 'R' and o == 'S':\n",
    "        points = 6\n",
    "    elif r == 'S' and o == 'P':\n",
    "        points = 6\n",
    "    elif r == 'P' and o == 'R':\n",
    "        points = 6\n",
    "    elif r == o:\n",
    "        points = 3\n",
    "    else:\n",
    "        points = 0\n",
    "        \n",
    "    points += dic_points[r]\n",
    "    \n",
    "    return points        "
   ]
  },
  {
   "cell_type": "code",
   "execution_count": 12,
   "id": "1299a75d",
   "metadata": {},
   "outputs": [],
   "source": [
    "def evaluate_strategy(strategy):\n",
    "    sum_points = 0\n",
    "    for o, r in strategy:\n",
    "        sum_points += get_points(o, r)\n",
    "        \n",
    "    return sum_points"
   ]
  },
  {
   "cell_type": "code",
   "execution_count": 13,
   "id": "87d5f265",
   "metadata": {},
   "outputs": [
    {
     "data": {
      "text/plain": [
       "15"
      ]
     },
     "execution_count": 13,
     "metadata": {},
     "output_type": "execute_result"
    }
   ],
   "source": [
    "cyphered_strategy = get_input('test.txt')\n",
    "strategy = translate(cyphered_strategy)\n",
    "evaluate_strategy(strategy)"
   ]
  },
  {
   "cell_type": "code",
   "execution_count": 14,
   "id": "18b11b2b",
   "metadata": {},
   "outputs": [
    {
     "data": {
      "text/plain": [
       "15572"
      ]
     },
     "execution_count": 14,
     "metadata": {},
     "output_type": "execute_result"
    }
   ],
   "source": [
    "cyphered_strategy = get_input('input.txt')\n",
    "strategy = translate(cyphered_strategy)\n",
    "evaluate_strategy(strategy)"
   ]
  },
  {
   "cell_type": "markdown",
   "id": "e381e6bb",
   "metadata": {},
   "source": [
    "## Parte 2\n",
    "\n",
    "la segunda columna indica cómo tiene que terminar la ronda:\n",
    "\n",
    "- X: perder\n",
    "- Y: empatar\n",
    "- Z: ganar\n",
    "\n",
    "cuál será la puntuación total con dicha estrategia?"
   ]
  },
  {
   "cell_type": "code",
   "execution_count": 16,
   "id": "7bd36e06",
   "metadata": {},
   "outputs": [],
   "source": [
    "def translate_oponent(estrategia):\n",
    "    dic_trans = {'A': 'R', 'B': 'P', 'C': 'S'}\n",
    "    translated = []\n",
    "    for o, r in estrategia:\n",
    "        to = dic_trans[o]        \n",
    "        translated.append((to, r))\n",
    "    return translated"
   ]
  },
  {
   "cell_type": "code",
   "execution_count": 27,
   "id": "4381f0b1",
   "metadata": {},
   "outputs": [],
   "source": [
    "def get_points2(o, r):\n",
    "    \"\"\"devuelve los puntos para la respuesta\"\"\"\n",
    "    dic_points = {'R': 1, 'P': 2, 'S': 3}\n",
    "    dic_plays = {('R', 'X'): 'S', ('R', 'Y'): 'R', ('R', 'Z'): 'P',\n",
    "                 ('P', 'X'): 'R', ('P', 'Y'): 'P', ('P', 'Z'): 'S',\n",
    "                 ('S', 'X'): 'P', ('S', 'Y'): 'S', ('S', 'Z'): 'R'}\n",
    "    \n",
    "    points = 0\n",
    "    \n",
    "    if r == 'X':\n",
    "        points = 0\n",
    "    elif r == 'Y':\n",
    "        points = 3\n",
    "    elif r == 'Z':\n",
    "        points = 6\n",
    "        \n",
    "    play = dic_plays[(o, r)]\n",
    "    points += dic_points[play]\n",
    "    \n",
    "    return points       "
   ]
  },
  {
   "cell_type": "code",
   "execution_count": 28,
   "id": "72935b35",
   "metadata": {},
   "outputs": [],
   "source": [
    "def evaluate_strategy2(strategy):\n",
    "    sum_points = 0\n",
    "    for o, r in strategy:\n",
    "        sum_points += get_points2(o, r)\n",
    "        \n",
    "    return sum_points"
   ]
  },
  {
   "cell_type": "code",
   "execution_count": 29,
   "id": "a671fc0d",
   "metadata": {},
   "outputs": [
    {
     "data": {
      "text/plain": [
       "12"
      ]
     },
     "execution_count": 29,
     "metadata": {},
     "output_type": "execute_result"
    }
   ],
   "source": [
    "cyphered_strategy = get_input('test.txt')\n",
    "strategy = translate_oponent(cyphered_strategy)\n",
    "evaluate_strategy2(strategy)"
   ]
  },
  {
   "cell_type": "code",
   "execution_count": 30,
   "id": "c1bd74c8",
   "metadata": {},
   "outputs": [
    {
     "data": {
      "text/plain": [
       "16098"
      ]
     },
     "execution_count": 30,
     "metadata": {},
     "output_type": "execute_result"
    }
   ],
   "source": [
    "cyphered_strategy = get_input('input.txt')\n",
    "strategy = translate_oponent(cyphered_strategy)\n",
    "evaluate_strategy2(strategy)"
   ]
  },
  {
   "cell_type": "code",
   "execution_count": null,
   "id": "b6c81d23",
   "metadata": {},
   "outputs": [],
   "source": []
  }
 ],
 "metadata": {
  "kernelspec": {
   "display_name": "Python 3 (ipykernel)",
   "language": "python",
   "name": "python3"
  },
  "language_info": {
   "codemirror_mode": {
    "name": "ipython",
    "version": 3
   },
   "file_extension": ".py",
   "mimetype": "text/x-python",
   "name": "python",
   "nbconvert_exporter": "python",
   "pygments_lexer": "ipython3",
   "version": "3.8.10"
  }
 },
 "nbformat": 4,
 "nbformat_minor": 5
}
