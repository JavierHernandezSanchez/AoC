{
 "cells": [
  {
   "cell_type": "markdown",
   "id": "a3b3d7ef",
   "metadata": {},
   "source": [
    "## Parte 1\n",
    "La entrada es una cadena con identificadores, cada mitad representa uno de los bolsillos de una mochila. Los tipos de objetos deberían estar agrupados en cada bolsillo pero hay exactamente uno repetido en los dos.\n",
    "\n",
    "1. Encontrar el objeto repetido\n",
    "2. teniendo en cuenta que a = 1 ... z = 26; A = 27 y Z = 52 hallar la suma de los objetos mal colocados."
   ]
  },
  {
   "cell_type": "code",
   "execution_count": 15,
   "id": "4dad915a",
   "metadata": {},
   "outputs": [],
   "source": [
    "def get_input(filename):\n",
    "    rucksaks = []\n",
    "    with open(filename) as file:\n",
    "        for line in file:\n",
    "            mid = len(line.strip()) // 2\n",
    "            pocket1 = set([c for c in line.strip()[:mid]])\n",
    "            pocket2 = set([c for c in line.strip()[mid:]])\n",
    "            rucksaks.append((pocket1, pocket2))\n",
    "    return rucksaks"
   ]
  },
  {
   "cell_type": "code",
   "execution_count": 27,
   "id": "c181225d",
   "metadata": {},
   "outputs": [],
   "source": [
    "def sum_repeated(rucksaks):\n",
    "    acum = 0\n",
    "    for s1, s2 in rucksaks:\n",
    "        repeated = s1 & s2\n",
    "        for e in repeated:\n",
    "            val = 0\n",
    "            if e.isupper():\n",
    "                val = ord(e) - ord('A') + 27\n",
    "            elif e.islower():\n",
    "                val = ord(e) - ord('a') + 1\n",
    "            acum += val\n",
    "    return acum"
   ]
  },
  {
   "cell_type": "code",
   "execution_count": 28,
   "id": "b36e7248",
   "metadata": {},
   "outputs": [
    {
     "data": {
      "text/plain": [
       "157"
      ]
     },
     "execution_count": 28,
     "metadata": {},
     "output_type": "execute_result"
    }
   ],
   "source": [
    "rucksaks = get_input('test.txt')\n",
    "sum_repeated(rucksaks)"
   ]
  },
  {
   "cell_type": "code",
   "execution_count": 29,
   "id": "2fccf967",
   "metadata": {},
   "outputs": [
    {
     "data": {
      "text/plain": [
       "8394"
      ]
     },
     "execution_count": 29,
     "metadata": {},
     "output_type": "execute_result"
    }
   ],
   "source": [
    "rucksaks = get_input('input.txt')\n",
    "sum_repeated(rucksaks)"
   ]
  },
  {
   "cell_type": "markdown",
   "id": "231b5a8d",
   "metadata": {},
   "source": [
    "## Parte 2\n",
    "\n",
    "hay conjuntos de tres mochilas que tienen el mismo elemento, agrupar las mochilas y devolver la suma de las prioridades de las etiquetas."
   ]
  },
  {
   "cell_type": "code",
   "execution_count": 65,
   "id": "fb462b7b",
   "metadata": {},
   "outputs": [],
   "source": [
    "from collections import defaultdict"
   ]
  },
  {
   "cell_type": "code",
   "execution_count": 72,
   "id": "6d467b61",
   "metadata": {},
   "outputs": [],
   "source": [
    "def get_input_full(filename):\n",
    "    rucksaks = []\n",
    "    with open(filename) as file:\n",
    "        for i, line in enumerate(file):\n",
    "            rucksaks.append(set([c for c in line.strip()]))\n",
    "    return rucksaks"
   ]
  },
  {
   "cell_type": "code",
   "execution_count": 104,
   "id": "24e111d5",
   "metadata": {},
   "outputs": [],
   "source": [
    "def get_group_ids(rucksaks):\n",
    "    group_ids = []\n",
    "    for i in range(0, len(rucksaks), 3):\n",
    "        a = rucksaks[i]\n",
    "        b = rucksaks[i + 1]\n",
    "        c = rucksaks[i + 2]\n",
    "    \n",
    "        #solo puede haber un id\n",
    "        group_ids.append(a.intersection(b, c).pop())\n",
    "    \n",
    "    return group_ids"
   ]
  },
  {
   "cell_type": "code",
   "execution_count": 109,
   "id": "eb476706",
   "metadata": {},
   "outputs": [],
   "source": [
    "def sum_priorities(group_ids):\n",
    "    acum = 0\n",
    "    for id in group_ids:\n",
    "        val = 0\n",
    "        if id.isupper():\n",
    "            val = ord(id) - ord('A') + 27\n",
    "        elif id.islower():\n",
    "            val = ord(id) - ord('a') + 1\n",
    "        acum += val\n",
    "    return acum"
   ]
  },
  {
   "cell_type": "code",
   "execution_count": 110,
   "id": "88814ee0",
   "metadata": {},
   "outputs": [
    {
     "data": {
      "text/plain": [
       "70"
      ]
     },
     "execution_count": 110,
     "metadata": {},
     "output_type": "execute_result"
    }
   ],
   "source": [
    "rucksaks = get_input_full('test.txt')\n",
    "group_ids = get_group_ids(rucksaks)\n",
    "psum = sum_priorities(group_ids)\n",
    "psum"
   ]
  },
  {
   "cell_type": "code",
   "execution_count": 111,
   "id": "a906e46c",
   "metadata": {},
   "outputs": [
    {
     "data": {
      "text/plain": [
       "2413"
      ]
     },
     "execution_count": 111,
     "metadata": {},
     "output_type": "execute_result"
    }
   ],
   "source": [
    "rucksaks = get_input_full('input.txt')\n",
    "group_ids = get_group_ids(rucksaks)\n",
    "psum = sum_priorities(group_ids)\n",
    "psum"
   ]
  },
  {
   "cell_type": "code",
   "execution_count": null,
   "id": "dcde0894",
   "metadata": {},
   "outputs": [],
   "source": []
  }
 ],
 "metadata": {
  "kernelspec": {
   "display_name": "Python 3 (ipykernel)",
   "language": "python",
   "name": "python3"
  },
  "language_info": {
   "codemirror_mode": {
    "name": "ipython",
    "version": 3
   },
   "file_extension": ".py",
   "mimetype": "text/x-python",
   "name": "python",
   "nbconvert_exporter": "python",
   "pygments_lexer": "ipython3",
   "version": "3.8.10"
  }
 },
 "nbformat": 4,
 "nbformat_minor": 5
}
