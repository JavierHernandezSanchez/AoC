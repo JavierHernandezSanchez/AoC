{
 "cells": [
  {
   "cell_type": "markdown",
   "id": "cb4f7af4",
   "metadata": {},
   "source": [
    "# --- Day 12: Hill Climbing Algorithm ---\n",
    "\n",
    "You try contacting the Elves using your handheld device, but the river you're following must be too low to get a decent signal.\n",
    "\n",
    "You ask the device for a heightmap of the surrounding area (your puzzle input). The heightmap shows the local area from above broken into a grid; the elevation of each square of the grid is given by a single lowercase letter, where a is the lowest elevation, b is the next-lowest, and so on up to the highest elevation, z.\n",
    "\n",
    "Also included on the heightmap are marks for your current position (S) and the location that should get the best signal (E). Your current position (S) has elevation a, and the location that should get the best signal (E) has elevation z.\n",
    "\n",
    "You'd like to reach E, but to save energy, you should do it in as few steps as possible. During each step, you can move exactly one square up, down, left, or right. To avoid needing to get out your climbing gear, the elevation of the destination square can be at most one higher than the elevation of your current square; that is, if your current elevation is m, you could step to elevation n, but not to elevation o. (This also means that the elevation of the destination square can be much lower than the elevation of your current square.)\n",
    "\n",
    "For example:\n",
    "\n",
    "Sabqponm <br>\n",
    "abcryxxl <br>\n",
    "accszExk <br>\n",
    "acctuvwj <br>\n",
    "abdefghi <br>\n",
    "\n",
    "Here, you start in the top-left corner; your goal is near the middle. You could start by moving down or right, but eventually you'll need to head toward the e at the bottom. From there, you can spiral around to the goal:\n",
    "\n",
    "v..v<<<< <br>\n",
    "\\>v.vv<<^ <br>\n",
    ".>vv>E^^ <br>\n",
    "..v>>>^^ <br>\n",
    "..>>>>>^ <br>\n",
    "\n",
    "In the above diagram, the symbols indicate whether the path exits each square moving up (^), down (v), left (<), or right (>). The location that should get the best signal is still E, and . marks unvisited squares.\n",
    "\n",
    "This path reaches the goal in 31 steps, the fewest possible.\n",
    "\n",
    "What is the fewest steps required to move from your current position to the location that should get the best signal?"
   ]
  },
  {
   "cell_type": "code",
   "execution_count": 1,
   "id": "b3ab8bd6",
   "metadata": {},
   "outputs": [],
   "source": [
    "import networkx as nx\n",
    "def read_input(filename):\n",
    "    terrain = []\n",
    "    with open(filename) as file:        \n",
    "        for line in file:\n",
    "            row = [c for c in line if c != '\\n']\n",
    "            if row:\n",
    "                terrain.append(row)\n",
    "    return terrain\n",
    "\n",
    "def get_height(symbol):\n",
    "    if symbol == 'S':\n",
    "        height = 0\n",
    "    elif symbol == 'E':\n",
    "        height = ord('z') - ord('a')\n",
    "    else:\n",
    "        height = ord(symbol) - ord('a')\n",
    "    return height\n",
    "\n",
    "def create_graph(terrain):\n",
    "    G = nx.DiGraph()\n",
    "    start = ''\n",
    "    end = ''\n",
    "    for i in range(len(terrain)):\n",
    "        for j in range(len(terrain[0])):\n",
    "            if terrain[i][j] == 'S':\n",
    "                start = f'({i},{j})'\n",
    "            elif terrain[i][j] == 'E':\n",
    "                end = f'({i},{j})'\n",
    "                \n",
    "            init_height = get_height(terrain[i][j])            \n",
    "            #left\n",
    "            if j - 1 >= 0:\n",
    "                curr_height = get_height(terrain[i][j-1])\n",
    "                if curr_height - 1 <= init_height:\n",
    "                    G.add_edge(f'({i},{j})', f'({i},{j-1})')\n",
    "            #right\n",
    "            if j + 1 < len(terrain[0]):\n",
    "                curr_height = get_height(terrain[i][j+1])\n",
    "                if curr_height - 1 <= init_height:\n",
    "                    G.add_edge(f'({i},{j})', f'({i},{j+1})')\n",
    "            #top\n",
    "            if i - 1 >= 0:\n",
    "                curr_height = get_height(terrain[i-1][j])\n",
    "                if curr_height - 1 <= init_height:\n",
    "                    G.add_edge(f'({i},{j})', f'({i-1},{j})')\n",
    "            #down\n",
    "            if i + 1 < len(terrain):\n",
    "                curr_height = get_height(terrain[i+1][j])\n",
    "                if curr_height - 1 <= init_height:\n",
    "                    G.add_edge(f'({i},{j})', f'({i+1},{j})')\n",
    "            \n",
    "    return start, end, G"
   ]
  },
  {
   "cell_type": "code",
   "execution_count": 2,
   "id": "2f8c3134",
   "metadata": {},
   "outputs": [
    {
     "name": "stdout",
     "output_type": "stream",
     "text": [
      "31\n"
     ]
    }
   ],
   "source": [
    "terrain = read_input('test.txt')\n",
    "start, end, terrain_graph = create_graph(terrain)\n",
    "path = nx.shortest_path(terrain_graph, source=start, target=end)\n",
    "print(len(path)-1)"
   ]
  },
  {
   "cell_type": "code",
   "execution_count": 3,
   "id": "d6b1724f",
   "metadata": {},
   "outputs": [
    {
     "name": "stdout",
     "output_type": "stream",
     "text": [
      "520\n"
     ]
    }
   ],
   "source": [
    "terrain = read_input('input.txt')\n",
    "start, end, terrain_graph = create_graph(terrain)\n",
    "path = nx.shortest_path(terrain_graph, source=start, target=end)\n",
    "print(len(path)-1)"
   ]
  },
  {
   "cell_type": "markdown",
   "id": "e3ca981e",
   "metadata": {},
   "source": [
    "# --- Part Two ---\n",
    "\n",
    "As you walk up the hill, you suspect that the Elves will want to turn this into a hiking trail. The beginning isn't very scenic, though; perhaps you can find a better starting point.\n",
    "\n",
    "To maximize exercise while hiking, the trail should start as low as possible: elevation a. The goal is still the square marked E. However, the trail should still be direct, taking the fewest steps to reach its goal. So, you'll need to find the shortest path from any square at elevation a to the square marked E.\n",
    "\n",
    "Again consider the example from above:\n",
    "\n",
    "Sabqponm <br>\n",
    "abcryxxl <br>\n",
    "accszExk <br>\n",
    "acctuvwj <br>\n",
    "abdefghi <br>\n",
    "\n",
    "Now, there are six choices for starting position (five marked a, plus the square marked S that counts as being at elevation a). If you start at the bottom-left square, you can reach the goal most quickly:\n",
    "\n",
    "...v<<<< <br>\n",
    "...vv<<^ <br>\n",
    "...v>E^^ <br>\n",
    ".>v>>>^^ <br>\n",
    "\\>^>>>>>^ <br>\n",
    "\n",
    "his path reaches the goal in only 29 steps, the fewest possible.\n",
    "\n",
    "What is the fewest steps required to move starting from any square with elevation a to the location that should get the best signal?"
   ]
  },
  {
   "cell_type": "code",
   "execution_count": 9,
   "id": "9406e054",
   "metadata": {},
   "outputs": [],
   "source": [
    "def solve(filename):\n",
    "    terrain = read_input(filename)\n",
    "    start, end, terrain_graph = create_graph(terrain)\n",
    "    min_path = nx.shortest_path(terrain_graph, source=start, target=end)\n",
    "    min_length = len(min_path) - 1\n",
    "    \n",
    "    shortest_paths = dict(nx.single_target_shortest_path(terrain_graph, end, min_length))\n",
    "    \n",
    "    for i in range(len(terrain)):\n",
    "        for j in range(len(terrain[0])):\n",
    "            if terrain[i][j] == 'a':\n",
    "                curr_path = shortest_paths.get(f'({i},{j})', None)\n",
    "                if curr_path and len(curr_path) < min_length:\n",
    "                    min_length = len(curr_path) - 1\n",
    "    return min_length"
   ]
  },
  {
   "cell_type": "code",
   "execution_count": 11,
   "id": "9aeb143e",
   "metadata": {},
   "outputs": [
    {
     "data": {
      "text/plain": [
       "29"
      ]
     },
     "execution_count": 11,
     "metadata": {},
     "output_type": "execute_result"
    }
   ],
   "source": [
    "solve('test.txt')"
   ]
  },
  {
   "cell_type": "code",
   "execution_count": 12,
   "id": "5c958917",
   "metadata": {},
   "outputs": [
    {
     "data": {
      "text/plain": [
       "508"
      ]
     },
     "execution_count": 12,
     "metadata": {},
     "output_type": "execute_result"
    }
   ],
   "source": [
    "solve('input.txt')"
   ]
  },
  {
   "cell_type": "code",
   "execution_count": null,
   "id": "4e6d294f",
   "metadata": {},
   "outputs": [],
   "source": []
  }
 ],
 "metadata": {
  "kernelspec": {
   "display_name": "Python 3 (ipykernel)",
   "language": "python",
   "name": "python3"
  },
  "language_info": {
   "codemirror_mode": {
    "name": "ipython",
    "version": 3
   },
   "file_extension": ".py",
   "mimetype": "text/x-python",
   "name": "python",
   "nbconvert_exporter": "python",
   "pygments_lexer": "ipython3",
   "version": "3.8.10"
  }
 },
 "nbformat": 4,
 "nbformat_minor": 5
}
