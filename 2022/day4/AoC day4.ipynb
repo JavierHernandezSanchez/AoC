{
 "cells": [
  {
   "cell_type": "markdown",
   "id": "540169d3",
   "metadata": {},
   "source": [
    "## Parte 1\n",
    "tenemos una lista con dos rangos por línea, hay que ver cuantas líneas tienen rangos que están completamente contenidos uno en el otro."
   ]
  },
  {
   "cell_type": "code",
   "execution_count": 1,
   "id": "25c4f6bc",
   "metadata": {},
   "outputs": [],
   "source": [
    "import regex as re"
   ]
  },
  {
   "cell_type": "code",
   "execution_count": 4,
   "id": "7b302e49",
   "metadata": {},
   "outputs": [],
   "source": [
    "def get_input(filename):\n",
    "    ranges = []\n",
    "    with open(filename) as file:\n",
    "        for line in file:\n",
    "            nums = re.findall('\\d+', line)\n",
    "            ranges.append(((int(nums[0]), int(nums[1])), (int(nums[2]), int(nums[3]))))\n",
    "    return ranges"
   ]
  },
  {
   "cell_type": "code",
   "execution_count": 6,
   "id": "fed71d32",
   "metadata": {},
   "outputs": [],
   "source": [
    "def is_subrange(a, b):\n",
    "    if a[0] <= b[0] and b[1] <= a[1]:\n",
    "        return True\n",
    "    if b[0] <= a[0] and a[1] <= b[1]:\n",
    "        return True\n",
    "    return False"
   ]
  },
  {
   "cell_type": "code",
   "execution_count": 13,
   "id": "ab49ab27",
   "metadata": {},
   "outputs": [],
   "source": [
    "def count_subranges(ranges):\n",
    "    count = 0\n",
    "    for a, b in ranges:\n",
    "        if is_subrange(a, b):\n",
    "            count += 1\n",
    "    return count"
   ]
  },
  {
   "cell_type": "code",
   "execution_count": 14,
   "id": "03056054",
   "metadata": {},
   "outputs": [
    {
     "data": {
      "text/plain": [
       "2"
      ]
     },
     "execution_count": 14,
     "metadata": {},
     "output_type": "execute_result"
    }
   ],
   "source": [
    "ranges = get_input('test.txt')\n",
    "counter = count_subranges(ranges)\n",
    "counter"
   ]
  },
  {
   "cell_type": "code",
   "execution_count": 15,
   "id": "8284e314",
   "metadata": {},
   "outputs": [
    {
     "data": {
      "text/plain": [
       "526"
      ]
     },
     "execution_count": 15,
     "metadata": {},
     "output_type": "execute_result"
    }
   ],
   "source": [
    "ranges = get_input('input.txt')\n",
    "counter = count_subranges(ranges)\n",
    "counter"
   ]
  },
  {
   "cell_type": "markdown",
   "id": "4a37fdbb",
   "metadata": {},
   "source": [
    "## Parte 2\n",
    "\n",
    "contar el número de superposiciones en los rangos"
   ]
  },
  {
   "cell_type": "code",
   "execution_count": 19,
   "id": "096b302e",
   "metadata": {},
   "outputs": [],
   "source": [
    "def get_overlap(a, b):\n",
    "    init = max(a[0], b[0])\n",
    "    end = min(a[1], b[1])\n",
    "    \n",
    "    if init <= end:\n",
    "        return (init, end)\n",
    "    else:\n",
    "        return (None, None)    "
   ]
  },
  {
   "cell_type": "code",
   "execution_count": 22,
   "id": "1ea20b2c",
   "metadata": {},
   "outputs": [],
   "source": [
    "def count_overlaping(ranges):\n",
    "    count = 0\n",
    "    for a, b in ranges:\n",
    "        oi, oe = get_overlap(a, b)\n",
    "        \n",
    "        if (oi, oe) != (None, None):\n",
    "            count += 1\n",
    "    return count"
   ]
  },
  {
   "cell_type": "code",
   "execution_count": 23,
   "id": "80921cb8",
   "metadata": {},
   "outputs": [
    {
     "data": {
      "text/plain": [
       "4"
      ]
     },
     "execution_count": 23,
     "metadata": {},
     "output_type": "execute_result"
    }
   ],
   "source": [
    "ranges = get_input('test.txt')\n",
    "counter = count_overlaping(ranges)\n",
    "counter"
   ]
  },
  {
   "cell_type": "code",
   "execution_count": 24,
   "id": "3a4d2b04",
   "metadata": {},
   "outputs": [
    {
     "data": {
      "text/plain": [
       "886"
      ]
     },
     "execution_count": 24,
     "metadata": {},
     "output_type": "execute_result"
    }
   ],
   "source": [
    "ranges = get_input('input.txt')\n",
    "counter = count_overlaping(ranges)\n",
    "counter"
   ]
  },
  {
   "cell_type": "code",
   "execution_count": null,
   "id": "d675cb45",
   "metadata": {},
   "outputs": [],
   "source": []
  }
 ],
 "metadata": {
  "kernelspec": {
   "display_name": "Python 3 (ipykernel)",
   "language": "python",
   "name": "python3"
  },
  "language_info": {
   "codemirror_mode": {
    "name": "ipython",
    "version": 3
   },
   "file_extension": ".py",
   "mimetype": "text/x-python",
   "name": "python",
   "nbconvert_exporter": "python",
   "pygments_lexer": "ipython3",
   "version": "3.8.10"
  }
 },
 "nbformat": 4,
 "nbformat_minor": 5
}
