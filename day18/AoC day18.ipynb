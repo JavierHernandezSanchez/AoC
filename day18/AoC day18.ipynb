{
 "cells": [
  {
   "cell_type": "markdown",
   "id": "5a917bdc",
   "metadata": {},
   "source": [
    "## Parte 1\n",
    "\n",
    "la entrada tiene la forma X N donde X es la dirección D (down), L (left), R (right), U (up) y N el número de pasos que hay que dar. esto genera un contorno, hay que averiguar el área total del contorno mas todo lo que queda en su interior."
   ]
  },
  {
   "cell_type": "code",
   "execution_count": 1,
   "id": "af61812b",
   "metadata": {},
   "outputs": [],
   "source": [
    "def get_input(filename):\n",
    "    instructions = []\n",
    "    with open(filename) as file:\n",
    "        for line in file:\n",
    "            parts = line.strip().split(' ')\n",
    "            direction = parts[0]\n",
    "            steps = int(parts[1])\n",
    "            color = parts[2].replace('(', '').replace(')', '')\n",
    "            instructions.append((direction, steps, color))\n",
    "    return instructions"
   ]
  },
  {
   "cell_type": "code",
   "execution_count": 3,
   "id": "ce1a3e7c",
   "metadata": {},
   "outputs": [],
   "source": [
    "def map_terrain(instructions):\n",
    "    position = (0, 0)\n",
    "    terrain = {position: '#'}\n",
    "    \n",
    "    for direction, steps, _ in instructions:\n",
    "        \n",
    "        if direction == 'R':\n",
    "            for j in range(steps):\n",
    "                position = (position[0], position[1] + 1)\n",
    "                terrain[position] = '#'\n",
    "        elif direction == 'L':\n",
    "            for j in range(steps):\n",
    "                position = (position[0], position[1] - 1)\n",
    "                terrain[position] = '#'\n",
    "        elif direction == 'D':\n",
    "            for j in range(steps):\n",
    "                position = (position[0] + 1, position[1])\n",
    "                terrain[position] = '#'\n",
    "        elif direction == 'U':\n",
    "            for j in range(steps):\n",
    "                position = (position[0] - 1, position[1])\n",
    "                terrain[position] = '#'\n",
    "    return terrain"
   ]
  },
  {
   "cell_type": "code",
   "execution_count": 5,
   "id": "105bede5",
   "metadata": {},
   "outputs": [],
   "source": [
    "def get_area(terrain):\n",
    "    minx = min([x for x, _ in terrain.keys()])\n",
    "    miny = min([y for _, y in terrain.keys()])\n",
    "    maxx = max([x for x, _ in terrain.keys()])\n",
    "    maxy = max([y for _, y in terrain.keys()])\n",
    "    \n",
    "    huecos = set(terrain.keys())\n",
    "    \n",
    "    for y in range(miny, maxy):\n",
    "        dentro = False\n",
    "        for x in range(minx, maxx):\n",
    "            if (x, y) in huecos:\n",
    "                if (x, y - 1) in huecos and (x, y + 1) in huecos:\n",
    "                    dentro = not dentro\n",
    "                elif (x, y + 1) in huecos and (x + 1, y) in huecos:\n",
    "                    dentro = not dentro\n",
    "                elif (x, y + 1) in huecos and (x - 1, y) in huecos:\n",
    "                    dentro = not dentro\n",
    "            else:\n",
    "                if dentro:\n",
    "                    huecos.add((x, y))\n",
    "    return len(huecos)"
   ]
  },
  {
   "cell_type": "code",
   "execution_count": 6,
   "id": "9bc7f7f6",
   "metadata": {},
   "outputs": [
    {
     "data": {
      "text/plain": [
       "62"
      ]
     },
     "execution_count": 6,
     "metadata": {},
     "output_type": "execute_result"
    }
   ],
   "source": [
    "instructions = get_input('test.txt')\n",
    "terrain = map_terrain(instructions)\n",
    "area = get_area(terrain)\n",
    "area"
   ]
  },
  {
   "cell_type": "code",
   "execution_count": 8,
   "id": "c755715d",
   "metadata": {},
   "outputs": [
    {
     "data": {
      "text/plain": [
       "53844"
      ]
     },
     "execution_count": 8,
     "metadata": {},
     "output_type": "execute_result"
    }
   ],
   "source": [
    "instructions = get_input('input.txt')\n",
    "terrain = map_terrain(instructions)\n",
    "area = get_area(terrain)\n",
    "area"
   ]
  },
  {
   "cell_type": "markdown",
   "id": "7a001885",
   "metadata": {},
   "source": [
    "## Parte 2\n",
    "\n",
    "había un error en las instrucciones, hay que trabajar solo con la parte hexadecimal, así, el último dígito hexadecimal codifica la dirección 0 = R, 1 = D, 2 = L y 3 = U. Los otros 5 dígitos hexadecimales codifican la distancia."
   ]
  },
  {
   "cell_type": "code",
   "execution_count": 11,
   "id": "156883bb",
   "metadata": {},
   "outputs": [],
   "source": [
    "from shapely.geometry import Polygon"
   ]
  },
  {
   "cell_type": "code",
   "execution_count": 29,
   "id": "db423e25",
   "metadata": {},
   "outputs": [],
   "source": [
    "def get_area_hex(instructions):\n",
    "    #0: R, 1: D, 2: L, 3: U\n",
    "    dirs = {'0': (1, 0), '1': (0, 1), '2': (-1, 0), '3': (0, -1)}\n",
    "    vs = []\n",
    "    \n",
    "    for _, _, color in instructions:\n",
    "        d = color[-1]\n",
    "        dist = int(color[1:-1], 16)\n",
    "        vector = (dirs[d][0] * dist, dirs[d][1] * dist)\n",
    "        vs.append(vector)\n",
    "        \n",
    "    #hace falta acumular porque los vectores parten todos desde el origen\n",
    "    cumsum = (0, 0)\n",
    "    puntos = []\n",
    "    perimetro = 0\n",
    "    \n",
    "    for v in vs:\n",
    "        cumsum = [cumsum[0] + v[0], cumsum[1] + v[1]]\n",
    "        perimetro += abs(v[0]) + abs(v[1])\n",
    "        puntos.append(cumsum)\n",
    "        \n",
    "    poli = Polygon(puntos)\n",
    "    \n",
    "    return int(poli.area + (perimetro / 2) + 1)"
   ]
  },
  {
   "cell_type": "code",
   "execution_count": 30,
   "id": "ce45aa6a",
   "metadata": {},
   "outputs": [
    {
     "data": {
      "text/plain": [
       "952408144115"
      ]
     },
     "execution_count": 30,
     "metadata": {},
     "output_type": "execute_result"
    }
   ],
   "source": [
    "instructions = get_input('test.txt')\n",
    "area = get_area_hex(instructions)\n",
    "area"
   ]
  },
  {
   "cell_type": "code",
   "execution_count": 31,
   "id": "ded661a9",
   "metadata": {},
   "outputs": [
    {
     "data": {
      "text/plain": [
       "42708339569950"
      ]
     },
     "execution_count": 31,
     "metadata": {},
     "output_type": "execute_result"
    }
   ],
   "source": [
    "instructions = get_input('input.txt')\n",
    "area = get_area_hex(instructions)\n",
    "area"
   ]
  },
  {
   "cell_type": "code",
   "execution_count": null,
   "id": "9363e2b4",
   "metadata": {},
   "outputs": [],
   "source": []
  }
 ],
 "metadata": {
  "kernelspec": {
   "display_name": "Python 3 (ipykernel)",
   "language": "python",
   "name": "python3"
  },
  "language_info": {
   "codemirror_mode": {
    "name": "ipython",
    "version": 3
   },
   "file_extension": ".py",
   "mimetype": "text/x-python",
   "name": "python",
   "nbconvert_exporter": "python",
   "pygments_lexer": "ipython3",
   "version": "3.8.10"
  }
 },
 "nbformat": 4,
 "nbformat_minor": 5
}
