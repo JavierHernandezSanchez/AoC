{
 "cells": [
  {
   "cell_type": "markdown",
   "id": "6e33d14b",
   "metadata": {},
   "source": [
    "--- Day 3: Mull It Over ---\n",
    "\n",
    "\"Our computers are having issues, so I have no idea if we have any Chief Historians in stock! You're welcome to check the warehouse, though,\" says the mildly flustered shopkeeper at the North Pole Toboggan Rental Shop. The Historians head out to take a look.\n",
    "\n",
    "The shopkeeper turns to you. \"Any chance you can see why our computers are having issues again?\"\n",
    "\n",
    "The computer appears to be trying to run a program, but its memory (your puzzle input) is corrupted. All of the instructions have been jumbled up!\n",
    "\n",
    "It seems like the goal of the program is just to multiply some numbers. It does that with instructions like mul(X,Y), where X and Y are each 1-3 digit numbers. For instance, mul(44,46) multiplies 44 by 46 to get a result of 2024. Similarly, mul(123,4) would multiply 123 by 4.\n",
    "\n",
    "However, because the program's memory has been corrupted, there are also many invalid characters that should be ignored, even if they look like part of a mul instruction. Sequences like mul(4*, mul(6,9!, ?(12,34), or mul ( 2 , 4 ) do nothing.\n",
    "\n",
    "For example, consider the following section of corrupted memory:\n",
    "\n",
    "x**mul(2,4)**%&mul[3,7]!@^do_not_**mul(5,5)**+mul(32,64]then(**mul(11,8)** **mul(8,5)**)\n",
    "\n",
    "Only the four highlighted sections are real mul instructions. Adding up the result of each instruction produces 161 (2*4 + 5*5 + 11*8 + 8*5).\n",
    "\n",
    "Scan the corrupted memory for uncorrupted mul instructions. What do you get if you add up all of the results of the multiplications?\n"
   ]
  },
  {
   "cell_type": "code",
   "execution_count": 1,
   "id": "a97454e9",
   "metadata": {},
   "outputs": [],
   "source": [
    "import re"
   ]
  },
  {
   "cell_type": "code",
   "execution_count": 5,
   "id": "99370c62",
   "metadata": {},
   "outputs": [
    {
     "data": {
      "text/plain": [
       "['mul(2,4)', 'mul(5,5)', 'mul(11,8)', 'mul(8,5)']"
      ]
     },
     "execution_count": 5,
     "metadata": {},
     "output_type": "execute_result"
    }
   ],
   "source": [
    "string = 'xmul(2,4)%&mul[3,7]!@^do_not_mul(5,5)+mul(32,64]then(mul(11,8)mul(8,5))'\n",
    "pattern = r'mul\\(\\d{1,3},\\d{1,3}\\)'\n",
    "re.findall(pattern, string)"
   ]
  },
  {
   "cell_type": "code",
   "execution_count": 24,
   "id": "55ba48de",
   "metadata": {},
   "outputs": [],
   "source": [
    "def get_input(filename):\n",
    "    with open(filename) as f:\n",
    "        result = f.read()\n",
    "    return result\n",
    "\n",
    "def find_muls(string):\n",
    "    result = []\n",
    "    pattern = r'mul\\(\\d{1,3},\\d{1,3}\\)'\n",
    "    muls = re.findall(pattern, string)\n",
    "    \n",
    "    for mul in muls:\n",
    "        parts = [int(num) for num in mul[4:-1].split(',')]\n",
    "        result.append(parts)\n",
    "    return result\n",
    "\n",
    "def solve(data):\n",
    "    acum = 0\n",
    "    for x, y in data:\n",
    "        acum += x * y\n",
    "    return acum"
   ]
  },
  {
   "cell_type": "code",
   "execution_count": 25,
   "id": "9d94d90e",
   "metadata": {},
   "outputs": [
    {
     "data": {
      "text/plain": [
       "161"
      ]
     },
     "execution_count": 25,
     "metadata": {},
     "output_type": "execute_result"
    }
   ],
   "source": [
    "string = get_input('test.txt')\n",
    "data = find_muls(string)\n",
    "solve(data)"
   ]
  },
  {
   "cell_type": "code",
   "execution_count": 26,
   "id": "617d2f37",
   "metadata": {},
   "outputs": [
    {
     "data": {
      "text/plain": [
       "164730528"
      ]
     },
     "execution_count": 26,
     "metadata": {},
     "output_type": "execute_result"
    }
   ],
   "source": [
    "string = get_input('input.txt')\n",
    "data = find_muls(string)\n",
    "solve(data)"
   ]
  },
  {
   "cell_type": "code",
   "execution_count": null,
   "id": "6ce8639e",
   "metadata": {},
   "outputs": [],
   "source": []
  }
 ],
 "metadata": {
  "kernelspec": {
   "display_name": "Python 3 (ipykernel)",
   "language": "python",
   "name": "python3"
  },
  "language_info": {
   "codemirror_mode": {
    "name": "ipython",
    "version": 3
   },
   "file_extension": ".py",
   "mimetype": "text/x-python",
   "name": "python",
   "nbconvert_exporter": "python",
   "pygments_lexer": "ipython3",
   "version": "3.11.7"
  }
 },
 "nbformat": 4,
 "nbformat_minor": 5
}
