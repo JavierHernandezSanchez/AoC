{
 "cells": [
  {
   "cell_type": "markdown",
   "id": "ac117926",
   "metadata": {},
   "source": [
    "Fortunately, the first location The Historians want to search isn't a long walk from the Chief Historian's office.\n",
    "\n",
    "While the Red-Nosed Reindeer nuclear fusion/fission plant appears to contain no sign of the Chief Historian, the engineers there run up to you as soon as they see you. Apparently, they still talk about the time Rudolph was saved through molecular synthesis from a single electron.\n",
    "\n",
    "They're quick to add that - since you're already here - they'd really appreciate your help analyzing some unusual data from the Red-Nosed reactor. You turn to check if The Historians are waiting for you, but they seem to have already divided into groups that are currently searching every corner of the facility. You offer to help with the unusual data.\n",
    "\n",
    "The unusual data (your puzzle input) consists of many reports, one report per line. Each report is a list of numbers called levels that are separated by spaces. For example:\n",
    "\n",
    "7 6 4 2 1 \\\n",
    "1 2 7 8 9 \\\n",
    "9 7 6 2 1 \\\n",
    "1 3 2 4 5 \\\n",
    "8 6 4 4 1 \\\n",
    "1 3 6 7 9 \\\n",
    "\n",
    "This example data contains six reports each containing five levels.\n",
    "\n",
    "The engineers are trying to figure out which reports are safe. The Red-Nosed reactor safety systems can only tolerate levels that are either gradually increasing or gradually decreasing. So, a report only counts as safe if both of the following are true:\n",
    "\n",
    "* The levels are either all increasing or all decreasing.\n",
    "* Any two adjacent levels differ by at least one and at most three.\n",
    "\n",
    "In the example above, the reports can be found safe or unsafe by checking those rules:\n",
    "\n",
    "* 7 6 4 2 1: Safe because the levels are all decreasing by 1 or 2.\n",
    "* 1 2 7 8 9: Unsafe because 2 7 is an increase of 5.\n",
    "* 9 7 6 2 1: Unsafe because 6 2 is a decrease of 4.\n",
    "* 1 3 2 4 5: Unsafe because 1 3 is increasing but 3 2 is decreasing.\n",
    "* 8 6 4 4 1: Unsafe because 4 4 is neither an increase or a decrease.\n",
    "* 1 3 6 7 9: Safe because the levels are all increasing by 1, 2, or 3.\n",
    "\n",
    "So, in this example, 2 reports are safe."
   ]
  },
  {
   "cell_type": "code",
   "execution_count": 59,
   "id": "5f44a358",
   "metadata": {},
   "outputs": [],
   "source": [
    "def read_input(filename):\n",
    "    with open(filename) as f:\n",
    "        lines = [l.strip() for l in f]\n",
    "    return lines\n",
    "\n",
    "def parse_input(lines):\n",
    "    data = []\n",
    "    for l in lines:\n",
    "        data.append([int(w) for w in l.split()])\n",
    "    return data\n",
    "\n",
    "def test_serie(serie):\n",
    "    init = serie[:-1]\n",
    "    end = serie[1:]\n",
    "    \n",
    "    diff = [i - e for i, e in zip(init, end)]\n",
    "    \n",
    "    pos = all(x > 0 for x in diff)\n",
    "    neg = all(x < 0 for x in diff)\n",
    "    limits = all(abs(x) <= 3 for x in diff)\n",
    "    return ((pos or neg) and limits)"
   ]
  },
  {
   "cell_type": "code",
   "execution_count": 65,
   "id": "e2b38386",
   "metadata": {},
   "outputs": [],
   "source": [
    "def solve1(data):\n",
    "    safe = 0\n",
    "    for d in data:\n",
    "        if test_serie(d):\n",
    "            safe += 1\n",
    "    return safe"
   ]
  },
  {
   "cell_type": "code",
   "execution_count": 66,
   "id": "eeb21bd2",
   "metadata": {},
   "outputs": [
    {
     "data": {
      "text/plain": [
       "2"
      ]
     },
     "execution_count": 66,
     "metadata": {},
     "output_type": "execute_result"
    }
   ],
   "source": [
    "lines = read_input('test.txt')\n",
    "data = parse_input(lines)\n",
    "safe_count = solve1(data)\n",
    "safe_count"
   ]
  },
  {
   "cell_type": "code",
   "execution_count": 67,
   "id": "b42a55ec",
   "metadata": {},
   "outputs": [
    {
     "data": {
      "text/plain": [
       "314"
      ]
     },
     "execution_count": 67,
     "metadata": {},
     "output_type": "execute_result"
    }
   ],
   "source": [
    "lines = read_input('input.txt')\n",
    "data = parse_input(lines)\n",
    "safe_count = solve1(data)\n",
    "safe_count"
   ]
  },
  {
   "cell_type": "markdown",
   "id": "ea569573",
   "metadata": {},
   "source": [
    "The engineers are surprised by the low number of safe reports until they realize they forgot to tell you about the Problem Dampener.\n",
    "\n",
    "The Problem Dampener is a reactor-mounted module that lets the reactor safety systems tolerate a single bad level in what would otherwise be a safe report. It's like the bad level never happened!\n",
    "\n",
    "Now, the same rules apply as before, except if removing a single level from an unsafe report would make it safe, the report instead counts as safe.\n",
    "\n",
    "More of the above example's reports are now safe:\n",
    "\n",
    "* 7 6 4 2 1: Safe without removing any level.\n",
    "* 1 2 7 8 9: Unsafe regardless of which level is removed.\n",
    "* 9 7 6 2 1: Unsafe regardless of which level is removed.\n",
    "* 1 3 2 4 5: Safe by removing the second level, 3.\n",
    "* 8 6 4 4 1: Safe by removing the third level, 4.\n",
    "* 1 3 6 7 9: Safe without removing any level.\n",
    "\n",
    "Thanks to the Problem Dampener, 4 reports are actually safe!\n",
    "\n",
    "Update your analysis by handling situations where the Problem Dampener can remove a single level from unsafe reports. How many reports are now safe?"
   ]
  },
  {
   "cell_type": "code",
   "execution_count": 86,
   "id": "a7745dac",
   "metadata": {},
   "outputs": [],
   "source": [
    "def gen_alternatives(start):\n",
    "    alternatives = []\n",
    "    for i in range(len(start)):\n",
    "        alternatives.append(start[:i] + start[i+1:])\n",
    "    return alternatives"
   ]
  },
  {
   "cell_type": "code",
   "execution_count": 93,
   "id": "f2be4614",
   "metadata": {},
   "outputs": [],
   "source": [
    "def solve2(data):\n",
    "    safe = 0\n",
    "    for d in data:\n",
    "        if test_serie(d):\n",
    "            safe += 1\n",
    "        else:\n",
    "            alternatives = gen_alternatives(d)\n",
    "            for alternative in alternatives:\n",
    "                if test_serie(alternative):\n",
    "                    safe += 1\n",
    "                    break\n",
    "    return safe"
   ]
  },
  {
   "cell_type": "code",
   "execution_count": 94,
   "id": "7dd7c09f",
   "metadata": {},
   "outputs": [
    {
     "data": {
      "text/plain": [
       "4"
      ]
     },
     "execution_count": 94,
     "metadata": {},
     "output_type": "execute_result"
    }
   ],
   "source": [
    "lines = read_input('test.txt')\n",
    "data = parse_input(lines)\n",
    "safe_count = solve2(data)\n",
    "safe_count"
   ]
  },
  {
   "cell_type": "code",
   "execution_count": 95,
   "id": "f2b745d8",
   "metadata": {},
   "outputs": [
    {
     "data": {
      "text/plain": [
       "373"
      ]
     },
     "execution_count": 95,
     "metadata": {},
     "output_type": "execute_result"
    }
   ],
   "source": [
    "lines = read_input('input.txt')\n",
    "data = parse_input(lines)\n",
    "safe_count = solve2(data)\n",
    "safe_count"
   ]
  },
  {
   "cell_type": "code",
   "execution_count": null,
   "id": "2b74d869",
   "metadata": {},
   "outputs": [],
   "source": []
  }
 ],
 "metadata": {
  "kernelspec": {
   "display_name": "Python 3 (ipykernel)",
   "language": "python",
   "name": "python3"
  },
  "language_info": {
   "codemirror_mode": {
    "name": "ipython",
    "version": 3
   },
   "file_extension": ".py",
   "mimetype": "text/x-python",
   "name": "python",
   "nbconvert_exporter": "python",
   "pygments_lexer": "ipython3",
   "version": "3.11.7"
  }
 },
 "nbformat": 4,
 "nbformat_minor": 5
}
