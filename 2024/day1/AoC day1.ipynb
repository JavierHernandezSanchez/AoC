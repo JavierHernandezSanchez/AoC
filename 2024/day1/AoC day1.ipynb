{
 "cells": [
  {
   "cell_type": "markdown",
   "id": "76783a42",
   "metadata": {},
   "source": [
    "by holding the two lists up side by side (your puzzle input), it quickly becomes clear that the lists aren't very similar. Maybe you can help The Historians reconcile their lists?\n",
    "\n",
    "For example:\n",
    "\n",
    "3   4 \\\n",
    "4   3 \\\n",
    "2   5 \\\n",
    "1   3 \\\n",
    "3   9 \\\n",
    "3   3\n",
    "\n",
    "Maybe the lists are only off by a small amount! To find out, pair up the numbers and measure how far apart they are. Pair up the smallest number in the left list with the smallest number in the right list, then the second-smallest left number with the second-smallest right number, and so on.\n",
    "\n",
    "Within each pair, figure out how far apart the two numbers are; you'll need to add up all of those distances. For example, if you pair up a 3 from the left list with a 7 from the right list, the distance apart is 4; if you pair up a 9 with a 3, the distance apart is 6.\n",
    "\n",
    "In the example list above, the pairs and distances would be as follows:\n",
    "\n",
    "* The smallest number in the left list is 1, and the smallest number in the right list is 3. The distance between them is 2.\n",
    "* The second-smallest number in the left list is 2, and the second-smallest number in the right list is another 3. The distance between them is 1.\n",
    "* The third-smallest number in both lists is 3, so the distance between them is 0.\n",
    "* The next numbers to pair up are 3 and 4, a distance of 1.\n",
    "* The fifth-smallest numbers in each list are 3 and 5, a distance of 2.\n",
    "* Finally, the largest number in the left list is 4, while the largest number in the right list is 9; these are a distance 5 apart.\n",
    "\n",
    "To find the total distance between the left list and the right list, add up the distances between all of the pairs you found. In the example above, this is 2 + 1 + 0 + 1 + 2 + 5, a total distance of 11!"
   ]
  },
  {
   "cell_type": "code",
   "execution_count": 22,
   "id": "7ef668b0",
   "metadata": {},
   "outputs": [],
   "source": [
    "def read_input(filename):\n",
    "    with open(filename) as f:\n",
    "        lines = [line.rstrip() for line in f]\n",
    "    return lines\n",
    "\n",
    "def parse_input(lines):\n",
    "    left = []\n",
    "    right = []\n",
    "    \n",
    "    for line in lines:\n",
    "        l, r = line.split()\n",
    "        left.append(int(l))\n",
    "        right.append(int(r))\n",
    "        \n",
    "    return left, right"
   ]
  },
  {
   "cell_type": "code",
   "execution_count": 23,
   "id": "f1cbe3c5",
   "metadata": {},
   "outputs": [],
   "source": [
    "def solve1(left, right):\n",
    "    left.sort()\n",
    "    right.sort()\n",
    "    result = 0\n",
    "    \n",
    "    for l, r in zip(left, right):\n",
    "        result += abs(l - r)\n",
    "    return result"
   ]
  },
  {
   "cell_type": "code",
   "execution_count": 24,
   "id": "76063bf2",
   "metadata": {},
   "outputs": [
    {
     "data": {
      "text/plain": [
       "11"
      ]
     },
     "execution_count": 24,
     "metadata": {},
     "output_type": "execute_result"
    }
   ],
   "source": [
    "lines = read_input('test.txt')\n",
    "left, right = parse_input(lines)\n",
    "result = solve1(left, right)\n",
    "result"
   ]
  },
  {
   "cell_type": "code",
   "execution_count": 25,
   "id": "95521adb",
   "metadata": {},
   "outputs": [
    {
     "data": {
      "text/plain": [
       "2086478"
      ]
     },
     "execution_count": 25,
     "metadata": {},
     "output_type": "execute_result"
    }
   ],
   "source": [
    "lines = read_input('input.txt')\n",
    "left, right = parse_input(lines)\n",
    "result = solve1(left, right)\n",
    "result"
   ]
  },
  {
   "cell_type": "markdown",
   "id": "affa4964",
   "metadata": {},
   "source": [
    "Your analysis only confirmed what everyone feared: the two lists of location IDs are indeed very different.\n",
    "\n",
    "Or are they?\n",
    "\n",
    "The Historians can't agree on which group made the mistakes or how to read most of the Chief's handwriting, but in the commotion you notice an interesting detail: a lot of location IDs appear in both lists! Maybe the other numbers aren't location IDs at all but rather misinterpreted handwriting.\n",
    "\n",
    "This time, you'll need to figure out exactly how often each number from the left list appears in the right list. Calculate a total similarity score by adding up each number in the left list after multiplying it by the number of times that number appears in the right list.\n",
    "\n",
    "Here are the same example lists again:\n",
    "\n",
    "3   4 \\\n",
    "4   3 \\\n",
    "2   5 \\\n",
    "1   3 \\\n",
    "3   9 \\\n",
    "3   3\n",
    "\n",
    "For these example lists, here is the process of finding the similarity score:\n",
    "\n",
    "* The first number in the left list is 3. It appears in the right list three times, so the similarity score increases by 3 * 3 = 9.\n",
    "* The second number in the left list is 4. It appears in the right list once, so the similarity score increases by 4 * 1 = 4.\n",
    "* The third number in the left list is 2. It does not appear in the right list, so the similarity score does not increase (2 * 0 = 0).\n",
    "* The fourth number, 1, also does not appear in the right list.\n",
    "* The fifth number, 3, appears in the right list three times; the similarity score increases by 9.\n",
    "* The last number, 3, appears in the right list three times; the similarity score again increases by 9.\n",
    "\n",
    "So, for these example lists, the similarity score at the end of this process is 31 (9 + 4 + 0 + 0 + 9 + 9)."
   ]
  },
  {
   "cell_type": "code",
   "execution_count": 26,
   "id": "4ef84d0a",
   "metadata": {},
   "outputs": [],
   "source": [
    "def solve2(left, right):\n",
    "    result = 0\n",
    "    \n",
    "    for l in left:\n",
    "        multiplier = right.count(l)\n",
    "        result += l * multiplier\n",
    "    return result"
   ]
  },
  {
   "cell_type": "code",
   "execution_count": 27,
   "id": "4b972046",
   "metadata": {},
   "outputs": [
    {
     "data": {
      "text/plain": [
       "31"
      ]
     },
     "execution_count": 27,
     "metadata": {},
     "output_type": "execute_result"
    }
   ],
   "source": [
    "lines = read_input('test.txt')\n",
    "left, right = parse_input(lines)\n",
    "result = solve2(left, right)\n",
    "result"
   ]
  },
  {
   "cell_type": "code",
   "execution_count": 28,
   "id": "ba1bf9d9",
   "metadata": {},
   "outputs": [
    {
     "data": {
      "text/plain": [
       "24941624"
      ]
     },
     "execution_count": 28,
     "metadata": {},
     "output_type": "execute_result"
    }
   ],
   "source": [
    "lines = read_input('input.txt')\n",
    "left, right = parse_input(lines)\n",
    "result = solve2(left, right)\n",
    "result"
   ]
  },
  {
   "cell_type": "code",
   "execution_count": null,
   "id": "8ddaf380",
   "metadata": {},
   "outputs": [],
   "source": []
  }
 ],
 "metadata": {
  "kernelspec": {
   "display_name": "Python 3 (ipykernel)",
   "language": "python",
   "name": "python3"
  },
  "language_info": {
   "codemirror_mode": {
    "name": "ipython",
    "version": 3
   },
   "file_extension": ".py",
   "mimetype": "text/x-python",
   "name": "python",
   "nbconvert_exporter": "python",
   "pygments_lexer": "ipython3",
   "version": "3.11.7"
  }
 },
 "nbformat": 4,
 "nbformat_minor": 5
}
