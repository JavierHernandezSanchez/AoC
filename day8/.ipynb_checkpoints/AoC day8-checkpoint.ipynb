{
 "cells": [
  {
   "cell_type": "markdown",
   "id": "55fbdbaa",
   "metadata": {},
   "source": [
    "## Parte 1\n",
    "un mapa se compone de direcciones L o R y caminos.\n",
    "\n",
    "cuantos pasos hay que dar para llegar desde AAA hasta ZZZ?"
   ]
  },
  {
   "cell_type": "code",
   "execution_count": 12,
   "id": "71eec7c6",
   "metadata": {},
   "outputs": [],
   "source": [
    "from math import gcd"
   ]
  },
  {
   "cell_type": "code",
   "execution_count": 2,
   "id": "dde67052",
   "metadata": {},
   "outputs": [],
   "source": [
    "def get_input(filename):\n",
    "    turn_map = {}\n",
    "    \n",
    "    with open(filename) as file:\n",
    "        for i, line in enumerate(file):\n",
    "            if i == 0:\n",
    "                directions = line.strip()\n",
    "                continue\n",
    "            if line.strip() == '':\n",
    "                continue\n",
    "            parts = line.strip().split('=')\n",
    "            key = parts[0].strip()\n",
    "            lr = parts[1].split(',')\n",
    "            l = lr[0].replace('(', '').replace(')', '').strip()\n",
    "            r = lr[1].replace('(', '').replace(')', '').strip()\n",
    "            \n",
    "            turn_map[key] = (l, r)\n",
    "            \n",
    "    return directions, turn_map"
   ]
  },
  {
   "cell_type": "code",
   "execution_count": 4,
   "id": "cd153f62",
   "metadata": {},
   "outputs": [],
   "source": [
    "def traverse_map(directions, turn_map):\n",
    "    pos = 'AAA'\n",
    "    count = 0\n",
    "    \n",
    "    while pos != 'ZZZ':\n",
    "        go_to = directions[count % len(directions)]\n",
    "        map_pos = turn_map[pos]\n",
    "        \n",
    "        if go_to == 'L':\n",
    "            pos = map_pos[0]\n",
    "        else:\n",
    "            pos = map_pos[1]\n",
    "        count += 1\n",
    "    return count"
   ]
  },
  {
   "cell_type": "code",
   "execution_count": 5,
   "id": "55f8d2b1",
   "metadata": {},
   "outputs": [
    {
     "data": {
      "text/plain": [
       "2"
      ]
     },
     "execution_count": 5,
     "metadata": {},
     "output_type": "execute_result"
    }
   ],
   "source": [
    "directions, turn_map = get_input('test0.txt')\n",
    "steps = traverse_map(directions, turn_map)\n",
    "steps"
   ]
  },
  {
   "cell_type": "code",
   "execution_count": 6,
   "id": "9ece8671",
   "metadata": {},
   "outputs": [
    {
     "data": {
      "text/plain": [
       "6"
      ]
     },
     "execution_count": 6,
     "metadata": {},
     "output_type": "execute_result"
    }
   ],
   "source": [
    "directions, turn_map = get_input('test1.txt')\n",
    "steps = traverse_map(directions, turn_map)\n",
    "steps"
   ]
  },
  {
   "cell_type": "code",
   "execution_count": 7,
   "id": "b3d26b5f",
   "metadata": {},
   "outputs": [
    {
     "data": {
      "text/plain": [
       "20777"
      ]
     },
     "execution_count": 7,
     "metadata": {},
     "output_type": "execute_result"
    }
   ],
   "source": [
    "directions, turn_map = get_input('input.txt')\n",
    "steps = traverse_map(directions, turn_map)\n",
    "steps"
   ]
  },
  {
   "cell_type": "markdown",
   "id": "0cdf0121",
   "metadata": {},
   "source": [
    "## Parte 2\n",
    "\n",
    "hay que empezar simultaneamente en todos los nodos que terminan por A y se termina cuando se llegue a una posición donde todos los nodos terminen en Z"
   ]
  },
  {
   "cell_type": "markdown",
   "id": "3a14b862",
   "metadata": {},
   "source": [
    "Notas:\n",
    "- cada nodo A solo llega a un nodo Z en un bucle\n",
    "- los bucles son independientes\n",
    "- hay que hacer minimo cumun múltiplo de los bucles (sincronizarlos)\n",
    "    "
   ]
  },
  {
   "cell_type": "code",
   "execution_count": 10,
   "id": "b39c8427",
   "metadata": {},
   "outputs": [],
   "source": [
    "def traverse_multi_map(directions, turn_map):\n",
    "    multi_pos = []\n",
    "    \n",
    "    for k in turn_map.keys():\n",
    "        if k.endswith('A'):\n",
    "            multi_pos.append(k)\n",
    "            \n",
    "    acum_steps = []\n",
    "    for pos in multi_pos:\n",
    "        count = 0\n",
    "        \n",
    "        while not pos.endswith('Z'):\n",
    "            go_to = directions[count % len(directions)]\n",
    "            map_pos = turn_map[pos]\n",
    "            \n",
    "            if go_to == 'L':\n",
    "                pos = map_pos[0]\n",
    "            else:\n",
    "                pos = map_pos[1]\n",
    "            count += 1\n",
    "            \n",
    "        acum_steps.append(count)\n",
    "    return acum_steps"
   ]
  },
  {
   "cell_type": "code",
   "execution_count": 13,
   "id": "0d00cb72",
   "metadata": {},
   "outputs": [],
   "source": [
    "def get_lcm(vals):\n",
    "    lcm = 1\n",
    "    for i in vals:\n",
    "        lcm = lcm * i //gcd(lcm, i)\n",
    "    return lcm"
   ]
  },
  {
   "cell_type": "code",
   "execution_count": 14,
   "id": "d19d5213",
   "metadata": {},
   "outputs": [
    {
     "data": {
      "text/plain": [
       "6"
      ]
     },
     "execution_count": 14,
     "metadata": {},
     "output_type": "execute_result"
    }
   ],
   "source": [
    "directions, turn_map = get_input('test2.txt')\n",
    "acum_steps = traverse_multi_map(directions, turn_map)\n",
    "get_lcm(acum_steps)"
   ]
  },
  {
   "cell_type": "code",
   "execution_count": 15,
   "id": "c0c87dbf",
   "metadata": {},
   "outputs": [
    {
     "data": {
      "text/plain": [
       "13289612809129"
      ]
     },
     "execution_count": 15,
     "metadata": {},
     "output_type": "execute_result"
    }
   ],
   "source": [
    "directions, turn_map = get_input('input.txt')\n",
    "acum_steps = traverse_multi_map(directions, turn_map)\n",
    "get_lcm(acum_steps)"
   ]
  },
  {
   "cell_type": "code",
   "execution_count": null,
   "id": "cf386bac",
   "metadata": {},
   "outputs": [],
   "source": []
  }
 ],
 "metadata": {
  "kernelspec": {
   "display_name": "Python 3 (ipykernel)",
   "language": "python",
   "name": "python3"
  },
  "language_info": {
   "codemirror_mode": {
    "name": "ipython",
    "version": 3
   },
   "file_extension": ".py",
   "mimetype": "text/x-python",
   "name": "python",
   "nbconvert_exporter": "python",
   "pygments_lexer": "ipython3",
   "version": "3.8.10"
  }
 },
 "nbformat": 4,
 "nbformat_minor": 5
}
