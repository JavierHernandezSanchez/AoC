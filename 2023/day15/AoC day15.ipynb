{
 "cells": [
  {
   "cell_type": "markdown",
   "id": "96a68716",
   "metadata": {},
   "source": [
    "## Parte 1\n",
    "\n",
    "ejecutar el algoritmo de HASH en cada uno de los pasos de la secuencia de inicialización y sumar los resultados."
   ]
  },
  {
   "cell_type": "code",
   "execution_count": 2,
   "id": "f395576f",
   "metadata": {},
   "outputs": [],
   "source": [
    "def get_input(filename):\n",
    "    with open(filename) as file:\n",
    "        lines = file.readlines()\n",
    "        \n",
    "    strings = ''.join(lines).strip().split(',')\n",
    "    return strings"
   ]
  },
  {
   "cell_type": "code",
   "execution_count": 1,
   "id": "fa512a3c",
   "metadata": {},
   "outputs": [],
   "source": [
    "def hash(string):\n",
    "    curr_hash = 0\n",
    "    for i in string:\n",
    "        val = ord(i)\n",
    "        curr_hash += val\n",
    "        curr_hash *= 17\n",
    "        curr_hash %= 256\n",
    "    return curr_hash"
   ]
  },
  {
   "cell_type": "code",
   "execution_count": 3,
   "id": "b78f22b8",
   "metadata": {},
   "outputs": [],
   "source": [
    "def sum_string_hashes(strings):\n",
    "    acum = 0\n",
    "    for s in strings:\n",
    "        curr_hash = hash(s)\n",
    "        acum += curr_hash\n",
    "    return acum"
   ]
  },
  {
   "cell_type": "code",
   "execution_count": 4,
   "id": "82cb02d5",
   "metadata": {},
   "outputs": [
    {
     "data": {
      "text/plain": [
       "1320"
      ]
     },
     "execution_count": 4,
     "metadata": {},
     "output_type": "execute_result"
    }
   ],
   "source": [
    "strings = get_input('test.txt')\n",
    "acum = sum_string_hashes(strings)\n",
    "acum"
   ]
  },
  {
   "cell_type": "code",
   "execution_count": 5,
   "id": "27240aba",
   "metadata": {},
   "outputs": [
    {
     "data": {
      "text/plain": [
       "517551"
      ]
     },
     "execution_count": 5,
     "metadata": {},
     "output_type": "execute_result"
    }
   ],
   "source": [
    "strings = get_input('input.txt')\n",
    "acum = sum_string_hashes(strings)\n",
    "acum"
   ]
  },
  {
   "cell_type": "markdown",
   "id": "9be18431",
   "metadata": {},
   "source": [
    "## Parte 2\n",
    "\n",
    "hay 256 cajas alineadas, dentro de cada caja hay ranuras para lentes. Cada cadena empieza con una etiqueta de la lente en que opera, el hash de la etiqueta indica la caja en la que está la lente. hay dos operaciones - quitar la lente y desplazar las lentes para que no haya huecos.\n",
    "\n",
    "= seguido de la distancia focal, indica que si la etiqueta ya existe hay que reemplazarla con esta nueva y si no hay que añadirla al final de las lentes ya presentes"
   ]
  },
  {
   "cell_type": "code",
   "execution_count": 6,
   "id": "cfd0c698",
   "metadata": {},
   "outputs": [],
   "source": [
    "def find_label(box, label):\n",
    "    #box = [(label0, focal_length0), ..., (labeln, focal_lengthn)]\n",
    "    for i, l in enumerate(box):\n",
    "        if l[0] == label:\n",
    "            return i\n",
    "    return -1"
   ]
  },
  {
   "cell_type": "code",
   "execution_count": 17,
   "id": "64c69fd6",
   "metadata": {},
   "outputs": [],
   "source": [
    "def process_instructions(boxes, instruction):\n",
    "    #quitar\n",
    "    if '-' in instruction:\n",
    "        label = instruction.split('-')[0]\n",
    "        box_idx = hash(label)\n",
    "        \n",
    "        label_idx = find_label(boxes[box_idx], label)\n",
    "        if label_idx != -1:\n",
    "            del boxes[box_idx][label_idx]\n",
    "    if '=' in instruction:\n",
    "        label = instruction.split('=')[0]\n",
    "        lenf = instruction.split('=')[1]\n",
    "        box_idx = hash(label)\n",
    "        \n",
    "        label_idx = find_label(boxes[box_idx], label)\n",
    "        if label_idx != -1:\n",
    "            boxes[box_idx][label_idx] = (label, int(lenf))\n",
    "        else:\n",
    "            boxes[box_idx].append((label, int(lenf)))"
   ]
  },
  {
   "cell_type": "code",
   "execution_count": 18,
   "id": "af7d89ee",
   "metadata": {},
   "outputs": [],
   "source": [
    "def sum_focusing_power(strings):\n",
    "    boxes = [[] for _ in range(256)]\n",
    "    for s in strings:\n",
    "        process_instructions(boxes, s)\n",
    "    \n",
    "    acum = 0    \n",
    "    for i, b in enumerate(boxes):\n",
    "        for j, l in enumerate(b):\n",
    "            acum += (i + 1) * (j + 1) * l[1]\n",
    "    return acum"
   ]
  },
  {
   "cell_type": "code",
   "execution_count": 19,
   "id": "15ec64c5",
   "metadata": {},
   "outputs": [
    {
     "data": {
      "text/plain": [
       "145"
      ]
     },
     "execution_count": 19,
     "metadata": {},
     "output_type": "execute_result"
    }
   ],
   "source": [
    "strings = get_input('test.txt')\n",
    "acum = sum_focusing_power(strings)\n",
    "acum"
   ]
  },
  {
   "cell_type": "code",
   "execution_count": 20,
   "id": "9b87492c",
   "metadata": {},
   "outputs": [
    {
     "data": {
      "text/plain": [
       "286097"
      ]
     },
     "execution_count": 20,
     "metadata": {},
     "output_type": "execute_result"
    }
   ],
   "source": [
    "strings = get_input('input.txt')\n",
    "acum = sum_focusing_power(strings)\n",
    "acum"
   ]
  },
  {
   "cell_type": "code",
   "execution_count": null,
   "id": "5e90b12d",
   "metadata": {},
   "outputs": [],
   "source": []
  }
 ],
 "metadata": {
  "kernelspec": {
   "display_name": "Python 3 (ipykernel)",
   "language": "python",
   "name": "python3"
  },
  "language_info": {
   "codemirror_mode": {
    "name": "ipython",
    "version": 3
   },
   "file_extension": ".py",
   "mimetype": "text/x-python",
   "name": "python",
   "nbconvert_exporter": "python",
   "pygments_lexer": "ipython3",
   "version": "3.8.10"
  }
 },
 "nbformat": 4,
 "nbformat_minor": 5
}
