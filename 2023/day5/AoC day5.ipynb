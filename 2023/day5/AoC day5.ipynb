{
 "cells": [
  {
   "cell_type": "markdown",
   "id": "7656c8df",
   "metadata": {},
   "source": [
    "## Parte 1\n",
    "Encontrar la localización más baja que se corresponda con alguna de las semillas iniciales"
   ]
  },
  {
   "cell_type": "code",
   "execution_count": 1,
   "id": "74fb8bce",
   "metadata": {},
   "outputs": [],
   "source": [
    "import re"
   ]
  },
  {
   "cell_type": "code",
   "execution_count": 88,
   "id": "e87eee08",
   "metadata": {},
   "outputs": [],
   "source": [
    "def get_input(filename):\n",
    "    line2state = {'seed-to-soil map:': 's2s',\n",
    "                  'soil-to-fertilizer map:': 's2f',\n",
    "                  'fertilizer-to-water map:': 'f2w',\n",
    "                  'water-to-light map:': 'w2l',\n",
    "                  'light-to-temperature map:': 'l2t',\n",
    "                  'temperature-to-humidity map:': 't2h',\n",
    "                  'humidity-to-location map:': 'h2l'}\n",
    "    state = 'init'\n",
    "    conversion_map = {}\n",
    "    \n",
    "    with open(filename) as file:\n",
    "        for i, line in enumerate(file):\n",
    "            if i == 0:\n",
    "                seed_line = line\n",
    "                parts = seed_line.split(':')\n",
    "                seed_ids = parts[1].split()\n",
    "                seed_ids = [int(s) for s in seed_ids]\n",
    "                continue\n",
    "            \n",
    "            if line.strip() == '':\n",
    "                continue\n",
    "                \n",
    "            new_state = line2state.get(line.strip(), 'no')\n",
    "            if new_state != 'no':\n",
    "                state = new_state\n",
    "                conversion_map[state] = {}\n",
    "                continue\n",
    "            \n",
    "            \n",
    "            nums_str = re.findall('\\d+', line)\n",
    "            destination_start = int(nums_str[0])\n",
    "            source_start = int(nums_str[1])\n",
    "            range_length = int(nums_str[2])\n",
    "            \n",
    "            source_nums = (source_start, source_start + range_length - 1)\n",
    "            destination_nums = (destination_start, destination_start + range_length - 1)\n",
    "            conversion_map[state][source_nums] = destination_nums\n",
    "        \n",
    "    return conversion_map, seed_ids"
   ]
  },
  {
   "cell_type": "code",
   "execution_count": 89,
   "id": "36da0295",
   "metadata": {},
   "outputs": [],
   "source": [
    "def traducir_rango(rango_orig, mapa_key, mapa_val):\n",
    "    traducido = []\n",
    "    restos = []\n",
    "    \n",
    "    if rango_orig[1] < mapa_key[0] or rango_orig[0] > mapa_key[1]:\n",
    "        restos.append(rango_orig)\n",
    "    else:\n",
    "        \n",
    "        # orig:  <-------------------------->......\n",
    "        # mapa:  ......<-------------------------->\n",
    "        # resul: <----><-------------------->......\n",
    "        if rango_orig[0] < mapa_key[0]:\n",
    "            restos.append((rango_orig[0], mapa_key[0] - 1))\n",
    "            rango_orig = (mapa_key[0], rango_orig[1])\n",
    "        \n",
    "        # orig:  <-------------------------------->\n",
    "        # mapa:  <---------------------->..........\n",
    "        # resul: <----------------------><-------->\n",
    "        if rango_orig[1] > mapa_key[1]:\n",
    "            restos.append((mapa_key[1] + 1, rango_orig[1]))\n",
    "            rango_orig = (rango_orig[0], mapa_key[1])\n",
    "            \n",
    "        offset = mapa_val[0] - mapa_key[0]\n",
    "        traducido.append((rango_orig[0] + offset, rango_orig[1] + offset))\n",
    "        \n",
    "    return traducido, restos"
   ]
  },
  {
   "cell_type": "code",
   "execution_count": 90,
   "id": "a21f1e1e",
   "metadata": {},
   "outputs": [],
   "source": [
    "def overlaps(rango_orig, mapa):\n",
    "    result = False\n",
    "    for m in mapa.keys():\n",
    "        if rango_orig[1] >= m[0] and rango_orig[0] <= m[1]:\n",
    "            return True\n",
    "    return result"
   ]
  },
  {
   "cell_type": "code",
   "execution_count": 91,
   "id": "ddd5c018",
   "metadata": {},
   "outputs": [],
   "source": [
    "def process_level(rango_orig, conversion_map, level):    \n",
    "    resultado = []\n",
    "    \n",
    "    acum_restos = [rango_orig]    \n",
    "    while len(acum_restos) > 0:\n",
    "        for mapa_key, mapa_val in conversion_map[level].items():\n",
    "            if len(acum_restos) == 0:\n",
    "                break\n",
    "            actual = acum_restos.pop()\n",
    "            \n",
    "            traducido, restos = traducir_rango(actual, mapa_key, mapa_val)\n",
    "            resultado += traducido\n",
    "            \n",
    "            for r in restos:\n",
    "                if overlaps(r, conversion_map[level]):\n",
    "                    acum_restos.append(r)\n",
    "                else:\n",
    "                    # si no hay mapa el resultado es el mismo numero\n",
    "                    resultado.append(r)\n",
    "                    \n",
    "    return resultado"
   ]
  },
  {
   "cell_type": "code",
   "execution_count": 92,
   "id": "ccbac812",
   "metadata": {},
   "outputs": [],
   "source": [
    "def process_all_level(all_ranges, level):\n",
    "    processed = []\n",
    "    for cur_range in all_ranges:\n",
    "        result = process_level(cur_range, conversion_map, level)\n",
    "        processed += result\n",
    "    return processed"
   ]
  },
  {
   "cell_type": "code",
   "execution_count": 93,
   "id": "780e920d",
   "metadata": {},
   "outputs": [],
   "source": [
    "def process_full(initial_ranges):\n",
    "    to_process = initial_ranges\n",
    "    for level in conversion_map.keys():\n",
    "        to_process = process_all_level(to_process, level)\n",
    "    return to_process"
   ]
  },
  {
   "cell_type": "code",
   "execution_count": 95,
   "id": "e9fb31c6",
   "metadata": {},
   "outputs": [],
   "source": [
    "conversion_map, seed_ids = get_input('test.txt')\n",
    "seed_ranges = [(s, s) for s in seed_ids]\n",
    "lista_resultado = process_full(seed_ranges)"
   ]
  },
  {
   "cell_type": "code",
   "execution_count": 97,
   "id": "f84615f5",
   "metadata": {},
   "outputs": [
    {
     "data": {
      "text/plain": [
       "(35, 35)"
      ]
     },
     "execution_count": 97,
     "metadata": {},
     "output_type": "execute_result"
    }
   ],
   "source": [
    "min(lista_resultado, key=lambda x: x[0])"
   ]
  },
  {
   "cell_type": "code",
   "execution_count": 99,
   "id": "35935e63",
   "metadata": {},
   "outputs": [
    {
     "data": {
      "text/plain": [
       "(993500720, 993500720)"
      ]
     },
     "execution_count": 99,
     "metadata": {},
     "output_type": "execute_result"
    }
   ],
   "source": [
    "conversion_map, seed_ids = get_input('input.txt')\n",
    "seed_ranges = [(s, s) for s in seed_ids]\n",
    "lista_resultado = process_full(seed_ranges)\n",
    "min(lista_resultado, key=lambda l: l[0])"
   ]
  },
  {
   "cell_type": "markdown",
   "id": "5cb0f8df",
   "metadata": {},
   "source": [
    "## Parte 2:\n",
    "la línea de semillas realmente describe rangos de semillas siendo 79 14 realmente el rango que empieza en 79 y tiene longitud 14.\n",
    "\n",
    "hay que encontrar la localización mas baja correspondiente a las semillas iniciales"
   ]
  },
  {
   "cell_type": "code",
   "execution_count": 103,
   "id": "45612437",
   "metadata": {},
   "outputs": [
    {
     "data": {
      "text/plain": [
       "(46, 55)"
      ]
     },
     "execution_count": 103,
     "metadata": {},
     "output_type": "execute_result"
    }
   ],
   "source": [
    "conversion_map, seed_ids = get_input('test.txt')\n",
    "seed_ranges = []\n",
    "for i in range(0, len(seed_ids), 2):\n",
    "    seed_ranges.append((seed_ids[i], seed_ids[i] + seed_ids[i + 1] - 1))\n",
    "lista_resultado = process_full(seed_ranges)\n",
    "\n",
    "min(lista_resultado, key=lambda x: x[0])"
   ]
  },
  {
   "cell_type": "code",
   "execution_count": 104,
   "id": "5c8f174a",
   "metadata": {},
   "outputs": [
    {
     "data": {
      "text/plain": [
       "(4917124, 17616610)"
      ]
     },
     "execution_count": 104,
     "metadata": {},
     "output_type": "execute_result"
    }
   ],
   "source": [
    "conversion_map, seed_ids = get_input('input.txt')\n",
    "seed_ranges = []\n",
    "for i in range(0, len(seed_ids), 2):\n",
    "    seed_ranges.append((seed_ids[i], seed_ids[i] + seed_ids[i + 1] - 1))\n",
    "lista_resultado = process_full(seed_ranges)\n",
    "\n",
    "min(lista_resultado, key=lambda x: x[0])"
   ]
  },
  {
   "cell_type": "code",
   "execution_count": null,
   "id": "e9a58ebb",
   "metadata": {},
   "outputs": [],
   "source": []
  }
 ],
 "metadata": {
  "kernelspec": {
   "display_name": "Python 3 (ipykernel)",
   "language": "python",
   "name": "python3"
  },
  "language_info": {
   "codemirror_mode": {
    "name": "ipython",
    "version": 3
   },
   "file_extension": ".py",
   "mimetype": "text/x-python",
   "name": "python",
   "nbconvert_exporter": "python",
   "pygments_lexer": "ipython3",
   "version": "3.8.10"
  }
 },
 "nbformat": 4,
 "nbformat_minor": 5
}
