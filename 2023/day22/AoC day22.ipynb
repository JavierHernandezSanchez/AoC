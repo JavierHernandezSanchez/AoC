{
 "cells": [
  {
   "cell_type": "markdown",
   "id": "d4528f37",
   "metadata": {},
   "source": [
    "## Parte 1\n",
    "\n",
    "tenemos una colección de bloques representados como x0,y0,z0\\~x1,y1,z1 uno por línea, 2,2,2~2,2,2 significa un único cubo.\n",
    "\n",
    "el suelo está en z=0 así que lo mas bajo que puede estar un cubo es en z=1. Los cubos están originalmente en el aire y nunca rotan.\n",
    "\n",
    "En primer lugar hay que calcular en que posición estarán los bloques cuando ya se hayan dejado de mover y luego cuales se pueden desintegrar sin que ningún otro bloque caiga.\n",
    "\n",
    "Cuantos bloques se pueden desintegrar? (de forma independiente)"
   ]
  },
  {
   "cell_type": "code",
   "execution_count": 1,
   "id": "91fb33f8",
   "metadata": {},
   "outputs": [],
   "source": [
    "import numpy as np"
   ]
  },
  {
   "cell_type": "code",
   "execution_count": 6,
   "id": "b757b671",
   "metadata": {},
   "outputs": [],
   "source": [
    "def get_input(filename):\n",
    "    blocks = []\n",
    "    with open(filename) as file:\n",
    "        for i, line in enumerate(file):\n",
    "            corners = line.strip().split('~')\n",
    "            c1 = [int(c) for c in corners[0].split(',')]\n",
    "            c2 = [int(c) for c in corners[1].split(',')]\n",
    "            blocks.append(Block(i, c1[0], c1[1], c1[2], c2[0], c2[1], c2[2]))\n",
    "    return blocks"
   ]
  },
  {
   "cell_type": "code",
   "execution_count": 7,
   "id": "fd90c327",
   "metadata": {},
   "outputs": [],
   "source": [
    "class Block:\n",
    "    def __init__(self, id, x0, y0, z0, x1, y1, z1):\n",
    "        self.id = id\n",
    "        self.x0 = x0\n",
    "        self.y0 = y0\n",
    "        self.z0 = z0\n",
    "        self.x1 = x1\n",
    "        self.y1 = y1\n",
    "        self.z1 = z1\n",
    "        \n",
    "    def __repr__(self):\n",
    "        return f'Block {self.id}: ({self.x0}, {self.y0}, {self.z0}), ({self.x1}, {self.y1}, {self.z1})'\n",
    "    \n",
    "    def overlap(self, other):\n",
    "        overlap_x = (other.x0 <= self.x0 and self.x0 <= other.x1) or\\\n",
    "                    (other.x0 <= self.x1 and self.x1 <= other.x1) or\\\n",
    "                    (self.x0 <= other.x0 and other.x0 <= self.x1) or\\\n",
    "                    (self.x0 <= other.x1 and other.x1 <= self.x1)\n",
    "        overlap_y = (other.y0 <= self.y0 and self.y0 <= other.y1) or\\\n",
    "                    (other.y0 <= self.y1 and self.y1 <= other.y1) or\\\n",
    "                    (self.y0 <= other.y0 and other.y0 <= self.y1) or\\\n",
    "                    (self.y0 <= other.y1 and other.y1 <= self.y1)\n",
    "        overlap_z = (other.z0 <= self.z0 and self.z0 <= other.z1) or\\\n",
    "                    (other.z0 <= self.z1 and self.z1 <= other.z1) or\\\n",
    "                    (self.z0 <= other.z0 and other.z0 <= self.z1) or\\\n",
    "                    (self.z0 <= other.z1 and other.z1 <= self.z1)\n",
    "        \n",
    "        return overlap_x and overlap_y and overlap_z\n",
    "    \n",
    "    def move(self, dx=0, dy=0, dz=0):\n",
    "        self.x0 += dx\n",
    "        self.y0 += dy\n",
    "        self.z0 += dz\n",
    "        self.x1 += dx\n",
    "        self.y1 += dy\n",
    "        self.z1 += dz"
   ]
  },
  {
   "cell_type": "code",
   "execution_count": 8,
   "id": "6bcd24eb",
   "metadata": {},
   "outputs": [],
   "source": [
    "def caer(blocks):\n",
    "    blocks.sort(key= lambda x: x.z0)\n",
    "    \n",
    "    change = True\n",
    "    count = 0\n",
    "    while change:\n",
    "        count += 1\n",
    "        change = False\n",
    "        \n",
    "        for b in blocks:\n",
    "            if b.z0 <= 1:\n",
    "                continue\n",
    "                \n",
    "            newb = Block(b.id, b.x0, b.y0, b.z0, b.x1, b.y1, b.z1)\n",
    "            newb.move(dz=-1)\n",
    "            \n",
    "            is_overlap = False\n",
    "            for o in blocks:\n",
    "                if newb.id == o.id:\n",
    "                    continue\n",
    "                is_overlap = newb.overlap(o)\n",
    "                if is_overlap:\n",
    "                    break\n",
    "            if not is_overlap:\n",
    "                b.move(dz=-1)\n",
    "                change = True"
   ]
  },
  {
   "cell_type": "code",
   "execution_count": 13,
   "id": "6065d464",
   "metadata": {},
   "outputs": [],
   "source": [
    "def desintegrate(blocks):\n",
    "    dic_tops = {}\n",
    "    dic_bots = {}\n",
    "    \n",
    "    for b in blocks:\n",
    "        dic_tops[b.z1] = dic_tops.get(b.z1, []) + [b]\n",
    "        dic_bots[b.z0] = dic_bots.get(b.z0, []) + [b]\n",
    "        \n",
    "    contador = 0\n",
    "    for b in blocks:\n",
    "        topz = b.z1\n",
    "        \n",
    "        posibles_caidas = dic_bots.get(topz + 1, [])\n",
    "        \n",
    "        se_cae_algo = False\n",
    "        for pc in posibles_caidas:\n",
    "            posibles_soportes = dic_tops.get(topz, [])\n",
    "            \n",
    "            newb = Block(-1, pc.x0, pc.y0, pc.z0 - 1, pc.x1, pc.y1, pc.z1 - 1)\n",
    "            se_cae = True\n",
    "            \n",
    "            for ps in posibles_soportes:\n",
    "                if ps.id == b.id:\n",
    "                    continue\n",
    "                    \n",
    "                if newb.overlap(ps):\n",
    "                    se_cae = False\n",
    "                    break\n",
    "                    \n",
    "            if se_cae:\n",
    "                se_cae_algo = True\n",
    "                break\n",
    "                \n",
    "        if not se_cae_algo:\n",
    "            contador += 1\n",
    "    return contador"
   ]
  },
  {
   "cell_type": "code",
   "execution_count": 15,
   "id": "94ff9af9",
   "metadata": {},
   "outputs": [
    {
     "data": {
      "text/plain": [
       "5"
      ]
     },
     "execution_count": 15,
     "metadata": {},
     "output_type": "execute_result"
    }
   ],
   "source": [
    "blocks = get_input('test.txt')\n",
    "caer(blocks)\n",
    "desintegrables = desintegrate(blocks)\n",
    "desintegrables"
   ]
  },
  {
   "cell_type": "code",
   "execution_count": 16,
   "id": "ff8298b3",
   "metadata": {},
   "outputs": [
    {
     "data": {
      "text/plain": [
       "428"
      ]
     },
     "execution_count": 16,
     "metadata": {},
     "output_type": "execute_result"
    }
   ],
   "source": [
    "blocks = get_input('input.txt')\n",
    "caer(blocks)\n",
    "desintegrables = desintegrate(blocks)\n",
    "desintegrables"
   ]
  },
  {
   "cell_type": "markdown",
   "id": "af0239eb",
   "metadata": {},
   "source": [
    "## Parte 2\n",
    "\n",
    "para cada bloque determinar cuantos otros bloques caerían si ese se desintegra, devolver la suma de los bloques que caerían."
   ]
  },
  {
   "cell_type": "code",
   "execution_count": 17,
   "id": "5a8890e5",
   "metadata": {},
   "outputs": [],
   "source": [
    "def get_tiene_encima(blocks, dic_tops, dic_bots):\n",
    "    tiene_encima = {}\n",
    "    \n",
    "    for b in blocks:\n",
    "        newb = Block(-1, b.x0, b.y0, b.z0 + 1, b.x1, b.y1, b.z1 + 1)\n",
    "        tiene_encima[b.id] = set([])\n",
    "        \n",
    "        for t in dic_bots.get(b.z1 + 1, []):\n",
    "            if t.overlap(newb):\n",
    "                tiene_encima[b.id].add(t)\n",
    "    return tiene_encima"
   ]
  },
  {
   "cell_type": "code",
   "execution_count": 24,
   "id": "41e510af",
   "metadata": {},
   "outputs": [],
   "source": [
    "def get_tiene_debajo(blocks, dic_tops, dic_bots):\n",
    "    tiene_debajo = {}\n",
    "    \n",
    "    for b in blocks:\n",
    "        newb = Block(-1, b.x0, b.y0, b.z0 - 1, b.x1, b.y1, b.z1 - 1)\n",
    "        tiene_debajo[b.id] = set([])\n",
    "        \n",
    "        for t in dic_tops.get(b.z0 - 1, []):\n",
    "            if t.overlap(newb):\n",
    "                tiene_debajo[b.id].add(t)\n",
    "    return tiene_debajo"
   ]
  },
  {
   "cell_type": "code",
   "execution_count": 25,
   "id": "ae388e96",
   "metadata": {},
   "outputs": [],
   "source": [
    "def chain_reaction(blocks):\n",
    "    blocks.sort(key = lambda x: x.id)\n",
    "    dic_tops = {}    \n",
    "    dic_bots = {}\n",
    "    \n",
    "    for b in blocks:\n",
    "        dic_tops[b.z1] = dic_tops.get(b.z1, []) + [b]\n",
    "        dic_bots[b.z0] = dic_bots.get(b.z0, []) + [b]\n",
    "        \n",
    "    tiene_debajo = get_tiene_debajo(blocks, dic_tops, dic_bots)\n",
    "    tiene_encima = get_tiene_encima(blocks, dic_tops, dic_bots)\n",
    "    \n",
    "    total_caidos = 0\n",
    "    \n",
    "    for b in blocks:\n",
    "        cola = [b]\n",
    "        caidos = set([b])\n",
    "        \n",
    "        while cola:\n",
    "            curr = cola.pop()\n",
    "            \n",
    "            for be in tiene_encima.get(curr.id, []):\n",
    "                apoyos = tiene_debajo.get(be.id, [])\n",
    "                \n",
    "                if apoyos.issubset(caidos):\n",
    "                    caidos.add(be)\n",
    "                    cola.append(be)\n",
    "                    \n",
    "        total_caidos += len(caidos) - 1 #el inicial no se cae sino que se desintegra\n",
    "    return total_caidos"
   ]
  },
  {
   "cell_type": "code",
   "execution_count": 26,
   "id": "bfbd7ded",
   "metadata": {},
   "outputs": [
    {
     "data": {
      "text/plain": [
       "7"
      ]
     },
     "execution_count": 26,
     "metadata": {},
     "output_type": "execute_result"
    }
   ],
   "source": [
    "blocks = get_input('test.txt')\n",
    "caer(blocks)\n",
    "total_caidos = chain_reaction(blocks)\n",
    "total_caidos"
   ]
  },
  {
   "cell_type": "code",
   "execution_count": 27,
   "id": "5a66b9c2",
   "metadata": {},
   "outputs": [
    {
     "name": "stdout",
     "output_type": "stream",
     "text": [
      "CPU times: user 1min 52s, sys: 0 ns, total: 1min 52s\n",
      "Wall time: 1min 52s\n"
     ]
    },
    {
     "data": {
      "text/plain": [
       "35654"
      ]
     },
     "execution_count": 27,
     "metadata": {},
     "output_type": "execute_result"
    }
   ],
   "source": [
    "%%time\n",
    "blocks = get_input('input.txt')\n",
    "caer(blocks)\n",
    "total_caidos = chain_reaction(blocks)\n",
    "total_caidos"
   ]
  },
  {
   "cell_type": "code",
   "execution_count": null,
   "id": "64e5465a",
   "metadata": {},
   "outputs": [],
   "source": []
  }
 ],
 "metadata": {
  "kernelspec": {
   "display_name": "Python 3 (ipykernel)",
   "language": "python",
   "name": "python3"
  },
  "language_info": {
   "codemirror_mode": {
    "name": "ipython",
    "version": 3
   },
   "file_extension": ".py",
   "mimetype": "text/x-python",
   "name": "python",
   "nbconvert_exporter": "python",
   "pygments_lexer": "ipython3",
   "version": "3.8.10"
  }
 },
 "nbformat": 4,
 "nbformat_minor": 5
}
