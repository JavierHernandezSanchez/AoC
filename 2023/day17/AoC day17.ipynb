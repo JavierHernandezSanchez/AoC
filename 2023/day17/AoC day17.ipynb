{
 "cells": [
  {
   "cell_type": "markdown",
   "id": "71cad083",
   "metadata": {},
   "source": [
    "## Parte 1\n",
    "\n",
    "encontrar la ruta que minimice la perdida de calor, solo se puede ir en la misma dirección durante máximo 3 bloques, después hay que girar en 90 grados a izquierda o derecha.\n",
    "\n",
    "se empieza en la esquina izquierda y ese bloque no produce perdida de calor y se termina en la esquina inferior derecha."
   ]
  },
  {
   "cell_type": "code",
   "execution_count": 53,
   "id": "b5f4ac88",
   "metadata": {},
   "outputs": [],
   "source": [
    "from heapq import heappush, heappop"
   ]
  },
  {
   "cell_type": "code",
   "execution_count": 1,
   "id": "c6900021",
   "metadata": {},
   "outputs": [],
   "source": [
    "def get_input(filename):\n",
    "    grid = []\n",
    "    with open(filename) as file:\n",
    "        for line in file:\n",
    "            curr = [int(c) for c in line.strip()]\n",
    "            grid.append(curr)\n",
    "    return grid"
   ]
  },
  {
   "cell_type": "code",
   "execution_count": 119,
   "id": "5bc5a525",
   "metadata": {},
   "outputs": [],
   "source": [
    "def get_min_path(heat_map):\n",
    "    #up, down ,right, left\n",
    "    dirs = [(-1, 0), (1, 0), (0, 1), (0, -1)]\n",
    "    vistos = set()\n",
    "    cola = [(0, 0, 0, 0, 0, 0)]\n",
    "    \n",
    "    h = len(heat_map)\n",
    "    w = len(heat_map[0])\n",
    "\n",
    "    while cola:\n",
    "        perdida, r, c, dr, dc, pasos = heappop(cola)\n",
    "\n",
    "        if r == h - 1 and c == w - 1:\n",
    "            return perdida            \n",
    "\n",
    "        if (r, c, dr, dc, pasos) in vistos:\n",
    "            continue\n",
    "\n",
    "        vistos.add((r, c, dr, dc, pasos))\n",
    "\n",
    "        if pasos < 3 and (dr, dc) != (0, 0):\n",
    "            nr = r + dr\n",
    "            nc = c + dc\n",
    "            if 0 <= nr and nr < h and 0 <= nc and nc < w:\n",
    "                heappush(cola, (perdida + heat_map[nr][nc], nr, nc, dr, dc, pasos + 1))\n",
    "\n",
    "        for ndr, ndc in dirs:\n",
    "            if (ndr, ndc) == (dr, dc):\n",
    "                #tratada arriba\n",
    "                continue\n",
    "            if (ndr, ndc) == (-dr, -dc):\n",
    "                #giro de 180 prohibido\n",
    "                continue\n",
    "                \n",
    "            nr = r + ndr\n",
    "            nc = c + ndc\n",
    "            if 0 <= nr and nr < h and 0 <= nc and nc < w:\n",
    "                heappush(cola, (perdida + heat_map[nr][nc], nr, nc, ndr, ndc, 1))"
   ]
  },
  {
   "cell_type": "code",
   "execution_count": 120,
   "id": "0acec687",
   "metadata": {
    "scrolled": false
   },
   "outputs": [
    {
     "data": {
      "text/plain": [
       "102"
      ]
     },
     "execution_count": 120,
     "metadata": {},
     "output_type": "execute_result"
    }
   ],
   "source": [
    "heat_map = get_input('test.txt')\n",
    "get_min_path(heat_map)"
   ]
  },
  {
   "cell_type": "code",
   "execution_count": 121,
   "id": "c5cdfa0c",
   "metadata": {},
   "outputs": [
    {
     "data": {
      "text/plain": [
       "686"
      ]
     },
     "execution_count": 121,
     "metadata": {},
     "output_type": "execute_result"
    }
   ],
   "source": [
    "heat_map = get_input('input.txt')\n",
    "get_min_path(heat_map)"
   ]
  },
  {
   "cell_type": "markdown",
   "id": "fc445b66",
   "metadata": {},
   "source": [
    "## Parte 2\n",
    "\n",
    "ahora se van a usar fundiciones más grandes, una vez que empiezan a moverse no pueden girar hasta haber avanzado 4 bloques, no pueden avanzar más de 10 bloques seguidos."
   ]
  },
  {
   "cell_type": "code",
   "execution_count": 136,
   "id": "c0dc7736",
   "metadata": {},
   "outputs": [],
   "source": [
    "def get_min_path_ultra(heat_map):\n",
    "    #up, down ,right, left\n",
    "    dirs = [(-1, 0), (1, 0), (0, 1), (0, -1)]\n",
    "    vistos = set()\n",
    "    cola = [(0, 0, 0, 0, 0, 0)]\n",
    "    \n",
    "    h = len(heat_map)\n",
    "    w = len(heat_map[0])\n",
    "\n",
    "    while cola:\n",
    "        perdida, r, c, dr, dc, pasos = heappop(cola)\n",
    "\n",
    "        if r == h - 1 and c == w - 1:\n",
    "            return perdida            \n",
    "\n",
    "        if (r, c, dr, dc, pasos) in vistos:\n",
    "            continue\n",
    "\n",
    "        vistos.add((r, c, dr, dc, pasos))\n",
    "\n",
    "        if pasos < 10 and (dr, dc) != (0, 0):\n",
    "            nr = r + dr\n",
    "            nc = c + dc\n",
    "            if 0 <= nr and nr < h and 0 <= nc and nc < w:\n",
    "                heappush(cola, (perdida + heat_map[nr][nc], nr, nc, dr, dc, pasos + 1))\n",
    "        \n",
    "        if pasos < 4 and (dr, dc) != (0, 0):\n",
    "            continue\n",
    "            \n",
    "        for ndr, ndc in dirs:\n",
    "            if (ndr, ndc) == (dr, dc):\n",
    "                #tratada arriba\n",
    "                continue\n",
    "            if (ndr, ndc) == (-dr, -dc):\n",
    "                #giro de 180 prohibido\n",
    "                continue\n",
    "\n",
    "            nr = r + ndr\n",
    "            nc = c + ndc\n",
    "            if 0 <= nr and nr < h and 0 <= nc and nc < w:\n",
    "                heappush(cola, (perdida + heat_map[nr][nc], nr, nc, ndr, ndc, 1))"
   ]
  },
  {
   "cell_type": "code",
   "execution_count": 137,
   "id": "ac12a89b",
   "metadata": {},
   "outputs": [
    {
     "data": {
      "text/plain": [
       "94"
      ]
     },
     "execution_count": 137,
     "metadata": {},
     "output_type": "execute_result"
    }
   ],
   "source": [
    "heat_map = get_input('test.txt')\n",
    "get_min_path_ultra(heat_map)"
   ]
  },
  {
   "cell_type": "code",
   "execution_count": 138,
   "id": "20b82bb2",
   "metadata": {},
   "outputs": [
    {
     "data": {
      "text/plain": [
       "801"
      ]
     },
     "execution_count": 138,
     "metadata": {},
     "output_type": "execute_result"
    }
   ],
   "source": [
    "heat_map = get_input('input.txt')\n",
    "get_min_path_ultra(heat_map)"
   ]
  },
  {
   "cell_type": "code",
   "execution_count": null,
   "id": "73cdb127",
   "metadata": {},
   "outputs": [],
   "source": []
  }
 ],
 "metadata": {
  "kernelspec": {
   "display_name": "Python 3 (ipykernel)",
   "language": "python",
   "name": "python3"
  },
  "language_info": {
   "codemirror_mode": {
    "name": "ipython",
    "version": 3
   },
   "file_extension": ".py",
   "mimetype": "text/x-python",
   "name": "python",
   "nbconvert_exporter": "python",
   "pygments_lexer": "ipython3",
   "version": "3.8.10"
  }
 },
 "nbformat": 4,
 "nbformat_minor": 5
}
