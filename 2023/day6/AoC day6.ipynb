{
 "cells": [
  {
   "cell_type": "markdown",
   "id": "97b53de6",
   "metadata": {},
   "source": [
    "## Parte 1\n",
    "\n",
    "la tabla tiene tiempo y distancia del ganador de cada carrera.\n",
    "una carrera dura n, ese tiempo se tiene que dividir en pulsar el botón y correr, la velocidad se incrementa en 1 por cada 1 de tiempo pulsado el botón.\n",
    "cuantas formas hay de ganar cada carrera? la respuesta es la multiplicación de todos ellos"
   ]
  },
  {
   "cell_type": "code",
   "execution_count": 3,
   "id": "fd5d6e56",
   "metadata": {},
   "outputs": [],
   "source": [
    "def get_input(filename):\n",
    "    with open(filename) as file:\n",
    "        time_line = file.readline()\n",
    "        distance_line = file.readline()\n",
    "        \n",
    "    time_str = time_line.split(':')[1]\n",
    "    distance_str = distance_line.split(':')[1]\n",
    "    \n",
    "    times = [int(t) for t in time_str.split()]\n",
    "    distances = [int(d) for d in distance_str.split()]\n",
    "    \n",
    "    return times, distances"
   ]
  },
  {
   "cell_type": "code",
   "execution_count": 11,
   "id": "fdaf27a9",
   "metadata": {},
   "outputs": [],
   "source": [
    "def mult_win_posibilities(times, distances):\n",
    "    mult_count = 1\n",
    "    for t, d in zip(times, distances):\n",
    "        win_count = 0\n",
    "        for i in range(0, t + 1):\n",
    "            distance = (t - i)*(i)\n",
    "            if distance > d:\n",
    "                win_count += 1\n",
    "        mult_count *= win_count\n",
    "    return mult_count"
   ]
  },
  {
   "cell_type": "code",
   "execution_count": 12,
   "id": "eace1121",
   "metadata": {},
   "outputs": [
    {
     "data": {
      "text/plain": [
       "288"
      ]
     },
     "execution_count": 12,
     "metadata": {},
     "output_type": "execute_result"
    }
   ],
   "source": [
    "times, distances = get_input('test.txt')\n",
    "win_mult = mult_win_posibilities(times, distances)\n",
    "win_mult"
   ]
  },
  {
   "cell_type": "code",
   "execution_count": 13,
   "id": "30f0167f",
   "metadata": {},
   "outputs": [
    {
     "data": {
      "text/plain": [
       "252000"
      ]
     },
     "execution_count": 13,
     "metadata": {},
     "output_type": "execute_result"
    }
   ],
   "source": [
    "times, distances = get_input('input.txt')\n",
    "win_mult = mult_win_posibilities(times, distances)\n",
    "win_mult"
   ]
  },
  {
   "cell_type": "markdown",
   "id": "0b8fed13",
   "metadata": {},
   "source": [
    "## Parte 2\n",
    "la entrada se trataba de una sola carrera, tanto para tiempo como para distancia hay que ignorar los espacios"
   ]
  },
  {
   "cell_type": "code",
   "execution_count": 14,
   "id": "c16680d3",
   "metadata": {},
   "outputs": [],
   "source": [
    "def get_input2(filename):\n",
    "    with open(filename) as file:\n",
    "        time_line = file.readline()\n",
    "        distance_line = file.readline()\n",
    "        \n",
    "    time_str = time_line.split(':')[1]\n",
    "    time_str = time_str.replace(' ', '')\n",
    "    distance_str = distance_line.split(':')[1]\n",
    "    distance_str = distance_str.replace(' ', '')\n",
    "    \n",
    "    time = int(time_str)\n",
    "    distance = int(distance_str)\n",
    "    \n",
    "    return time, distance"
   ]
  },
  {
   "cell_type": "code",
   "execution_count": 17,
   "id": "fff0daed",
   "metadata": {},
   "outputs": [
    {
     "data": {
      "text/plain": [
       "71503"
      ]
     },
     "execution_count": 17,
     "metadata": {},
     "output_type": "execute_result"
    }
   ],
   "source": [
    "time, distance = get_input2('test.txt')\n",
    "win_mult = mult_win_posibilities([time], [distance])\n",
    "win_mult"
   ]
  },
  {
   "cell_type": "code",
   "execution_count": 20,
   "id": "5b2f5ed1",
   "metadata": {},
   "outputs": [
    {
     "data": {
      "text/plain": [
       "36992486"
      ]
     },
     "execution_count": 20,
     "metadata": {},
     "output_type": "execute_result"
    }
   ],
   "source": [
    "time, distance = get_input2('input.txt')\n",
    "win_mult = mult_win_posibilities([time], [distance])\n",
    "win_mult"
   ]
  },
  {
   "cell_type": "code",
   "execution_count": null,
   "id": "b5d3e5e9",
   "metadata": {},
   "outputs": [],
   "source": []
  }
 ],
 "metadata": {
  "kernelspec": {
   "display_name": "Python 3 (ipykernel)",
   "language": "python",
   "name": "python3"
  },
  "language_info": {
   "codemirror_mode": {
    "name": "ipython",
    "version": 3
   },
   "file_extension": ".py",
   "mimetype": "text/x-python",
   "name": "python",
   "nbconvert_exporter": "python",
   "pygments_lexer": "ipython3",
   "version": "3.8.10"
  }
 },
 "nbformat": 4,
 "nbformat_minor": 5
}
