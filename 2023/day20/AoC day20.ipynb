{
 "cells": [
  {
   "cell_type": "markdown",
   "id": "130f118a",
   "metadata": {},
   "source": [
    "## Parte 1\n",
    "\n",
    "tenemos un circuito que funciona con pulsos altos y bajos. Hay los siguientes módulos:\n",
    "\n",
    "- Flip-flop: con prefijo % estan inicialmente apagados, si reciben un pulso alto lo ignoran, si reciben un pulso bajo cambian su estado a encendido y mandan un pulso alto, si están encendidos se apagan y envían un pulso bajo.\n",
    "\n",
    "- Conjunction: con prefijo &, recuerdan el pulso más reciente de cada entrada, inicialmente recuerdan todo pulsos bajos, cuando reciben un pulso actualizan su memoria, luego si todo lo que recuerdan es un pulso alto envían un pulso bajo, en otro caso envían un pulso alto.\n",
    "\n",
    "- Broadcast: hay un único módulo de broadcast, cuando recibe un pulso lo envía igual a todos los destinos.\n",
    "\n",
    "- Botón: al pulsarlo envía un único pulso bajo al broadcast.\n",
    "\n",
    "Los pulsos se procesan en el orden en que son enviados.\n",
    "\n",
    "tras pulsar el botón mil veces cuantos pulsos altos y bajos se hyan enviado? La respuesta es pulsos altos por pulsos bajos."
   ]
  },
  {
   "cell_type": "code",
   "execution_count": 1,
   "id": "e1d9ed14",
   "metadata": {},
   "outputs": [],
   "source": [
    "def get_input(filename):\n",
    "    \"\"\"devuelve un diccionario:\n",
    "       {nombre: [tipo, estado, conexiones]}\"\"\"\n",
    "    componentes = {}\n",
    "    with open(filename) as file:\n",
    "        for line in file:\n",
    "            name, cons = line.strip().split('->')\n",
    "            is_flip = name.startswith('%')\n",
    "            is_conj = name.startswith('&')\n",
    "            cons = cons.split(',')\n",
    "            \n",
    "            if is_flip:\n",
    "                componentes[name[1:].strip()] = ['flip', False, [c.strip() for c in cons]]\n",
    "            elif is_conj:\n",
    "                componentes[name[1:].strip()] = ['conj', {}, [c.strip() for c in cons]]\n",
    "            else:\n",
    "                componentes[name.strip()] = ['other', None, [c.strip() for c in cons]]\n",
    "    \n",
    "    return componentes"
   ]
  },
  {
   "cell_type": "code",
   "execution_count": 24,
   "id": "f95e8516",
   "metadata": {},
   "outputs": [],
   "source": [
    "def init_conj(componentes):\n",
    "    # inicializa todos los conjuntores a falso para cada conexión entrante\n",
    "    for k0, v0 in componentes.items():\n",
    "        if v0[0] == 'conj':\n",
    "            for k1, v1 in componentes.items():\n",
    "                cons = v1[2]\n",
    "                if k0 in cons:\n",
    "                    v0[1][k1] = False\n",
    "    return componentes"
   ]
  },
  {
   "cell_type": "code",
   "execution_count": 25,
   "id": "9f6b974c",
   "metadata": {},
   "outputs": [],
   "source": [
    "def run_circuit(componentes):\n",
    "    q = [('broadcaster', False, None)]\n",
    "    \n",
    "    low_counter = 0\n",
    "    high_counter = 0\n",
    "    \n",
    "    while len(q):\n",
    "        name, pulse, prev = q.pop(0)\n",
    "        \n",
    "        if pulse:\n",
    "            high_counter += 1\n",
    "        else:\n",
    "            low_counter += 1\n",
    "            \n",
    "        if name not in componentes:\n",
    "            continue\n",
    "            \n",
    "        tipo, state, cons = componentes[name]\n",
    "        \n",
    "        if tipo == 'flip':\n",
    "            if not pulse:\n",
    "                if not state:\n",
    "                    componentes[name][1] = True\n",
    "                    out = True\n",
    "                elif state:\n",
    "                    componentes[name][1] = False\n",
    "                    out = False\n",
    "                    \n",
    "                for con in cons:\n",
    "                    q.append((con, out, name))\n",
    "        elif tipo == 'conj':\n",
    "            state[prev] = pulse\n",
    "            \n",
    "            if all(state.values()):\n",
    "                out = False\n",
    "            else:\n",
    "                out = True\n",
    "                \n",
    "            for con in cons:\n",
    "                q.append((con, out, name))\n",
    "        else:\n",
    "            for con in cons:\n",
    "                q.append((con, pulse, name))\n",
    "    return low_counter, high_counter"
   ]
  },
  {
   "cell_type": "code",
   "execution_count": 26,
   "id": "3f9fb2f2",
   "metadata": {},
   "outputs": [],
   "source": [
    "def run(componentes, ntimes):\n",
    "    cl = 0\n",
    "    ch = 0\n",
    "    init_conj(componentes)\n",
    "    for i in range(ntimes):\n",
    "        l, h = run_circuit(componentes)\n",
    "        cl += l\n",
    "        ch += h\n",
    "        \n",
    "    return cl * ch"
   ]
  },
  {
   "cell_type": "code",
   "execution_count": 27,
   "id": "f3e1acae",
   "metadata": {},
   "outputs": [
    {
     "data": {
      "text/plain": [
       "32000000"
      ]
     },
     "execution_count": 27,
     "metadata": {},
     "output_type": "execute_result"
    }
   ],
   "source": [
    "componentes = get_input('test1.txt')\n",
    "run(componentes, 1000)"
   ]
  },
  {
   "cell_type": "code",
   "execution_count": 29,
   "id": "7cbb3fdf",
   "metadata": {},
   "outputs": [
    {
     "data": {
      "text/plain": [
       "834323022"
      ]
     },
     "execution_count": 29,
     "metadata": {},
     "output_type": "execute_result"
    }
   ],
   "source": [
    "componentes = get_input('input.txt')\n",
    "run(componentes, 1000)"
   ]
  },
  {
   "cell_type": "markdown",
   "id": "29c2b721",
   "metadata": {},
   "source": [
    "## Parte 2\n",
    "\n",
    "la máquina tiene un único módulo llamado rx, la máquina se enciende cuando un pulso bajo se envía a rx. Cuál es el mínimo número de veces que hay que pulsar el botón para que llegue un único pulso bajo a rx?"
   ]
  },
  {
   "cell_type": "code",
   "execution_count": 55,
   "id": "2f98c788",
   "metadata": {},
   "outputs": [],
   "source": [
    "import math\n",
    "from functools import reduce"
   ]
  },
  {
   "cell_type": "code",
   "execution_count": 52,
   "id": "6949c9d6",
   "metadata": {},
   "outputs": [],
   "source": [
    "def run_circuit_rx(componentes, iteracion, origenes, ciclos):\n",
    "    q = [('broadcaster', False, None)]\n",
    "       \n",
    "    while len(q) > 0:\n",
    "        \n",
    "        #vamos guardando la primera vez que se pone a true un origen de rs\n",
    "        for c in q:\n",
    "            if c[2] in origenes and c[1] and c[2] not in ciclos:\n",
    "                ciclos[c[2]] = iteracion\n",
    "                \n",
    "        name, pulse, prev = q.pop(0)\n",
    "\n",
    "\n",
    "        if name not in componentes:\n",
    "            continue\n",
    "\n",
    "        tipo, state, cons = componentes[name]\n",
    "\n",
    "        if tipo == 'flip':\n",
    "            if not pulse:\n",
    "                if not state:\n",
    "                    componentes[name][1] = True\n",
    "                    out = True\n",
    "                elif state:\n",
    "                    componentes[name][1] = False\n",
    "                    out = False\n",
    "\n",
    "                for con in cons:\n",
    "                    q.append((con, out, name))\n",
    "        elif tipo == 'conj':\n",
    "            state[prev] = pulse\n",
    "\n",
    "            if all(state.values()):\n",
    "                out = False\n",
    "            else:\n",
    "                out = True\n",
    "\n",
    "            for con in cons:\n",
    "                q.append((con, out, name))\n",
    "        else:\n",
    "            for con in cons:\n",
    "                q.append((con, pulse, name))\n",
    "    return ciclos"
   ]
  },
  {
   "cell_type": "code",
   "execution_count": 64,
   "id": "504fcbc7",
   "metadata": {},
   "outputs": [],
   "source": [
    "def run_rx(componentes, ntimes):\n",
    "    componentes = init_conj(componentes)\n",
    "    \n",
    "    # (&bt, &dl, &fr, &rv) -> &rs -> rx\n",
    "    origenes = ['bt', 'dl', 'fr', 'rv']\n",
    "    ciclos = {}\n",
    "    for i in range(1, ntimes):\n",
    "        c = run_circuit_rx(componentes, i, origenes, ciclos)\n",
    "        \n",
    "    return ciclos"
   ]
  },
  {
   "cell_type": "code",
   "execution_count": 73,
   "id": "b594dee9",
   "metadata": {},
   "outputs": [],
   "source": [
    "def lcm(arr):\n",
    "    #a partir de python 3.9 lcm ya es una función y no hay que hacer esto\n",
    "    l = reduce(lambda x, y: (x * y) // math.gcd(x, y), arr)\n",
    "    return l"
   ]
  },
  {
   "cell_type": "code",
   "execution_count": 74,
   "id": "1e3e3745",
   "metadata": {},
   "outputs": [
    {
     "data": {
      "text/plain": [
       "225386464601017"
      ]
     },
     "execution_count": 74,
     "metadata": {},
     "output_type": "execute_result"
    }
   ],
   "source": [
    "componentes = get_input('input.txt')\n",
    "ciclos = run_rx(componentes, 10_000)\n",
    "lcm(ciclos.values())"
   ]
  },
  {
   "cell_type": "code",
   "execution_count": null,
   "id": "ce3d805c",
   "metadata": {},
   "outputs": [],
   "source": []
  }
 ],
 "metadata": {
  "kernelspec": {
   "display_name": "Python 3 (ipykernel)",
   "language": "python",
   "name": "python3"
  },
  "language_info": {
   "codemirror_mode": {
    "name": "ipython",
    "version": 3
   },
   "file_extension": ".py",
   "mimetype": "text/x-python",
   "name": "python",
   "nbconvert_exporter": "python",
   "pygments_lexer": "ipython3",
   "version": "3.8.10"
  }
 },
 "nbformat": 4,
 "nbformat_minor": 5
}
