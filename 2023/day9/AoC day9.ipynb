{
 "cells": [
  {
   "cell_type": "markdown",
   "id": "dd54dd40",
   "metadata": {},
   "source": [
    "## Parte 1\n",
    "cada línea del fichero de entrada tiene una serie numérica, para cada serie vamos a \"derivar\" hasta llegar a 0 y luego a extrapolar el siguiente valor.\n",
    "\n",
    "La respuesta es el valor de la suma de los valores extrapolados"
   ]
  },
  {
   "cell_type": "code",
   "execution_count": 4,
   "id": "f1ffa876",
   "metadata": {},
   "outputs": [],
   "source": [
    "def get_input(filename):\n",
    "    series = []\n",
    "    with open(filename) as file:\n",
    "        for line in file:\n",
    "            nums = line.split()\n",
    "            series.append([int(n) for n in nums])\n",
    "    return series"
   ]
  },
  {
   "cell_type": "code",
   "execution_count": 8,
   "id": "dc1ccafb",
   "metadata": {},
   "outputs": [],
   "source": [
    "def process_serie(serie):\n",
    "    difs = []\n",
    "    for i in range(0, len(serie) - 1):\n",
    "        d = serie[i + 1] - serie[i]\n",
    "        difs.append(d)\n",
    "    return difs"
   ]
  },
  {
   "cell_type": "code",
   "execution_count": 18,
   "id": "0bd87a43",
   "metadata": {},
   "outputs": [],
   "source": [
    "def all_zero(serie):\n",
    "    return not any(serie)"
   ]
  },
  {
   "cell_type": "code",
   "execution_count": 11,
   "id": "9db0511d",
   "metadata": {},
   "outputs": [],
   "source": [
    "def get_difs_list(serie):\n",
    "    difs_list = []\n",
    "    \n",
    "    while not(all_zero(serie)):\n",
    "        difs = process_serie(serie)\n",
    "        difs_list.append(difs)\n",
    "        serie = difs\n",
    "        \n",
    "    return difs_list"
   ]
  },
  {
   "cell_type": "code",
   "execution_count": 12,
   "id": "a4ce88f6",
   "metadata": {},
   "outputs": [],
   "source": [
    "def get_next(difs, serie):\n",
    "    ndifs = difs[::-1]\n",
    "    curr_sum = 0\n",
    "    for d in ndifs:\n",
    "        curr_sum = d[-1] + curr_sum\n",
    "    return serie[-1] + curr_sum"
   ]
  },
  {
   "cell_type": "code",
   "execution_count": 13,
   "id": "74d3b212",
   "metadata": {},
   "outputs": [],
   "source": [
    "def sum_next(series):\n",
    "    next_nums = []\n",
    "    \n",
    "    for i, s in enumerate(series):\n",
    "        difs = get_difs_list(s)\n",
    "        num = get_next(difs, s)\n",
    "        next_nums.append(num)\n",
    "        \n",
    "    return sum(next_nums)"
   ]
  },
  {
   "cell_type": "code",
   "execution_count": 19,
   "id": "74dd7f02",
   "metadata": {},
   "outputs": [
    {
     "data": {
      "text/plain": [
       "114"
      ]
     },
     "execution_count": 19,
     "metadata": {},
     "output_type": "execute_result"
    }
   ],
   "source": [
    "data = get_input('test.txt')\n",
    "result = sum_next(data)\n",
    "result"
   ]
  },
  {
   "cell_type": "code",
   "execution_count": 20,
   "id": "07a9015c",
   "metadata": {},
   "outputs": [
    {
     "data": {
      "text/plain": [
       "1972648895"
      ]
     },
     "execution_count": 20,
     "metadata": {},
     "output_type": "execute_result"
    }
   ],
   "source": [
    "data = get_input('input.txt')\n",
    "result = sum_next(data)\n",
    "result"
   ]
  },
  {
   "cell_type": "markdown",
   "id": "a923a6ee",
   "metadata": {},
   "source": [
    "## Parte 2\n",
    "\n",
    "se pide ahora extrapolar al inicio de la serie en lugar de al final y devolver la suma de estos valores"
   ]
  },
  {
   "cell_type": "code",
   "execution_count": 25,
   "id": "9f9f8a19",
   "metadata": {},
   "outputs": [],
   "source": [
    "def get_prev(difs, serie):\n",
    "    ndifs = difs[::-1]\n",
    "    curr_sum = 0\n",
    "    \n",
    "    for d in ndifs:\n",
    "        curr_sum = d[0] - curr_sum\n",
    "    return serie[0] - curr_sum"
   ]
  },
  {
   "cell_type": "code",
   "execution_count": 26,
   "id": "c10f4cfd",
   "metadata": {},
   "outputs": [],
   "source": [
    "def sum_prev(series):\n",
    "    prev_nums = []\n",
    "    \n",
    "    for i, s in enumerate(series):\n",
    "        difs = get_difs_list(s)\n",
    "        num = get_prev(difs, s)\n",
    "        prev_nums.append(num)\n",
    "        \n",
    "    return sum(prev_nums)"
   ]
  },
  {
   "cell_type": "code",
   "execution_count": 27,
   "id": "f2bb72f8",
   "metadata": {},
   "outputs": [
    {
     "data": {
      "text/plain": [
       "2"
      ]
     },
     "execution_count": 27,
     "metadata": {},
     "output_type": "execute_result"
    }
   ],
   "source": [
    "data = get_input('test.txt')\n",
    "result = sum_prev(data)\n",
    "result"
   ]
  },
  {
   "cell_type": "code",
   "execution_count": 28,
   "id": "ad510e99",
   "metadata": {},
   "outputs": [
    {
     "data": {
      "text/plain": [
       "919"
      ]
     },
     "execution_count": 28,
     "metadata": {},
     "output_type": "execute_result"
    }
   ],
   "source": [
    "data = get_input('input.txt')\n",
    "result = sum_prev(data)\n",
    "result"
   ]
  },
  {
   "cell_type": "code",
   "execution_count": null,
   "id": "0efd7811",
   "metadata": {},
   "outputs": [],
   "source": []
  }
 ],
 "metadata": {
  "kernelspec": {
   "display_name": "Python 3 (ipykernel)",
   "language": "python",
   "name": "python3"
  },
  "language_info": {
   "codemirror_mode": {
    "name": "ipython",
    "version": 3
   },
   "file_extension": ".py",
   "mimetype": "text/x-python",
   "name": "python",
   "nbconvert_exporter": "python",
   "pygments_lexer": "ipython3",
   "version": "3.8.10"
  }
 },
 "nbformat": 4,
 "nbformat_minor": 5
}
