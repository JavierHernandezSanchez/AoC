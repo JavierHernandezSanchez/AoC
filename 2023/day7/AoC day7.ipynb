{
 "cells": [
  {
   "cell_type": "markdown",
   "id": "bad6f789",
   "metadata": {},
   "source": [
    "## Parte 1\n",
    "\n",
    "cartas en la baraja A, K, Q, J, T, 9, 8, 7, 6, 5, 4, 3, 2\n",
    "\n",
    "importancia relativa:\n",
    "- 5 iguales\n",
    "- 4 iguales\n",
    "- full: 3 y 2\n",
    "- 3 iguales\n",
    "- 2 parejas\n",
    "- 1 pareja\n",
    "- carta alta\n",
    "    \n",
    "las cartas se ordenan por su importancia. Si tienen la misma importancia se ordenan por la carta mas alta en orden.\n",
    "\n",
    "33332 gana a 2AAAA porque su primera carta es mas alta, si son iguales se pasa a la segunda carta.\n",
    "\n",
    "el resultado es la suma de las apuestas por el ranking de cada mano"
   ]
  },
  {
   "cell_type": "code",
   "execution_count": 7,
   "id": "6941779a",
   "metadata": {},
   "outputs": [],
   "source": [
    "from collections import Counter\n",
    "import functools"
   ]
  },
  {
   "cell_type": "code",
   "execution_count": 2,
   "id": "16292abe",
   "metadata": {},
   "outputs": [],
   "source": [
    "def get_hand_type(hand):\n",
    "    counts = Counter(hand)\n",
    "    ordered_counts = sorted(counts.items(), key=lambda x: x[1], reverse=True)\n",
    "        \n",
    "    if ordered_counts[0][1] == 5:\n",
    "        #five of a kind\n",
    "        return 7    \n",
    "    elif ordered_counts[0][1] == 4:\n",
    "        #four of a kind\n",
    "        return 6    \n",
    "    elif ordered_counts[0][1] == 3 and ordered_counts[1][1] == 2:\n",
    "        #full house\n",
    "        return 5\n",
    "    elif ordered_counts[0][1] == 3:\n",
    "        #three of a kind\n",
    "        return 4\n",
    "    elif ordered_counts[0][1] == 2 and ordered_counts[1][1] == 2:\n",
    "        #two pairs\n",
    "        return 3\n",
    "    elif ordered_counts[0][1] == 2:\n",
    "        return 2\n",
    "    else:\n",
    "        return 1"
   ]
  },
  {
   "cell_type": "code",
   "execution_count": 3,
   "id": "3894a15e",
   "metadata": {},
   "outputs": [],
   "source": [
    "def greater(hand1, hand2, dic_vals):\n",
    "    for i, j in zip(hand1, hand2):\n",
    "        if dic_vals[i] == dic_vals[j]:\n",
    "            continue\n",
    "        if dic_vals[i] > dic_vals[j]:\n",
    "            return 1\n",
    "        elif dic_vals[i] < dic_vals[j]:\n",
    "            return -1\n",
    "    return 0"
   ]
  },
  {
   "cell_type": "code",
   "execution_count": 22,
   "id": "c4c3719d",
   "metadata": {},
   "outputs": [],
   "source": [
    "def cmp_function(hand1, hand2):\n",
    "    dic_vals = {'A': 14, 'K': 13, 'Q': 12, 'J': 11, 'T': 10,\n",
    "                '9': 9, '8': 8, '7': 7, '6': 6, \n",
    "                '5': 5, '4': 4, '3': 3, '2': 2}\n",
    "    if hand_type[hand1] > hand_type[hand2]:\n",
    "        return 1\n",
    "    if hand_type[hand1] < hand_type[hand2]:\n",
    "        return -1\n",
    "    return greater(hand1, hand2, dic_vals)"
   ]
  },
  {
   "cell_type": "code",
   "execution_count": 23,
   "id": "ab807b8b",
   "metadata": {},
   "outputs": [],
   "source": [
    "def get_input(filename):\n",
    "    hand_bet = {}\n",
    "    hand_type = {}\n",
    "    hands = []\n",
    "    \n",
    "    with open(filename) as file:\n",
    "        for line in file:\n",
    "            hand, bet = line.split()\n",
    "            hands.append(hand)\n",
    "            hand_bet[hand] = int(bet)\n",
    "            hand_type[hand] = get_hand_type(hand)\n",
    "    \n",
    "    return hands, hand_type, hand_bet"
   ]
  },
  {
   "cell_type": "code",
   "execution_count": 24,
   "id": "19d10223",
   "metadata": {},
   "outputs": [],
   "source": [
    "def get_earnings(hands):\n",
    "    ordered_hands = sorted(hands, key=functools.cmp_to_key(cmp_function))\n",
    "    \n",
    "    acum = 0\n",
    "    for i, h in enumerate(ordered_hands, 1):\n",
    "        acum += i * hand_bet[h]\n",
    "    return acum"
   ]
  },
  {
   "cell_type": "code",
   "execution_count": 25,
   "id": "6418ea78",
   "metadata": {},
   "outputs": [
    {
     "data": {
      "text/plain": [
       "6440"
      ]
     },
     "execution_count": 25,
     "metadata": {},
     "output_type": "execute_result"
    }
   ],
   "source": [
    "hands, hand_type, hand_bet = get_input('test.txt')\n",
    "earnings = get_earnings(hands)\n",
    "earnings"
   ]
  },
  {
   "cell_type": "code",
   "execution_count": 26,
   "id": "050663bd",
   "metadata": {},
   "outputs": [
    {
     "data": {
      "text/plain": [
       "250898830"
      ]
     },
     "execution_count": 26,
     "metadata": {},
     "output_type": "execute_result"
    }
   ],
   "source": [
    "hands, hand_type, hand_bet = get_input('input.txt')\n",
    "earnings = get_earnings(hands)\n",
    "earnings"
   ]
  },
  {
   "cell_type": "markdown",
   "id": "34350721",
   "metadata": {},
   "source": [
    "## Parte 2:\n",
    "\n",
    "ahora las J son comodines que actuan como la carta que hace que la mano sea la mas fuerte posible, para contrarrestar ahora las J son las mas débiles.\n",
    "\n",
    "A, K, Q, T, 9, 8, 7, 6, 5, 4, 3, 2, J"
   ]
  },
  {
   "cell_type": "code",
   "execution_count": 31,
   "id": "e493debf",
   "metadata": {},
   "outputs": [],
   "source": [
    "def get_hand_type_j(hand):\n",
    "    if hand.count('J') >= 4:\n",
    "        return 7\n",
    "    if hand.count('J') == 0:\n",
    "        return get_hand_type(hand)\n",
    "    \n",
    "    max_type = 0\n",
    "    posibles = ['A', 'K', 'Q', 'T', '9', '8', '7', '6', '5', '4', '3', '2']\n",
    "    \n",
    "    if hand.count('J') == 1:\n",
    "        for p in posibles:\n",
    "            new_hand = hand.replace('J', p)\n",
    "            new_type = get_hand_type(new_hand)\n",
    "            if new_type > max_type:\n",
    "                max_type = new_type\n",
    "    elif hand.count('J') == 2:\n",
    "        for p in posibles:\n",
    "            for q in posibles:\n",
    "                new_hand = hand.replace('J', p, 1)\n",
    "                new_hand = new_hand.replace('J', q, 1)\n",
    "                new_type = get_hand_type(new_hand)\n",
    "                if new_type > max_type:\n",
    "                    max_type = new_type\n",
    "    elif hand.count('J') == 3:\n",
    "        for p in posibles:\n",
    "            for q in posibles:\n",
    "                for r in posibles:\n",
    "                    new_hand = hand.replace('J', p, 1)\n",
    "                    new_hand = new_hand.replace('J', q, 1)\n",
    "                    new_hand = new_hand.replace('J', r, 1)\n",
    "                    new_type = get_hand_type(new_hand)\n",
    "                    if new_type > max_type:\n",
    "                        max_type = new_type\n",
    "    return max_type"
   ]
  },
  {
   "cell_type": "code",
   "execution_count": 32,
   "id": "49d9c18b",
   "metadata": {},
   "outputs": [],
   "source": [
    "def get_input_j(filename):\n",
    "    hand_bet = {}\n",
    "    hand_type = {}\n",
    "    hands = []\n",
    "    \n",
    "    with open(filename) as file:\n",
    "        for line in file:\n",
    "            hand, bet = line.split()\n",
    "            hands.append(hand)\n",
    "            hand_bet[hand] = int(bet)\n",
    "            hand_type[hand] = get_hand_type_j(hand)\n",
    "    \n",
    "    return hands, hand_type, hand_bet"
   ]
  },
  {
   "cell_type": "code",
   "execution_count": 37,
   "id": "c614cc08",
   "metadata": {},
   "outputs": [],
   "source": [
    "def cmp_function_j(hand1, hand2):\n",
    "    dic_vals = {'A': 14, 'K': 13, 'Q': 12, 'J': 1, 'T': 10,\n",
    "                '9': 9, '8': 8, '7': 7, '6': 6, \n",
    "                '5': 5, '4': 4, '3': 3, '2': 2}\n",
    "    if hand_type[hand1] > hand_type[hand2]:\n",
    "        return 1\n",
    "    if hand_type[hand1] < hand_type[hand2]:\n",
    "        return -1\n",
    "    return greater(hand1, hand2, dic_vals)"
   ]
  },
  {
   "cell_type": "code",
   "execution_count": 38,
   "id": "49eb3e07",
   "metadata": {},
   "outputs": [],
   "source": [
    "def get_earnings_j(hands):\n",
    "    ordered_hands = sorted(hands, key=functools.cmp_to_key(cmp_function_j))\n",
    "    \n",
    "    acum = 0\n",
    "    for i, h in enumerate(ordered_hands, 1):\n",
    "        acum += i * hand_bet[h]\n",
    "    return acum"
   ]
  },
  {
   "cell_type": "code",
   "execution_count": 39,
   "id": "7549fef5",
   "metadata": {},
   "outputs": [
    {
     "data": {
      "text/plain": [
       "5905"
      ]
     },
     "execution_count": 39,
     "metadata": {},
     "output_type": "execute_result"
    }
   ],
   "source": [
    "hands, hand_type, hand_bet = get_input_j('test.txt')\n",
    "earnings = get_earnings_j(hands)\n",
    "earnings"
   ]
  },
  {
   "cell_type": "code",
   "execution_count": 40,
   "id": "a249242b",
   "metadata": {},
   "outputs": [
    {
     "data": {
      "text/plain": [
       "252127335"
      ]
     },
     "execution_count": 40,
     "metadata": {},
     "output_type": "execute_result"
    }
   ],
   "source": [
    "hands, hand_type, hand_bet = get_input_j('input.txt')\n",
    "earnings = get_earnings_j(hands)\n",
    "earnings"
   ]
  },
  {
   "cell_type": "code",
   "execution_count": null,
   "id": "ad5c3a3e",
   "metadata": {},
   "outputs": [],
   "source": []
  }
 ],
 "metadata": {
  "kernelspec": {
   "display_name": "Python 3 (ipykernel)",
   "language": "python",
   "name": "python3"
  },
  "language_info": {
   "codemirror_mode": {
    "name": "ipython",
    "version": 3
   },
   "file_extension": ".py",
   "mimetype": "text/x-python",
   "name": "python",
   "nbconvert_exporter": "python",
   "pygments_lexer": "ipython3",
   "version": "3.8.10"
  }
 },
 "nbformat": 4,
 "nbformat_minor": 5
}
