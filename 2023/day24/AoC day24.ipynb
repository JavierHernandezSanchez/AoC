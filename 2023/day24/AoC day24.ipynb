{
 "cells": [
  {
   "cell_type": "markdown",
   "id": "7e29a10a",
   "metadata": {},
   "source": [
    "## Parte 1\n",
    "\n",
    "tenemos la posición y velocidad de cada grano de granizo expresada como:\n",
    "    \n",
    "x, y, z @ vx, vy, vz\n",
    "\n",
    "las velocidades son constantes.\n",
    "\n",
    "ignorando el eje z, cuantas trayectorias se cruzarán dentro de un área de prueba.\n",
    "\n",
    "- test area de la prueba: 7, 27\n",
    "- test area de la entrada 200000000000000, 400000000000000"
   ]
  },
  {
   "cell_type": "code",
   "execution_count": 25,
   "id": "12216c96",
   "metadata": {},
   "outputs": [],
   "source": [
    "def get_input(filename):\n",
    "    granizo_map = []\n",
    "    with open(filename) as file:\n",
    "        for line in file:\n",
    "            pos, vel = line.strip().split('@')\n",
    "            granizo_map.append(tuple(int(p) for p in pos.split(',')) + tuple(int(v) for v in vel.split(',')))\n",
    "    return granizo_map"
   ]
  },
  {
   "cell_type": "code",
   "execution_count": 27,
   "id": "44af8f32",
   "metadata": {},
   "outputs": [],
   "source": [
    "def convert_to_explicit(line):\n",
    "    \"\"\"recibe una línea x, y, vx, vy y la convierte a y = mx + b\"\"\"\n",
    "    x, y, _, vx, vy, _ = line\n",
    "    m = vy / vx\n",
    "    b = y - m * x\n",
    "    \n",
    "    return m, b"
   ]
  },
  {
   "cell_type": "code",
   "execution_count": 31,
   "id": "f8579b53",
   "metadata": {},
   "outputs": [
    {
     "data": {
      "text/plain": [
       "(-2.0, 7.0)"
      ]
     },
     "execution_count": 31,
     "metadata": {},
     "output_type": "execute_result"
    }
   ],
   "source": [
    "# test x = 3, y = 1, vx = 1, vy = -2\n",
    "# y = -2x + 7\n",
    "convert_to_explicit((3, 1, 0, 1, -2, 0))"
   ]
  },
  {
   "cell_type": "code",
   "execution_count": 43,
   "id": "b7c79ab0",
   "metadata": {},
   "outputs": [],
   "source": [
    "def intersection(line1, line2):\n",
    "    m1, b1 = line1\n",
    "    m2, b2 = line2\n",
    "    \n",
    "    if m1 == m2:\n",
    "        return (None, None)\n",
    "    \n",
    "    x = (b2 - b1) / (m1 - m2)\n",
    "    y = m1 * x + b1\n",
    "    \n",
    "    return (x, y)"
   ]
  },
  {
   "cell_type": "code",
   "execution_count": 44,
   "id": "264c6e0a",
   "metadata": {},
   "outputs": [
    {
     "data": {
      "text/plain": [
       "(1.0, 3.0)"
      ]
     },
     "execution_count": 44,
     "metadata": {},
     "output_type": "execute_result"
    }
   ],
   "source": [
    "# test: y = 2x + 1; y = -3x + 6\n",
    "# x = 1; y = 3\n",
    "intersection((2, 1), (-3, 6))"
   ]
  },
  {
   "cell_type": "code",
   "execution_count": 45,
   "id": "fc6d4bed",
   "metadata": {},
   "outputs": [],
   "source": [
    "def get_tiempo(x0, x1, vx):\n",
    "    return (x1 - x0) / vx"
   ]
  },
  {
   "cell_type": "code",
   "execution_count": 49,
   "id": "47cfd29c",
   "metadata": {},
   "outputs": [
    {
     "data": {
      "text/plain": [
       "3.0"
      ]
     },
     "execution_count": 49,
     "metadata": {},
     "output_type": "execute_result"
    }
   ],
   "source": [
    "# test x0 = 3, vx = 1, x1 = 6\n",
    "# t = 3\n",
    "get_tiempo(3, 6, 1)"
   ]
  },
  {
   "cell_type": "code",
   "execution_count": 64,
   "id": "a1230d19",
   "metadata": {},
   "outputs": [],
   "source": [
    "def contar_intersecciones(granizo_map, pmin, pmax):\n",
    "    count = 0\n",
    "    for i in range(len(granizo_map) - 1):\n",
    "        mi, bi = convert_to_explicit(granizo_map[i])\n",
    "        for j in range(i + 1, len(granizo_map)):            \n",
    "            mj, bj = convert_to_explicit(granizo_map[j])\n",
    "            \n",
    "            x, y = intersection([mi, bi], [mj, bj])            \n",
    "            if (x, y) == (None, None):\n",
    "                continue\n",
    "                \n",
    "            xi_ini = granizo_map[i][0]\n",
    "            vix = granizo_map[i][3]\n",
    "            ti = get_tiempo(xi_ini, x, vix)\n",
    "            \n",
    "            xj_ini = granizo_map[j][0]\n",
    "            vjx = granizo_map[j][3]\n",
    "            tj = get_tiempo(xj_ini, x, vjx)                        \n",
    "            \n",
    "            if ti >= 0 and tj >= 0 and pmin <= x and x <= pmax and pmin <= y and y <= pmax:\n",
    "                count += 1\n",
    "    return count"
   ]
  },
  {
   "cell_type": "code",
   "execution_count": 65,
   "id": "07c14ebf",
   "metadata": {},
   "outputs": [
    {
     "data": {
      "text/plain": [
       "2"
      ]
     },
     "execution_count": 65,
     "metadata": {},
     "output_type": "execute_result"
    }
   ],
   "source": [
    "granizo_map = get_input('test.txt')\n",
    "intersecciones = contar_intersecciones(granizo_map, 7, 27)\n",
    "intersecciones"
   ]
  },
  {
   "cell_type": "code",
   "execution_count": 66,
   "id": "7d1097d7",
   "metadata": {},
   "outputs": [
    {
     "data": {
      "text/plain": [
       "27732"
      ]
     },
     "execution_count": 66,
     "metadata": {},
     "output_type": "execute_result"
    }
   ],
   "source": [
    "granizo_map = get_input('input.txt')\n",
    "intersecciones = contar_intersecciones(granizo_map, 200000000000000, 400000000000000)\n",
    "intersecciones"
   ]
  },
  {
   "cell_type": "markdown",
   "id": "2ab55d77",
   "metadata": {},
   "source": [
    "## Parte 2\n",
    "\n",
    "encontrar la trayectoria para que tirando una piedra colisione con todos los granizos, la roca se tira en t = 0.\n",
    "\n",
    "La roca no se relentiza ni cambia de trayectoria."
   ]
  },
  {
   "cell_type": "code",
   "execution_count": 69,
   "id": "ff5fc3ab",
   "metadata": {},
   "outputs": [],
   "source": [
    "import sympy"
   ]
  },
  {
   "cell_type": "code",
   "execution_count": 115,
   "id": "d4559d3e",
   "metadata": {},
   "outputs": [],
   "source": [
    "def solve_symbolic(granizo_map):\n",
    "    x, y, z, vx, vy, vz = sympy.symbols('x y z vx vy vz')\n",
    "    ecuaciones = []\n",
    "    tes = []\n",
    "    \n",
    "    #si hay choque y choca con 3 tiene que chocar con todas\n",
    "    for i, g in enumerate(granizo_map[:3]):        \n",
    "        x0, y0, z0, vx0, vy0, vz0 = g\n",
    "        t = sympy.Symbol('t' + str(i))\n",
    "        \n",
    "        ecuacion_x = x + vx * t - x0 - vx0 * t\n",
    "        ecuaciones.append(ecuacion_x)\n",
    "        ecuacion_y = y + vy * t - y0 - vy0 * t\n",
    "        ecuaciones.append(ecuacion_y)\n",
    "        ecuacion_z = z + vz * t - z0 - vz0 * t\n",
    "        ecuaciones.append(ecuacion_z)\n",
    "        \n",
    "        tes.append(t)\n",
    "        \n",
    "    resultado = sympy.solve_poly_system(ecuaciones, *([x, y, z, vx, vy, vz] + tes))\n",
    "    return resultado[0][0] + resultado[0][1] + resultado[0][2]"
   ]
  },
  {
   "cell_type": "code",
   "execution_count": 117,
   "id": "2a867abd",
   "metadata": {},
   "outputs": [
    {
     "data": {
      "text/latex": [
       "$\\displaystyle 47$"
      ],
      "text/plain": [
       "47"
      ]
     },
     "execution_count": 117,
     "metadata": {},
     "output_type": "execute_result"
    }
   ],
   "source": [
    "granizo_map = get_input('test.txt')\n",
    "resultado = solve_symbolic(granizo_map)\n",
    "resultado"
   ]
  },
  {
   "cell_type": "code",
   "execution_count": 118,
   "id": "14dbc2fb",
   "metadata": {},
   "outputs": [
    {
     "data": {
      "text/latex": [
       "$\\displaystyle 641619849766168$"
      ],
      "text/plain": [
       "641619849766168"
      ]
     },
     "execution_count": 118,
     "metadata": {},
     "output_type": "execute_result"
    }
   ],
   "source": [
    "granizo_map = get_input('input.txt')\n",
    "resultado = solve_symbolic(granizo_map)\n",
    "resultado"
   ]
  },
  {
   "cell_type": "code",
   "execution_count": null,
   "id": "1672ba08",
   "metadata": {},
   "outputs": [],
   "source": []
  }
 ],
 "metadata": {
  "kernelspec": {
   "display_name": "Python 3 (ipykernel)",
   "language": "python",
   "name": "python3"
  },
  "language_info": {
   "codemirror_mode": {
    "name": "ipython",
    "version": 3
   },
   "file_extension": ".py",
   "mimetype": "text/x-python",
   "name": "python",
   "nbconvert_exporter": "python",
   "pygments_lexer": "ipython3",
   "version": "3.8.10"
  }
 },
 "nbformat": 4,
 "nbformat_minor": 5
}
