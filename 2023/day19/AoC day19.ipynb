{
 "cells": [
  {
   "cell_type": "markdown",
   "id": "8a814917",
   "metadata": {},
   "source": [
    "## Parte 1\n",
    "\n",
    "cada pieza se clasifica en una categoría:\n",
    "- x\n",
    "- M\n",
    "- A\n",
    "- S\n",
    "\n",
    "cada pieza se manda a un flujo que lo acepta o lo rechaza.\n",
    "\n",
    "cada regla indica a donde va la pieza si la condición se cumple, las reglas se cumplen en orden, si no se cumple ninguna la última regla se aplica siempre.\n",
    "\n",
    "ej: ex{x>10:one,m<20:two,a>30:R,A}"
   ]
  },
  {
   "cell_type": "code",
   "execution_count": 1,
   "id": "a719dbea",
   "metadata": {},
   "outputs": [],
   "source": [
    "import regex as re"
   ]
  },
  {
   "cell_type": "code",
   "execution_count": 5,
   "id": "01c026b1",
   "metadata": {},
   "outputs": [],
   "source": [
    "def get_input(filename):\n",
    "    rules = {}\n",
    "    pieces = []\n",
    "    separator_seen = False\n",
    "    \n",
    "    with open(filename) as file:\n",
    "        for line in file:\n",
    "            if line.strip() == '':\n",
    "                separator_seen = True\n",
    "                continue\n",
    "                \n",
    "            if separator_seen:\n",
    "                numbers = re.findall('\\d+', line)\n",
    "                pieces.append({x: int(i) for i, x in zip(numbers, ('x', 'm', 'a', 's'))})\n",
    "            else:\n",
    "                pos = line.find('{')\n",
    "                rule_name = line[0: pos]\n",
    "                rule_body = line[pos + 1: -2]\n",
    "                rule_parts = rule_body.split(',')\n",
    "                \n",
    "                rule = []\n",
    "                for part in rule_parts:\n",
    "                    if ':' in part:\n",
    "                        cond, dest = part.split(':')\n",
    "                    else:\n",
    "                        cond = 'True'\n",
    "                        dest = part\n",
    "                    rule.append((cond, dest))\n",
    "                rules[rule_name] = rule\n",
    "    return rules, pieces"
   ]
  },
  {
   "cell_type": "code",
   "execution_count": 9,
   "id": "87489cdb",
   "metadata": {},
   "outputs": [],
   "source": [
    "def process_pieces(rules, pieces):\n",
    "    \n",
    "    acum = 0\n",
    "    for piece in pieces:\n",
    "        cur_rule = 'in'\n",
    "        x = piece['x']\n",
    "        m = piece['m']\n",
    "        a = piece['a']\n",
    "        s = piece['s']\n",
    "        \n",
    "        while cur_rule not in ('A', 'R'):\n",
    "            for cond, dest in rules[cur_rule]:\n",
    "                result = eval(cond)\n",
    "                if result:\n",
    "                    cur_rule = dest\n",
    "                    break\n",
    "                    \n",
    "            if cur_rule == 'A':\n",
    "                acum += piece['x'] + piece['m'] + piece['a'] + piece['s']\n",
    "    return acum        "
   ]
  },
  {
   "cell_type": "code",
   "execution_count": 10,
   "id": "95978dc5",
   "metadata": {},
   "outputs": [
    {
     "data": {
      "text/plain": [
       "19114"
      ]
     },
     "execution_count": 10,
     "metadata": {},
     "output_type": "execute_result"
    }
   ],
   "source": [
    "rules, pieces = get_input('test.txt')\n",
    "acum = process_pieces(rules, pieces)\n",
    "acum"
   ]
  },
  {
   "cell_type": "code",
   "execution_count": 11,
   "id": "77b9548f",
   "metadata": {},
   "outputs": [
    {
     "data": {
      "text/plain": [
       "319062"
      ]
     },
     "execution_count": 11,
     "metadata": {},
     "output_type": "execute_result"
    }
   ],
   "source": [
    "rules, pieces = get_input('input.txt')\n",
    "acum = process_pieces(rules, pieces)\n",
    "acum"
   ]
  },
  {
   "cell_type": "markdown",
   "id": "19133a22",
   "metadata": {},
   "source": [
    "## Parte 2\n",
    "\n",
    "en lugar de aceptar o rechazar piezas individuales hay que buscar las combinaciones que serán aceptadas, cuantas combinaciones distintas serán aceptadas?"
   ]
  },
  {
   "cell_type": "code",
   "execution_count": 12,
   "id": "e4fcffcc",
   "metadata": {},
   "outputs": [],
   "source": [
    "def traverse_rules(rules, pos, cur, ranges):    \n",
    "    if pos == 'A':\n",
    "        ranges.append(cur)\n",
    "        return\n",
    "    \n",
    "    if pos == 'R':\n",
    "        return\n",
    "    \n",
    "    extra_conds = []\n",
    "    for rule in rules[pos]:\n",
    "        condition = rule[0]\n",
    "        new_pos = rule[1]\n",
    "        \n",
    "        if '<' in condition:\n",
    "            traverse_rules(rules, new_pos, [c for c in cur] + extra_conds + [condition], ranges)\n",
    "            parts = condition.split('<')\n",
    "            new_cond = parts[0] + '>' + str(int(parts[1]) - 1)\n",
    "            extra_conds.append(new_cond)\n",
    "        elif '>' in condition:\n",
    "            traverse_rules(rules, new_pos, [c for c in cur] + extra_conds + [condition], ranges)\n",
    "            parts = condition.split('>')\n",
    "            new_cond = parts[0] + '<' + str(int(parts[1]) + 1)\n",
    "            extra_conds.append(new_cond)\n",
    "        else:\n",
    "            traverse_rules(rules, new_pos, [c for c in cur] + extra_conds, ranges)"
   ]
  },
  {
   "cell_type": "code",
   "execution_count": 25,
   "id": "c72d5459",
   "metadata": {},
   "outputs": [],
   "source": [
    "def count_accepted(ranges):\n",
    "    cont = 0\n",
    "    for r in ranges:\n",
    "        limits = {'x': [1, 4000], 'm': [1, 4000], 'a': [1, 4000], 's': [1, 4000]}\n",
    "        for cond in r:\n",
    "            for k in 'xmas':\n",
    "                if k in cond and '<' in cond:\n",
    "                    new_val = int(cond.split('<')[1])\n",
    "                    if limits[k][1] > new_val - 1:\n",
    "                        limits[k][1] = new_val - 1\n",
    "                elif k in cond and '>' in cond:\n",
    "                    new_val = int(cond.split('>')[1])\n",
    "                    if limits[k][0] < new_val + 1:\n",
    "                        limits[k][0] = new_val + 1\n",
    "                        \n",
    "        acum = 1\n",
    "        for x in 'xmas':\n",
    "            acum *= (limits[x][1] - limits[x][0]) + 1\n",
    "        cont += acum\n",
    "        \n",
    "    return cont"
   ]
  },
  {
   "cell_type": "code",
   "execution_count": 27,
   "id": "397a4d57",
   "metadata": {},
   "outputs": [
    {
     "data": {
      "text/plain": [
       "167409079868000"
      ]
     },
     "execution_count": 27,
     "metadata": {},
     "output_type": "execute_result"
    }
   ],
   "source": [
    "rules, _ = get_input('test.txt')\n",
    "ranges = []\n",
    "traverse_rules(rules, 'in', [], ranges)\n",
    "accepted = count_accepted(ranges)\n",
    "accepted"
   ]
  },
  {
   "cell_type": "code",
   "execution_count": 28,
   "id": "0708cdb1",
   "metadata": {},
   "outputs": [
    {
     "data": {
      "text/plain": [
       "118638369682135"
      ]
     },
     "execution_count": 28,
     "metadata": {},
     "output_type": "execute_result"
    }
   ],
   "source": [
    "rules, _ = get_input('input.txt')\n",
    "ranges = []\n",
    "traverse_rules(rules, 'in', [], ranges)\n",
    "accepted = count_accepted(ranges)\n",
    "accepted"
   ]
  },
  {
   "cell_type": "code",
   "execution_count": null,
   "id": "26b39a3c",
   "metadata": {},
   "outputs": [],
   "source": []
  }
 ],
 "metadata": {
  "kernelspec": {
   "display_name": "Python 3 (ipykernel)",
   "language": "python",
   "name": "python3"
  },
  "language_info": {
   "codemirror_mode": {
    "name": "ipython",
    "version": 3
   },
   "file_extension": ".py",
   "mimetype": "text/x-python",
   "name": "python",
   "nbconvert_exporter": "python",
   "pygments_lexer": "ipython3",
   "version": "3.8.10"
  }
 },
 "nbformat": 4,
 "nbformat_minor": 5
}
