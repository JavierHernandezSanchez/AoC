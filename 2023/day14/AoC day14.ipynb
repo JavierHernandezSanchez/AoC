{
 "cells": [
  {
   "cell_type": "markdown",
   "id": "d2bb6aa3",
   "metadata": {},
   "source": [
    "## Parte 1\n",
    "\n",
    "hay rocas redondas O, rocas cuadradas # y espacios vacíos ., al inclinar la plataforma las rocas redondas girarán en el sentido indicado. Hay que calcular la carga total en el lado norte. Para ello se suman las rocas redondas y cada roca genera una carga igual a la distancia de la roca hasta el punto sur de la plataforma."
   ]
  },
  {
   "cell_type": "code",
   "execution_count": 1,
   "id": "145f0308",
   "metadata": {},
   "outputs": [],
   "source": [
    "import numpy as np"
   ]
  },
  {
   "cell_type": "code",
   "execution_count": 3,
   "id": "82b49b92",
   "metadata": {},
   "outputs": [],
   "source": [
    "def get_input(filename):\n",
    "    rock_map = []\n",
    "    with open(filename) as file:\n",
    "        for line in file:\n",
    "            symbols = [s for s in line.strip()]\n",
    "            rock_map.append(symbols)\n",
    "    return np.array(rock_map)"
   ]
  },
  {
   "cell_type": "code",
   "execution_count": 4,
   "id": "25e30702",
   "metadata": {},
   "outputs": [],
   "source": [
    "def tilt_column(column):\n",
    "    movements = True\n",
    "    while movements:\n",
    "        movements = False\n",
    "        for i in range(1, len(column)):\n",
    "            if column[i - 1] == '.' and column[i] == 'O':\n",
    "                column[i - 1] = 'O'\n",
    "                column[i] = '.'\n",
    "                movements = True\n",
    "    return column"
   ]
  },
  {
   "cell_type": "code",
   "execution_count": 5,
   "id": "0ed72333",
   "metadata": {},
   "outputs": [],
   "source": [
    "def tilt_map(rock_map):\n",
    "    w = rock_map.shape[1]\n",
    "    for i in range(w):\n",
    "        tilt_column(rock_map[:, i])\n",
    "    return rock_map"
   ]
  },
  {
   "cell_type": "code",
   "execution_count": 6,
   "id": "592f3aed",
   "metadata": {},
   "outputs": [],
   "source": [
    "def weigh_rocks(tilted_map):\n",
    "    h = tilted_map.shape[0]\n",
    "    w = tilted_map.shape[1]\n",
    "    \n",
    "    weight = 0\n",
    "    for i in range(h):\n",
    "        rocks = np.count_nonzero(tilted_map[i, :] == 'O')\n",
    "        weight += rocks * (h - i)\n",
    "    return weight"
   ]
  },
  {
   "cell_type": "code",
   "execution_count": 7,
   "id": "9a3d0029",
   "metadata": {},
   "outputs": [
    {
     "data": {
      "text/plain": [
       "136"
      ]
     },
     "execution_count": 7,
     "metadata": {},
     "output_type": "execute_result"
    }
   ],
   "source": [
    "rock_array = get_input('test.txt')\n",
    "tilted_map = tilt_map(rock_array)\n",
    "weight = weigh_rocks(tilted_map)\n",
    "weight"
   ]
  },
  {
   "cell_type": "code",
   "execution_count": 8,
   "id": "546217e4",
   "metadata": {},
   "outputs": [
    {
     "data": {
      "text/plain": [
       "105003"
      ]
     },
     "execution_count": 8,
     "metadata": {},
     "output_type": "execute_result"
    }
   ],
   "source": [
    "rock_array = get_input('input.txt')\n",
    "tilted_map = tilt_map(rock_array)\n",
    "weight = weigh_rocks(tilted_map)\n",
    "weight"
   ]
  },
  {
   "cell_type": "markdown",
   "id": "d537cf93",
   "metadata": {},
   "source": [
    "## Parte 2\n",
    "\n",
    "un ciclo consiste en girar norte, oeste, sur y este, después de cada ciclo las rocas redondeadas se mueven antes de que la plataforma gire en la siguiente dirección. El ciclo se repite 1_000_000_000 veces. Cual es la carga total en el norte al finalizar?"
   ]
  },
  {
   "cell_type": "code",
   "execution_count": 9,
   "id": "2025b2ed",
   "metadata": {},
   "outputs": [],
   "source": [
    "def tilt_chunk(chunk, direction):\n",
    "    movements = True\n",
    "    while movements:\n",
    "        movements = False\n",
    "        if direction == -1:\n",
    "            for i in range(1, len(chunk)):\n",
    "                if chunk[i - 1] == '.' and chunk[i] == 'O':\n",
    "                    chunk[i - 1] = 'O'\n",
    "                    chunk[i] = '.'\n",
    "                    movements = True\n",
    "        elif direction == 1:\n",
    "            for i in range(len(chunk) - 2, -1, -1):\n",
    "                if chunk[i + 1] == '.' and chunk[i] == 'O':\n",
    "                    chunk[i + 1] = 'O'\n",
    "                    chunk[i] = '.'\n",
    "                    movements = True\n",
    "    return chunk"
   ]
  },
  {
   "cell_type": "code",
   "execution_count": 15,
   "id": "3a53a3bf",
   "metadata": {},
   "outputs": [],
   "source": [
    "def tilt_mapd(rock_map, direction):\n",
    "    h = rock_map.shape[0]\n",
    "    w = rock_map.shape[1]\n",
    "    \n",
    "    if direction == 'n':\n",
    "        for i in range(w):\n",
    "            tilt_chunk(rock_map[:, i], -1)\n",
    "    elif direction == 's':\n",
    "        for i in range(w):\n",
    "            tilt_chunk(rock_map[:, i], 1)\n",
    "    elif direction == 'w':\n",
    "        for i in range(h):\n",
    "            tilt_chunk(rock_map[i, :], -1)\n",
    "    elif direction == 'e':\n",
    "        for i in range(h):\n",
    "            tilt_chunk(rock_map[i, :], 1)\n",
    "    return rock_map"
   ]
  },
  {
   "cell_type": "code",
   "execution_count": 16,
   "id": "18148968",
   "metadata": {},
   "outputs": [],
   "source": [
    "def roll(rock_map):\n",
    "    directions = ['n', 'w', 's', 'e']\n",
    "    \n",
    "    for d in directions:\n",
    "        tilt_mapd(rock_map, d)\n",
    "    return rock_map"
   ]
  },
  {
   "cell_type": "code",
   "execution_count": 19,
   "id": "4d9e8939",
   "metadata": {},
   "outputs": [],
   "source": [
    "def tilt_ntimes(rock_array, ntimes):\n",
    "    cache = {}\n",
    "    found = False\n",
    "    first = True\n",
    "    count = 0\n",
    "    \n",
    "    while count < ntimes:\n",
    "        roll(rock_array)\n",
    "        count += 1\n",
    "        \n",
    "        map_bytes = rock_array.tobytes()\n",
    "        found = map_bytes in cache\n",
    "        \n",
    "        if found and first:\n",
    "            size = count - cache[map_bytes]\n",
    "            print(f'longitud del bucle: {size}')\n",
    "            print(f'antes de que empiece el bucle: {count}')\n",
    "            \n",
    "            count += size * ((ntimes - count) // size)\n",
    "            first = False\n",
    "        elif not found:\n",
    "            cache[map_bytes] = count\n",
    "    return rock_array"
   ]
  },
  {
   "cell_type": "code",
   "execution_count": 20,
   "id": "3c7bb297",
   "metadata": {},
   "outputs": [
    {
     "name": "stdout",
     "output_type": "stream",
     "text": [
      "longitud del bucle: 7\n",
      "antes de que empiece el bucle: 10\n"
     ]
    },
    {
     "data": {
      "text/plain": [
       "64"
      ]
     },
     "execution_count": 20,
     "metadata": {},
     "output_type": "execute_result"
    }
   ],
   "source": [
    "rock_array = get_input('test.txt')\n",
    "rock_array = tilt_ntimes(rock_array, 1_000_000_000)\n",
    "weigh_rocks(rock_array)"
   ]
  },
  {
   "cell_type": "code",
   "execution_count": 21,
   "id": "48c18ff2",
   "metadata": {},
   "outputs": [
    {
     "name": "stdout",
     "output_type": "stream",
     "text": [
      "longitud del bucle: 51\n",
      "antes de que empiece el bucle: 132\n"
     ]
    },
    {
     "data": {
      "text/plain": [
       "93742"
      ]
     },
     "execution_count": 21,
     "metadata": {},
     "output_type": "execute_result"
    }
   ],
   "source": [
    "rock_array = get_input('input.txt')\n",
    "rock_array = tilt_ntimes(rock_array, 1_000_000_000)\n",
    "weigh_rocks(rock_array)"
   ]
  },
  {
   "cell_type": "code",
   "execution_count": null,
   "id": "e5605c22",
   "metadata": {},
   "outputs": [],
   "source": []
  }
 ],
 "metadata": {
  "kernelspec": {
   "display_name": "Python 3 (ipykernel)",
   "language": "python",
   "name": "python3"
  },
  "language_info": {
   "codemirror_mode": {
    "name": "ipython",
    "version": 3
   },
   "file_extension": ".py",
   "mimetype": "text/x-python",
   "name": "python",
   "nbconvert_exporter": "python",
   "pygments_lexer": "ipython3",
   "version": "3.8.10"
  }
 },
 "nbformat": 4,
 "nbformat_minor": 5
}
