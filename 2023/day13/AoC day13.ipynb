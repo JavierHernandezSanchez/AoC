{
 "cells": [
  {
   "cell_type": "markdown",
   "id": "0e3a0a44",
   "metadata": {},
   "source": [
    "## Parte 1\n",
    "\n",
    "Buscar líneas de reflexión verticales y horizontales, es decir líneas en las que haya simetría. se debe devolver un resumen con el número de columnas a la izquierda de cada línea de reflexión vertical mas 100 * el número de filas por encima de cada línea de reflexión horizontal."
   ]
  },
  {
   "cell_type": "code",
   "execution_count": 1,
   "id": "05cb335e",
   "metadata": {},
   "outputs": [],
   "source": [
    "import numpy as np"
   ]
  },
  {
   "cell_type": "code",
   "execution_count": 7,
   "id": "c4532e8b",
   "metadata": {},
   "outputs": [],
   "source": [
    "def get_input(filename):\n",
    "    lava_lines = []\n",
    "    with open(filename) as file:\n",
    "        for line in file:\n",
    "            clean_line = line.strip()\n",
    "            lava_lines.append([l for l in clean_line])\n",
    "            \n",
    "    lava_array = []\n",
    "    lava_curr = []\n",
    "    for line in lava_lines:\n",
    "        if line != []:\n",
    "            lava_curr.append(line)\n",
    "        else:\n",
    "            lava_array.append(lava_curr)\n",
    "            lava_curr = []\n",
    "    lava_array.append(lava_curr)\n",
    "    \n",
    "    return lava_array"
   ]
  },
  {
   "cell_type": "code",
   "execution_count": 3,
   "id": "4b59fa1e",
   "metadata": {},
   "outputs": [],
   "source": [
    "def check_cols(lava_map, skip = -1):\n",
    "    count_left = 0\n",
    "    \n",
    "    for i in range(1, lava_map.shape[1]):\n",
    "        if i == skip:\n",
    "            continue\n",
    "            \n",
    "        dizq = i\n",
    "        dder = lava_map.shape[1] - i\n",
    "        distance = min(dizq, dder)\n",
    "        reflexion = True\n",
    "        \n",
    "        for j in range(distance):\n",
    "            if any(lava_map[:, i - j - 1] != lava_map[:, i + j]):\n",
    "                reflexion = False\n",
    "        \n",
    "        if reflexion: \n",
    "            count_left += i\n",
    "            \n",
    "    return count_left"
   ]
  },
  {
   "cell_type": "code",
   "execution_count": 11,
   "id": "974805eb",
   "metadata": {},
   "outputs": [],
   "source": [
    "def check_rows(lava_map, skip = -1):\n",
    "    count_up = 0\n",
    "    \n",
    "    for i in range(1, lava_map.shape[0]):\n",
    "        if i == skip:\n",
    "            continue\n",
    "            \n",
    "        dup = i\n",
    "        ddo = lava_map.shape[0] - i\n",
    "        distance = min(dup, ddo)\n",
    "        reflexion = True\n",
    "        \n",
    "        for j in range(distance):\n",
    "            if any(lava_map[i - j - 1, :] != lava_map[i + j, :]):\n",
    "                reflexion = False\n",
    "        \n",
    "        if reflexion:\n",
    "            count_up += i\n",
    "            \n",
    "    return count_up"
   ]
  },
  {
   "cell_type": "code",
   "execution_count": 12,
   "id": "1f964e94",
   "metadata": {},
   "outputs": [],
   "source": [
    "def check_map(lava_map, skip = (-1, -1)):\n",
    "    rows = check_rows(lava_map, skip[0])\n",
    "    cols = check_cols(lava_map, skip[1])\n",
    "    \n",
    "    return rows, cols"
   ]
  },
  {
   "cell_type": "code",
   "execution_count": 13,
   "id": "29e91e2d",
   "metadata": {},
   "outputs": [],
   "source": [
    "def summarize(lava_array):\n",
    "    sum_rows = 0\n",
    "    sum_cols = 0\n",
    "    \n",
    "    for lm in lava_array:\n",
    "        lava_map = np.chararray((len(lm), len(lm[0])))\n",
    "        \n",
    "        for i, line in enumerate(lm):\n",
    "            lava_map[i, :] = line\n",
    "        r, c = check_map(lava_map)\n",
    "        sum_rows += r\n",
    "        sum_cols += c\n",
    "    return sum_rows * 100 + sum_cols"
   ]
  },
  {
   "cell_type": "code",
   "execution_count": 14,
   "id": "7f2948aa",
   "metadata": {},
   "outputs": [
    {
     "data": {
      "text/plain": [
       "405"
      ]
     },
     "execution_count": 14,
     "metadata": {},
     "output_type": "execute_result"
    }
   ],
   "source": [
    "lava_array = get_input('test.txt')\n",
    "summarization = summarize(lava_array)\n",
    "summarization"
   ]
  },
  {
   "cell_type": "code",
   "execution_count": 15,
   "id": "3410bb51",
   "metadata": {},
   "outputs": [
    {
     "data": {
      "text/plain": [
       "33122"
      ]
     },
     "execution_count": 15,
     "metadata": {},
     "output_type": "execute_result"
    }
   ],
   "source": [
    "lava_array = get_input('input.txt')\n",
    "summarization = summarize(lava_array)\n",
    "summarization"
   ]
  },
  {
   "cell_type": "markdown",
   "id": "1fba59f0",
   "metadata": {},
   "source": [
    "## Parte 2\n",
    "\n",
    "hay exactamente un error en cada mapa, un '.' o un '#' que debería ser del tipo contrario. Esto causa una línea de reflexión distinta.\n",
    "\n",
    "Hay que devolver el mismo resumen con las nuevas líneas de reflexión"
   ]
  },
  {
   "cell_type": "code",
   "execution_count": 20,
   "id": "b0f0ee9a",
   "metadata": {},
   "outputs": [],
   "source": [
    "def fix_schmug(lava_map):\n",
    "    o_r, o_c = check_map(lava_map)\n",
    "    h = lava_map.shape[0]\n",
    "    w = lava_map.shape[1]\n",
    "    \n",
    "    for i in range(h):\n",
    "        for j in range(w):\n",
    "            fixed = lava_map.copy()\n",
    "            if fixed[i][j] == b'#':\n",
    "                fixed[i][j] = b'.'\n",
    "            elif fixed[i][j] == b'.':\n",
    "                fixed[i][j] = b'#'\n",
    "            c, r = check_map(fixed, skip = (o_r, o_c))\n",
    "            if (c, r) != (0, 0):\n",
    "                return c, r\n",
    "    return (0, 0)"
   ]
  },
  {
   "cell_type": "code",
   "execution_count": 21,
   "id": "c24168a3",
   "metadata": {},
   "outputs": [],
   "source": [
    "def summarize_schmug(lava_array):\n",
    "    sum_rows = 0\n",
    "    sum_cols = 0\n",
    "    for lm in lava_array:\n",
    "        lava_map = np.chararray((len(lm), len(lm[0])))\n",
    "        for i, line in enumerate(lm):\n",
    "            lava_map[i, :] = line\n",
    "        r, c = fix_schmug(lava_map)\n",
    "        sum_rows += r\n",
    "        sum_cols += c\n",
    "        \n",
    "    return sum_rows * 100 + sum_cols"
   ]
  },
  {
   "cell_type": "code",
   "execution_count": 22,
   "id": "ec4de68e",
   "metadata": {},
   "outputs": [
    {
     "data": {
      "text/plain": [
       "400"
      ]
     },
     "execution_count": 22,
     "metadata": {},
     "output_type": "execute_result"
    }
   ],
   "source": [
    "lava_array = get_input('test.txt')\n",
    "summarization = summarize_schmug(lava_array)\n",
    "summarization"
   ]
  },
  {
   "cell_type": "code",
   "execution_count": 23,
   "id": "4a6993b3",
   "metadata": {},
   "outputs": [
    {
     "data": {
      "text/plain": [
       "32312"
      ]
     },
     "execution_count": 23,
     "metadata": {},
     "output_type": "execute_result"
    }
   ],
   "source": [
    "lava_array = get_input('input.txt')\n",
    "summarization = summarize_schmug(lava_array)\n",
    "summarization"
   ]
  },
  {
   "cell_type": "code",
   "execution_count": null,
   "id": "e31fe2a9",
   "metadata": {},
   "outputs": [],
   "source": []
  }
 ],
 "metadata": {
  "kernelspec": {
   "display_name": "Python 3 (ipykernel)",
   "language": "python",
   "name": "python3"
  },
  "language_info": {
   "codemirror_mode": {
    "name": "ipython",
    "version": 3
   },
   "file_extension": ".py",
   "mimetype": "text/x-python",
   "name": "python",
   "nbconvert_exporter": "python",
   "pygments_lexer": "ipython3",
   "version": "3.8.10"
  }
 },
 "nbformat": 4,
 "nbformat_minor": 5
}
