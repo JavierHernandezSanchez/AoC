{
 "cells": [
  {
   "cell_type": "markdown",
   "id": "d9c8332a",
   "metadata": {},
   "source": [
    "## Parte 1\n",
    "tenemos una lista de rasca y gana con [numeros ganadores] | [numeros de la tarjeta], el primer acierto vale 1 y cada acierto extra dobla esta cantidad.\n",
    "sumar los puntos acumulados totales"
   ]
  },
  {
   "cell_type": "code",
   "execution_count": 4,
   "id": "ad17e08c",
   "metadata": {},
   "outputs": [],
   "source": [
    "def scratch_points(filename):\n",
    "    acum = 0\n",
    "    with open(filename) as file:\n",
    "        for line in file:\n",
    "            numbers = line.split(':')[1]\n",
    "            win_have = numbers.split('|')\n",
    "            win = win_have[0]\n",
    "            have = win_have[1]\n",
    "            winint = [int(i) for i in win.split()]\n",
    "            havint = [int(i) for i in have.split()]\n",
    "            \n",
    "            both = set(winint).intersection(havint)\n",
    "            matches = len(both)\n",
    "            \n",
    "            if matches >= 1:\n",
    "                points = 2**(matches - 1)\n",
    "            else:\n",
    "                points = 0\n",
    "                \n",
    "            acum += points\n",
    "    return acum"
   ]
  },
  {
   "cell_type": "code",
   "execution_count": 5,
   "id": "c2761550",
   "metadata": {},
   "outputs": [
    {
     "data": {
      "text/plain": [
       "13"
      ]
     },
     "execution_count": 5,
     "metadata": {},
     "output_type": "execute_result"
    }
   ],
   "source": [
    "scratch_points('test.txt')"
   ]
  },
  {
   "cell_type": "code",
   "execution_count": 6,
   "id": "d8f6b0d4",
   "metadata": {},
   "outputs": [
    {
     "data": {
      "text/plain": [
       "18519"
      ]
     },
     "execution_count": 6,
     "metadata": {},
     "output_type": "execute_result"
    }
   ],
   "source": [
    "scratch_points('input.txt')"
   ]
  },
  {
   "cell_type": "markdown",
   "id": "b66381e8",
   "metadata": {},
   "source": [
    "## Parte 2\n",
    "\n",
    "las cartas hacen ganar otras cartas igual al número de aciertos. En concreto ganas cartas siguientes a la jugada, por ejemplo la carta 10 con 5 aciertos ganará 11, 12,13, 14 y 15.\n",
    "las cartas ganadas siguen jugando y acumulando copias.\n",
    "\n",
    "con cuantas cartas se termina la partida?"
   ]
  },
  {
   "cell_type": "code",
   "execution_count": 7,
   "id": "4d1b9ab3",
   "metadata": {},
   "outputs": [],
   "source": [
    "def scratch_cards(filename):\n",
    "    point_table = []\n",
    "    with open(filename) as file:\n",
    "        for line in file:\n",
    "            numbers = line.split(':')[1]\n",
    "            win_have = numbers.split('|')\n",
    "            win = win_have[0]\n",
    "            have = win_have[1]\n",
    "            \n",
    "            winint = [int(i) for i in win.split()]\n",
    "            havint = [int(i) for i in have.split()]\n",
    "            \n",
    "            both = set(winint).intersection(havint)\n",
    "            matches = len(both)\n",
    "            point_table.append(matches)\n",
    "            \n",
    "    deck = [[i, 1] for i in range(len(point_table))]\n",
    "    \n",
    "    count = 0\n",
    "    for i in range(len(deck)):\n",
    "        for k in range(deck[i][1]):\n",
    "            count += 1\n",
    "            won = point_table[i]\n",
    "            for j in range(won):\n",
    "                deck[i + j + 1][1] = deck[i + j + 1][1] + 1\n",
    "    return count"
   ]
  },
  {
   "cell_type": "code",
   "execution_count": 8,
   "id": "e015c6e5",
   "metadata": {},
   "outputs": [
    {
     "data": {
      "text/plain": [
       "30"
      ]
     },
     "execution_count": 8,
     "metadata": {},
     "output_type": "execute_result"
    }
   ],
   "source": [
    "scratch_cards('test.txt')"
   ]
  },
  {
   "cell_type": "code",
   "execution_count": 9,
   "id": "194aaffd",
   "metadata": {},
   "outputs": [
    {
     "data": {
      "text/plain": [
       "11787590"
      ]
     },
     "execution_count": 9,
     "metadata": {},
     "output_type": "execute_result"
    }
   ],
   "source": [
    "scratch_cards('input.txt')"
   ]
  },
  {
   "cell_type": "code",
   "execution_count": null,
   "id": "9afcbaf2",
   "metadata": {},
   "outputs": [],
   "source": []
  }
 ],
 "metadata": {
  "kernelspec": {
   "display_name": "Python 3 (ipykernel)",
   "language": "python",
   "name": "python3"
  },
  "language_info": {
   "codemirror_mode": {
    "name": "ipython",
    "version": 3
   },
   "file_extension": ".py",
   "mimetype": "text/x-python",
   "name": "python",
   "nbconvert_exporter": "python",
   "pygments_lexer": "ipython3",
   "version": "3.8.10"
  }
 },
 "nbformat": 4,
 "nbformat_minor": 5
}
