{
 "cells": [
  {
   "cell_type": "markdown",
   "id": "7942b1a5",
   "metadata": {},
   "source": [
    "## Part 1\n",
    "given a number of cubes of each color we have to find out which games are possible and wich are not"
   ]
  },
  {
   "cell_type": "code",
   "execution_count": 1,
   "id": "1129b198",
   "metadata": {},
   "outputs": [],
   "source": [
    "RED = 12\n",
    "GREEN = 13\n",
    "BLUE = 14"
   ]
  },
  {
   "cell_type": "code",
   "execution_count": 33,
   "id": "7318919b",
   "metadata": {},
   "outputs": [],
   "source": [
    "def solve(filename):    \n",
    "    with open(filename) as f:\n",
    "        acum_games = 0\n",
    "        for line in f:\n",
    "            line_parts = line.split(':')\n",
    "            game_parts = line_parts[0].split()\n",
    "            game_id = game_parts[1]\n",
    "            sets_parts = line_parts[1].split(';')\n",
    "            \n",
    "            max_red = 0\n",
    "            max_green = 0\n",
    "            max_blue = 0\n",
    "            \n",
    "            for x in sets_parts:\n",
    "                sample_parts = x.split(',')\n",
    "                for sample in sample_parts:\n",
    "                    cubes_parts = sample.strip().split()\n",
    "\n",
    "                    if cubes_parts[1] == 'red' and int(cubes_parts[0]) > max_red:\n",
    "                        max_red = int(cubes_parts[0])\n",
    "                    elif cubes_parts[1] == 'green' and int(cubes_parts[0]) > max_green:\n",
    "                        max_green = int(cubes_parts[0])\n",
    "                    elif cubes_parts[1] == 'blue' and int(cubes_parts[0]) > max_blue:\n",
    "                        max_blue = int(cubes_parts[0])\n",
    "            if max_red <= RED and max_green <= GREEN and max_blue <= BLUE:\n",
    "                acum_games += int(game_id)\n",
    "    return acum_games"
   ]
  },
  {
   "cell_type": "code",
   "execution_count": 34,
   "id": "36a65881",
   "metadata": {},
   "outputs": [
    {
     "data": {
      "text/plain": [
       "8"
      ]
     },
     "execution_count": 34,
     "metadata": {},
     "output_type": "execute_result"
    }
   ],
   "source": [
    "solve('test.txt')"
   ]
  },
  {
   "cell_type": "code",
   "execution_count": 35,
   "id": "144d3223",
   "metadata": {},
   "outputs": [
    {
     "data": {
      "text/plain": [
       "2164"
      ]
     },
     "execution_count": 35,
     "metadata": {},
     "output_type": "execute_result"
    }
   ],
   "source": [
    "solve('input.txt')"
   ]
  },
  {
   "cell_type": "code",
   "execution_count": 32,
   "id": "1be70ba6",
   "metadata": {},
   "outputs": [
    {
     "data": {
      "text/plain": [
       "2164"
      ]
     },
     "execution_count": 32,
     "metadata": {},
     "output_type": "execute_result"
    }
   ],
   "source": [
    "acum_games"
   ]
  },
  {
   "cell_type": "markdown",
   "id": "af208b32",
   "metadata": {},
   "source": [
    "## Parte 2\n",
    "Encontrar el mínimo número de cubos de cada color que podrían haber hecho posibles todos los juegos. devuelve red * green * blue"
   ]
  },
  {
   "cell_type": "code",
   "execution_count": 36,
   "id": "2e514b6f",
   "metadata": {},
   "outputs": [],
   "source": [
    "def power_set(line):\n",
    "    line_parts = line.split(':')\n",
    "    game_parts = line_parts[0].split()\n",
    "    game_id = game_parts[1]\n",
    "    sets_parts = line_parts[1].split(';')\n",
    "    \n",
    "    max_red = 0\n",
    "    max_green = 0\n",
    "    max_blue = 0\n",
    "    \n",
    "    for x in sets_parts:\n",
    "        sample_parts = x.split(',')\n",
    "        for sample in sample_parts:\n",
    "            cubes_parts = sample.strip().split()\n",
    "            if cubes_parts[1] == 'red' and int(cubes_parts[0]) > max_red:\n",
    "                max_red = int(cubes_parts[0])\n",
    "            elif cubes_parts[1] == 'green' and int(cubes_parts[0]) > max_green:\n",
    "                max_green = int(cubes_parts[0])\n",
    "            elif cubes_parts[1] == 'blue' and int(cubes_parts[0]) > max_blue:\n",
    "                max_blue = int(cubes_parts[0])\n",
    "    return max_red * max_green * max_blue"
   ]
  },
  {
   "cell_type": "code",
   "execution_count": 38,
   "id": "c022ecb6",
   "metadata": {},
   "outputs": [
    {
     "data": {
      "text/plain": [
       "2286"
      ]
     },
     "execution_count": 38,
     "metadata": {},
     "output_type": "execute_result"
    }
   ],
   "source": [
    "with open('test.txt') as f:\n",
    "    acum_games = 0\n",
    "    for line in f:\n",
    "        line_power = power_set(line)\n",
    "        acum_games += line_power\n",
    "acum_games"
   ]
  },
  {
   "cell_type": "code",
   "execution_count": 39,
   "id": "d41930e2",
   "metadata": {},
   "outputs": [
    {
     "data": {
      "text/plain": [
       "69929"
      ]
     },
     "execution_count": 39,
     "metadata": {},
     "output_type": "execute_result"
    }
   ],
   "source": [
    "with open('input.txt') as f:\n",
    "    acum_games = 0\n",
    "    for line in f:\n",
    "        line_power = power_set(line)\n",
    "        acum_games += line_power\n",
    "acum_games"
   ]
  },
  {
   "cell_type": "code",
   "execution_count": null,
   "id": "8631f3a4",
   "metadata": {},
   "outputs": [],
   "source": []
  }
 ],
 "metadata": {
  "kernelspec": {
   "display_name": "Python 3 (ipykernel)",
   "language": "python",
   "name": "python3"
  },
  "language_info": {
   "codemirror_mode": {
    "name": "ipython",
    "version": 3
   },
   "file_extension": ".py",
   "mimetype": "text/x-python",
   "name": "python",
   "nbconvert_exporter": "python",
   "pygments_lexer": "ipython3",
   "version": "3.8.10"
  }
 },
 "nbformat": 4,
 "nbformat_minor": 5
}
